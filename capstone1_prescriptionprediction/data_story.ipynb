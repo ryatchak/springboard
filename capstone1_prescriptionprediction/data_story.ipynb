{
 "cells": [
  {
   "cell_type": "code",
   "execution_count": null,
   "metadata": {},
   "outputs": [],
   "source": [
    "import pandas as pd \n",
    "import matplotlib.pyplot as plt\n",
    "import numpy as np\n",
    "import seaborn as sns\n",
    "import bs4\n",
    "import requests\n",
    "from collections import defaultdict\n",
    "from functools import reduce\n",
    "%matplotlib inline\n",
    "\n",
    "file_opioids = 'opioids.csv'\n",
    "file_overdoses = 'overdoses.csv'\n",
    "file_prescribers = 'prescriber-info.csv'"
   ]
  },
  {
   "cell_type": "code",
   "execution_count": null,
   "metadata": {},
   "outputs": [],
   "source": [
    "opioids = pd.read_csv(file_opioids)\n",
    "overdoses = pd.read_csv(file_overdoses)\n",
    "prescribers = pd.read_csv(file_prescribers)"
   ]
  },
  {
   "cell_type": "markdown",
   "metadata": {},
   "source": [
    "### A few small cleaning tasks. "
   ]
  },
  {
   "cell_type": "code",
   "execution_count": null,
   "metadata": {},
   "outputs": [],
   "source": [
    "overdoses = overdoses.set_index('State')\n",
    "overdoses['Population']=overdoses['Population'].str.replace(',', '')\n",
    "overdoses['Deaths']=overdoses['Deaths'].str.replace(',','')\n",
    "overdoses[['Population', 'Deaths']]=overdoses[['Population','Deaths']].apply(pd.to_numeric)\n",
    "\n",
    "# rename column because it's confusing\n",
    "prescribers= prescribers.rename({'State':'Abbrev'}, axis=1);\n",
    "\n",
    "# add prescriber information to overdose df \n",
    "prescribers_per_state = []\n",
    "for index, row in overdoses.iterrows(): \n",
    "    prescribers_per_state.append(prescribers.loc[prescribers['Abbrev']==row['Abbrev']].shape[0])\n",
    "overdoses['Prescribers'] = prescribers_per_state\n",
    "\n",
    "# prescribers per capita\n",
    "overdoses['Prescribers Per Capita'] = overdoses['Prescribers']/overdoses['Population']"
   ]
  },
  {
   "cell_type": "markdown",
   "metadata": {},
   "source": [
    "# The Data Story\n",
    "\n",
    "## Introduction: the dataset. \n",
    "\n",
    "## Questions \n",
    "1. Is the opioid overdose rate the same everywhere, or does it depend on the state? Are there US regions/divisions that are associated with a higher rate of overdose? \n",
    "2. Is the overdose rate related to the number of prescribers per capita? \n",
    "3. Which types of providers prescribe the most opioids? Why? \n",
    "4. Can we characterize provider specialties based on the drugs they prescribe in a year?"
   ]
  },
  {
   "cell_type": "code",
   "execution_count": null,
   "metadata": {},
   "outputs": [],
   "source": []
  }
 ],
 "metadata": {
  "kernelspec": {
   "display_name": "Python 3",
   "language": "python",
   "name": "python3"
  },
  "language_info": {
   "codemirror_mode": {
    "name": "ipython",
    "version": 3
   },
   "file_extension": ".py",
   "mimetype": "text/x-python",
   "name": "python",
   "nbconvert_exporter": "python",
   "pygments_lexer": "ipython3",
   "version": "3.6.6"
  }
 },
 "nbformat": 4,
 "nbformat_minor": 2
}
