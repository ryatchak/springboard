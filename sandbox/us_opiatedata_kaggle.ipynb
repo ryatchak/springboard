{
 "cells": [
  {
   "cell_type": "code",
   "execution_count": 145,
   "metadata": {},
   "outputs": [],
   "source": [
    "import pandas as pd \n",
    "import matplotlib.pyplot as plt\n",
    "import numpy as np\n",
    "import seaborn as sns\n",
    "%matplotlib inline\n",
    "\n",
    "file_opioids = 'opioids.csv'\n",
    "file_overdoses = 'overdoses.csv'\n",
    "file_prescribers = 'prescriber-info.csv'"
   ]
  },
  {
   "cell_type": "code",
   "execution_count": 146,
   "metadata": {},
   "outputs": [],
   "source": [
    "opioids = pd.read_csv(file_opioids)\n",
    "overdoses = pd.read_csv(file_overdoses)\n",
    "prescribers = pd.read_csv(file_prescribers)"
   ]
  },
  {
   "cell_type": "code",
   "execution_count": 147,
   "metadata": {
    "scrolled": true
   },
   "outputs": [],
   "source": [
    "overdoses = overdoses.set_index('State')"
   ]
  },
  {
   "cell_type": "code",
   "execution_count": 148,
   "metadata": {},
   "outputs": [],
   "source": [
    "overdoses['Population']=overdoses['Population'].str.replace(',', '')\n",
    "overdoses['Deaths']=overdoses['Deaths'].str.replace(',','')"
   ]
  },
  {
   "cell_type": "code",
   "execution_count": 149,
   "metadata": {
    "scrolled": true
   },
   "outputs": [],
   "source": [
    "overdoses[['Population', 'Deaths']]=overdoses[['Population','Deaths']].apply(pd.to_numeric)"
   ]
  },
  {
   "cell_type": "code",
   "execution_count": 150,
   "metadata": {},
   "outputs": [],
   "source": [
    "max_deaths = overdoses['Deaths'].max()"
   ]
  },
  {
   "cell_type": "code",
   "execution_count": 151,
   "metadata": {},
   "outputs": [
    {
     "name": "stdout",
     "output_type": "stream",
     "text": [
      "               Population  Deaths Abbrev  Deaths Per Capita\n",
      "State                                                      \n",
      "West Virginia     1854304     627     WV           0.000338\n",
      "            Population  Deaths Abbrev  Deaths Per Capita\n",
      "State                                                   \n",
      "California    38332521    4521     CA           0.000118\n",
      "count      50.000000\n",
      "mean      939.180000\n",
      "std       898.195486\n",
      "min        43.000000\n",
      "25%       281.000000\n",
      "50%       712.000000\n",
      "75%      1209.750000\n",
      "max      4521.000000\n",
      "Name: Deaths, dtype: float64\n",
      "count    50.000000\n",
      "mean      0.000159\n",
      "std       0.000055\n",
      "min       0.000059\n",
      "25%       0.000120\n",
      "50%       0.000149\n",
      "75%       0.000191\n",
      "max       0.000338\n",
      "Name: Deaths Per Capita, dtype: float64\n"
     ]
    }
   ],
   "source": [
    "# per capita measure might be better \n",
    "overdoses['Deaths Per Capita'] = overdoses['Deaths']/ overdoses['Population']\n",
    "max_deaths_per_capita=overdoses['Deaths Per Capita'].max()\n",
    "print(overdoses.loc[overdoses['Deaths Per Capita']==max_deaths_per_capita])\n",
    "print(overdoses.loc[overdoses['Deaths']==max_deaths])\n",
    "\n",
    "print(overdoses['Deaths'].describe())\n",
    "print(overdoses['Deaths Per Capita'].describe())"
   ]
  },
  {
   "cell_type": "code",
   "execution_count": 152,
   "metadata": {},
   "outputs": [],
   "source": [
    "# set index to prescriber identification number\n",
    "prescribers=prescribers.set_index('NPI')"
   ]
  },
  {
   "cell_type": "code",
   "execution_count": 153,
   "metadata": {
    "scrolled": true
   },
   "outputs": [
    {
     "name": "stdout",
     "output_type": "stream",
     "text": [
      "               Population  Deaths Abbrev  Deaths Per Capita\n",
      "State                                                      \n",
      "Virginia          8260405     980     VA           0.000119\n",
      "Washington        6971406     979     WA           0.000140\n",
      "West Virginia     1854304     627     WV           0.000338\n",
      "Wisconsin         5742713     853     WI           0.000149\n",
      "Wyoming            582658     109     WY           0.000187\n",
      "           Gender State Credentials           Specialty  ABILIFY  \\\n",
      "NPI                                                                \n",
      "1619019353      F    WA        M.D.     Family Practice        0   \n",
      "1780693671      F    MI          DO   Internal Medicine        0   \n",
      "1346270956      M    AZ          MD  Emergency Medicine        0   \n",
      "1023116514      F    IN        M.D.     Family Practice        0   \n",
      "1518913672      M    NY        M.D.         Dermatology        0   \n",
      "\n",
      "            ACETAMINOPHEN.CODEINE  ACYCLOVIR  ADVAIR.DISKUS  AGGRENOX  \\\n",
      "NPI                                                                     \n",
      "1619019353                     12          0              0         0   \n",
      "1780693671                     15          0              0         0   \n",
      "1346270956                      0          0              0         0   \n",
      "1023116514                      0          0              0         0   \n",
      "1518913672                      0          0              0         0   \n",
      "\n",
      "            ALENDRONATE.SODIUM        ...          VERAPAMIL.ER  VESICARE  \\\n",
      "NPI                                   ...                                   \n",
      "1619019353                  46        ...                     0         0   \n",
      "1780693671                   0        ...                     0         0   \n",
      "1346270956                   0        ...                     0         0   \n",
      "1023116514                   0        ...                     0         0   \n",
      "1518913672                   0        ...                     0         0   \n",
      "\n",
      "            VOLTAREN  VYTORIN  WARFARIN.SODIUM  XARELTO  ZETIA  \\\n",
      "NPI                                                              \n",
      "1619019353         0        0               39        0      0   \n",
      "1780693671         0        0               20        0      0   \n",
      "1346270956         0        0                0        0      0   \n",
      "1023116514         0        0                0        0      0   \n",
      "1518913672         0        0                0        0      0   \n",
      "\n",
      "            ZIPRASIDONE.HCL  ZOLPIDEM.TARTRATE  Opioid.Prescriber  \n",
      "NPI                                                                \n",
      "1619019353                0                  0                  1  \n",
      "1780693671                0                  0                  1  \n",
      "1346270956                0                  0                  1  \n",
      "1023116514                0                  0                  1  \n",
      "1518913672                0                  0                  0  \n",
      "\n",
      "[5 rows x 255 columns]\n"
     ]
    }
   ],
   "source": [
    "print(overdoses.tail())\n",
    "print(prescribers.tail())"
   ]
  },
  {
   "cell_type": "code",
   "execution_count": 154,
   "metadata": {},
   "outputs": [],
   "source": [
    "# rename column because it's confusing\n",
    "prescribers= prescribers.rename({'State':'Abbrev'}, axis=1);"
   ]
  },
  {
   "cell_type": "code",
   "execution_count": 155,
   "metadata": {},
   "outputs": [],
   "source": [
    "# add prescriber information to overdose df \n",
    "prescribers_per_state = []\n",
    "for index, row in overdoses.iterrows(): \n",
    "    prescribers_per_state.append(prescribers.loc[prescribers['Abbrev']==row['Abbrev']].shape[0])\n",
    "overdoses['Prescribers'] = prescribers_per_state"
   ]
  },
  {
   "cell_type": "code",
   "execution_count": 157,
   "metadata": {},
   "outputs": [],
   "source": [
    "# prescribers per capita\n",
    "overdoses['Prescribers Per Capita'] = overdoses['Prescribers']/overdoses['Population']"
   ]
  },
  {
   "cell_type": "code",
   "execution_count": 158,
   "metadata": {},
   "outputs": [
    {
     "data": {
      "text/html": [
       "<div>\n",
       "<style scoped>\n",
       "    .dataframe tbody tr th:only-of-type {\n",
       "        vertical-align: middle;\n",
       "    }\n",
       "\n",
       "    .dataframe tbody tr th {\n",
       "        vertical-align: top;\n",
       "    }\n",
       "\n",
       "    .dataframe thead th {\n",
       "        text-align: right;\n",
       "    }\n",
       "</style>\n",
       "<table border=\"1\" class=\"dataframe\">\n",
       "  <thead>\n",
       "    <tr style=\"text-align: right;\">\n",
       "      <th></th>\n",
       "      <th>Population</th>\n",
       "      <th>Deaths</th>\n",
       "      <th>Abbrev</th>\n",
       "      <th>Deaths Per Capita</th>\n",
       "      <th>Prescribers</th>\n",
       "      <th>Prescribers Per Capita</th>\n",
       "    </tr>\n",
       "    <tr>\n",
       "      <th>State</th>\n",
       "      <th></th>\n",
       "      <th></th>\n",
       "      <th></th>\n",
       "      <th></th>\n",
       "      <th></th>\n",
       "      <th></th>\n",
       "    </tr>\n",
       "  </thead>\n",
       "  <tbody>\n",
       "    <tr>\n",
       "      <th>Virginia</th>\n",
       "      <td>8260405</td>\n",
       "      <td>980</td>\n",
       "      <td>VA</td>\n",
       "      <td>0.000119</td>\n",
       "      <td>568</td>\n",
       "      <td>0.000069</td>\n",
       "    </tr>\n",
       "    <tr>\n",
       "      <th>Washington</th>\n",
       "      <td>6971406</td>\n",
       "      <td>979</td>\n",
       "      <td>WA</td>\n",
       "      <td>0.000140</td>\n",
       "      <td>578</td>\n",
       "      <td>0.000083</td>\n",
       "    </tr>\n",
       "    <tr>\n",
       "      <th>West Virginia</th>\n",
       "      <td>1854304</td>\n",
       "      <td>627</td>\n",
       "      <td>WV</td>\n",
       "      <td>0.000338</td>\n",
       "      <td>199</td>\n",
       "      <td>0.000107</td>\n",
       "    </tr>\n",
       "    <tr>\n",
       "      <th>Wisconsin</th>\n",
       "      <td>5742713</td>\n",
       "      <td>853</td>\n",
       "      <td>WI</td>\n",
       "      <td>0.000149</td>\n",
       "      <td>498</td>\n",
       "      <td>0.000087</td>\n",
       "    </tr>\n",
       "    <tr>\n",
       "      <th>Wyoming</th>\n",
       "      <td>582658</td>\n",
       "      <td>109</td>\n",
       "      <td>WY</td>\n",
       "      <td>0.000187</td>\n",
       "      <td>38</td>\n",
       "      <td>0.000065</td>\n",
       "    </tr>\n",
       "  </tbody>\n",
       "</table>\n",
       "</div>"
      ],
      "text/plain": [
       "               Population  Deaths Abbrev  Deaths Per Capita  Prescribers  \\\n",
       "State                                                                      \n",
       "Virginia          8260405     980     VA           0.000119          568   \n",
       "Washington        6971406     979     WA           0.000140          578   \n",
       "West Virginia     1854304     627     WV           0.000338          199   \n",
       "Wisconsin         5742713     853     WI           0.000149          498   \n",
       "Wyoming            582658     109     WY           0.000187           38   \n",
       "\n",
       "               Prescribers Per Capita  \n",
       "State                                  \n",
       "Virginia                     0.000069  \n",
       "Washington                   0.000083  \n",
       "West Virginia                0.000107  \n",
       "Wisconsin                    0.000087  \n",
       "Wyoming                      0.000065  "
      ]
     },
     "execution_count": 158,
     "metadata": {},
     "output_type": "execute_result"
    }
   ],
   "source": [
    "overdoses.tail()"
   ]
  },
  {
   "cell_type": "code",
   "execution_count": 159,
   "metadata": {},
   "outputs": [
    {
     "name": "stdout",
     "output_type": "stream",
     "text": [
      "               Population  Deaths Abbrev  Deaths Per Capita  Prescribers  \\\n",
      "State                                                                      \n",
      "West Virginia     1854304     627     WV           0.000338          199   \n",
      "\n",
      "               Prescribers Per Capita  \n",
      "State                                  \n",
      "West Virginia                0.000107  \n",
      "            Population  Deaths Abbrev  Deaths Per Capita  Prescribers  \\\n",
      "State                                                                   \n",
      "California    38332521    4521     CA           0.000118         2562   \n",
      "\n",
      "            Prescribers Per Capita  \n",
      "State                               \n",
      "California                0.000067  \n"
     ]
    }
   ],
   "source": [
    "print(overdoses.loc[overdoses['Deaths Per Capita']==max_deaths_per_capita])\n",
    "print(overdoses.loc[overdoses['Deaths']==max_deaths])"
   ]
  },
  {
   "cell_type": "code",
   "execution_count": null,
   "metadata": {},
   "outputs": [],
   "source": []
  }
 ],
 "metadata": {
  "kernelspec": {
   "display_name": "Python 3",
   "language": "python",
   "name": "python3"
  },
  "language_info": {
   "codemirror_mode": {
    "name": "ipython",
    "version": 3
   },
   "file_extension": ".py",
   "mimetype": "text/x-python",
   "name": "python",
   "nbconvert_exporter": "python",
   "pygments_lexer": "ipython3",
   "version": "3.6.4"
  }
 },
 "nbformat": 4,
 "nbformat_minor": 2
}
