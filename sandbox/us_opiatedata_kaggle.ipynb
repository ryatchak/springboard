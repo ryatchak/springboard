{
 "cells": [
  {
   "cell_type": "markdown",
   "metadata": {},
   "source": [
    "# Initialization "
   ]
  },
  {
   "cell_type": "code",
   "execution_count": 1,
   "metadata": {},
   "outputs": [],
   "source": [
    "import pandas as pd \n",
    "import matplotlib.pyplot as plt\n",
    "import numpy as np\n",
    "import seaborn as sns\n",
    "import bs4\n",
    "import requests\n",
    "from collections import defaultdict\n",
    "%matplotlib inline\n",
    "\n",
    "file_opioids = 'opioids.csv'\n",
    "file_overdoses = 'overdoses.csv'\n",
    "file_prescribers = 'prescriber-info.csv'"
   ]
  },
  {
   "cell_type": "code",
   "execution_count": 2,
   "metadata": {},
   "outputs": [],
   "source": [
    "opioids = pd.read_csv(file_opioids)\n",
    "overdoses = pd.read_csv(file_overdoses)\n",
    "prescribers = pd.read_csv(file_prescribers)"
   ]
  },
  {
   "cell_type": "code",
   "execution_count": 3,
   "metadata": {
    "scrolled": true
   },
   "outputs": [],
   "source": [
    "overdoses = overdoses.set_index('State')"
   ]
  },
  {
   "cell_type": "code",
   "execution_count": 4,
   "metadata": {},
   "outputs": [],
   "source": [
    "overdoses['Population']=overdoses['Population'].str.replace(',', '')\n",
    "overdoses['Deaths']=overdoses['Deaths'].str.replace(',','')"
   ]
  },
  {
   "cell_type": "code",
   "execution_count": 5,
   "metadata": {
    "scrolled": true
   },
   "outputs": [],
   "source": [
    "overdoses[['Population', 'Deaths']]=overdoses[['Population','Deaths']].apply(pd.to_numeric)"
   ]
  },
  {
   "cell_type": "code",
   "execution_count": 6,
   "metadata": {},
   "outputs": [],
   "source": [
    "max_deaths = overdoses['Deaths'].max()"
   ]
  },
  {
   "cell_type": "code",
   "execution_count": 7,
   "metadata": {},
   "outputs": [
    {
     "name": "stdout",
     "output_type": "stream",
     "text": [
      "Max Deaths Per Capita\n",
      "               Population  Deaths Abbrev  Deaths Per Capita\n",
      "State                                                      \n",
      "West Virginia     1854304     627     WV           0.000338\n",
      "----------------------------------------------------------------------------------------------------\n",
      "Max Deaths\n",
      "            Population  Deaths Abbrev  Deaths Per Capita\n",
      "State                                                   \n",
      "California    38332521    4521     CA           0.000118\n",
      "----------------------------------------------------------------------------------------------------\n",
      "Min Deaths Per Capita\n",
      "              Population  Deaths Abbrev  Deaths Per Capita\n",
      "State                                                     \n",
      "North Dakota      723393      43     ND           0.000059\n",
      "----------------------------------------------------------------------------------------------------\n",
      "Descriptions\n",
      "count      50.000000\n",
      "mean      939.180000\n",
      "std       898.195486\n",
      "min        43.000000\n",
      "25%       281.000000\n",
      "50%       712.000000\n",
      "75%      1209.750000\n",
      "max      4521.000000\n",
      "Name: Deaths, dtype: float64\n",
      "count    50.000000\n",
      "mean      0.000159\n",
      "std       0.000055\n",
      "min       0.000059\n",
      "25%       0.000120\n",
      "50%       0.000149\n",
      "75%       0.000191\n",
      "max       0.000338\n",
      "Name: Deaths Per Capita, dtype: float64\n"
     ]
    }
   ],
   "source": [
    "# per capita measure might be better \n",
    "overdoses['Deaths Per Capita'] = overdoses['Deaths']/ overdoses['Population']\n",
    "max_deaths_per_capita=overdoses['Deaths Per Capita'].max()\n",
    "min_deaths_per_capita=overdoses['Deaths Per Capita'].min()\n",
    "print('Max Deaths Per Capita')\n",
    "print(overdoses.loc[overdoses['Deaths Per Capita']==max_deaths_per_capita])\n",
    "print('-'*100)\n",
    "print('Max Deaths')\n",
    "print(overdoses.loc[overdoses['Deaths']==max_deaths])\n",
    "print('-'*100)\n",
    "print('Min Deaths Per Capita')\n",
    "print(overdoses.loc[overdoses['Deaths Per Capita']==min_deaths_per_capita])\n",
    "print('-'*100)\n",
    "print('Descriptions')\n",
    "print(overdoses['Deaths'].describe())\n",
    "print(overdoses['Deaths Per Capita'].describe())"
   ]
  },
  {
   "cell_type": "code",
   "execution_count": 8,
   "metadata": {},
   "outputs": [],
   "source": [
    "# set index to prescriber identification number\n",
    "prescribers=prescribers.set_index('NPI')"
   ]
  },
  {
   "cell_type": "code",
   "execution_count": 9,
   "metadata": {
    "scrolled": true
   },
   "outputs": [
    {
     "data": {
      "text/html": [
       "<div>\n",
       "<style scoped>\n",
       "    .dataframe tbody tr th:only-of-type {\n",
       "        vertical-align: middle;\n",
       "    }\n",
       "\n",
       "    .dataframe tbody tr th {\n",
       "        vertical-align: top;\n",
       "    }\n",
       "\n",
       "    .dataframe thead th {\n",
       "        text-align: right;\n",
       "    }\n",
       "</style>\n",
       "<table border=\"1\" class=\"dataframe\">\n",
       "  <thead>\n",
       "    <tr style=\"text-align: right;\">\n",
       "      <th></th>\n",
       "      <th>Population</th>\n",
       "      <th>Deaths</th>\n",
       "      <th>Abbrev</th>\n",
       "      <th>Deaths Per Capita</th>\n",
       "    </tr>\n",
       "    <tr>\n",
       "      <th>State</th>\n",
       "      <th></th>\n",
       "      <th></th>\n",
       "      <th></th>\n",
       "      <th></th>\n",
       "    </tr>\n",
       "  </thead>\n",
       "  <tbody>\n",
       "    <tr>\n",
       "      <th>Virginia</th>\n",
       "      <td>8260405</td>\n",
       "      <td>980</td>\n",
       "      <td>VA</td>\n",
       "      <td>0.000119</td>\n",
       "    </tr>\n",
       "    <tr>\n",
       "      <th>Washington</th>\n",
       "      <td>6971406</td>\n",
       "      <td>979</td>\n",
       "      <td>WA</td>\n",
       "      <td>0.000140</td>\n",
       "    </tr>\n",
       "    <tr>\n",
       "      <th>West Virginia</th>\n",
       "      <td>1854304</td>\n",
       "      <td>627</td>\n",
       "      <td>WV</td>\n",
       "      <td>0.000338</td>\n",
       "    </tr>\n",
       "    <tr>\n",
       "      <th>Wisconsin</th>\n",
       "      <td>5742713</td>\n",
       "      <td>853</td>\n",
       "      <td>WI</td>\n",
       "      <td>0.000149</td>\n",
       "    </tr>\n",
       "    <tr>\n",
       "      <th>Wyoming</th>\n",
       "      <td>582658</td>\n",
       "      <td>109</td>\n",
       "      <td>WY</td>\n",
       "      <td>0.000187</td>\n",
       "    </tr>\n",
       "  </tbody>\n",
       "</table>\n",
       "</div>"
      ],
      "text/plain": [
       "               Population  Deaths Abbrev  Deaths Per Capita\n",
       "State                                                      \n",
       "Virginia          8260405     980     VA           0.000119\n",
       "Washington        6971406     979     WA           0.000140\n",
       "West Virginia     1854304     627     WV           0.000338\n",
       "Wisconsin         5742713     853     WI           0.000149\n",
       "Wyoming            582658     109     WY           0.000187"
      ]
     },
     "execution_count": 9,
     "metadata": {},
     "output_type": "execute_result"
    }
   ],
   "source": [
    "overdoses.tail()"
   ]
  },
  {
   "cell_type": "code",
   "execution_count": 10,
   "metadata": {},
   "outputs": [
    {
     "data": {
      "text/html": [
       "<div>\n",
       "<style scoped>\n",
       "    .dataframe tbody tr th:only-of-type {\n",
       "        vertical-align: middle;\n",
       "    }\n",
       "\n",
       "    .dataframe tbody tr th {\n",
       "        vertical-align: top;\n",
       "    }\n",
       "\n",
       "    .dataframe thead th {\n",
       "        text-align: right;\n",
       "    }\n",
       "</style>\n",
       "<table border=\"1\" class=\"dataframe\">\n",
       "  <thead>\n",
       "    <tr style=\"text-align: right;\">\n",
       "      <th></th>\n",
       "      <th>Gender</th>\n",
       "      <th>State</th>\n",
       "      <th>Credentials</th>\n",
       "      <th>Specialty</th>\n",
       "      <th>ABILIFY</th>\n",
       "      <th>ACETAMINOPHEN.CODEINE</th>\n",
       "      <th>ACYCLOVIR</th>\n",
       "      <th>ADVAIR.DISKUS</th>\n",
       "      <th>AGGRENOX</th>\n",
       "      <th>ALENDRONATE.SODIUM</th>\n",
       "      <th>...</th>\n",
       "      <th>VERAPAMIL.ER</th>\n",
       "      <th>VESICARE</th>\n",
       "      <th>VOLTAREN</th>\n",
       "      <th>VYTORIN</th>\n",
       "      <th>WARFARIN.SODIUM</th>\n",
       "      <th>XARELTO</th>\n",
       "      <th>ZETIA</th>\n",
       "      <th>ZIPRASIDONE.HCL</th>\n",
       "      <th>ZOLPIDEM.TARTRATE</th>\n",
       "      <th>Opioid.Prescriber</th>\n",
       "    </tr>\n",
       "    <tr>\n",
       "      <th>NPI</th>\n",
       "      <th></th>\n",
       "      <th></th>\n",
       "      <th></th>\n",
       "      <th></th>\n",
       "      <th></th>\n",
       "      <th></th>\n",
       "      <th></th>\n",
       "      <th></th>\n",
       "      <th></th>\n",
       "      <th></th>\n",
       "      <th></th>\n",
       "      <th></th>\n",
       "      <th></th>\n",
       "      <th></th>\n",
       "      <th></th>\n",
       "      <th></th>\n",
       "      <th></th>\n",
       "      <th></th>\n",
       "      <th></th>\n",
       "      <th></th>\n",
       "      <th></th>\n",
       "    </tr>\n",
       "  </thead>\n",
       "  <tbody>\n",
       "    <tr>\n",
       "      <th>1619019353</th>\n",
       "      <td>F</td>\n",
       "      <td>WA</td>\n",
       "      <td>M.D.</td>\n",
       "      <td>Family Practice</td>\n",
       "      <td>0</td>\n",
       "      <td>12</td>\n",
       "      <td>0</td>\n",
       "      <td>0</td>\n",
       "      <td>0</td>\n",
       "      <td>46</td>\n",
       "      <td>...</td>\n",
       "      <td>0</td>\n",
       "      <td>0</td>\n",
       "      <td>0</td>\n",
       "      <td>0</td>\n",
       "      <td>39</td>\n",
       "      <td>0</td>\n",
       "      <td>0</td>\n",
       "      <td>0</td>\n",
       "      <td>0</td>\n",
       "      <td>1</td>\n",
       "    </tr>\n",
       "    <tr>\n",
       "      <th>1780693671</th>\n",
       "      <td>F</td>\n",
       "      <td>MI</td>\n",
       "      <td>DO</td>\n",
       "      <td>Internal Medicine</td>\n",
       "      <td>0</td>\n",
       "      <td>15</td>\n",
       "      <td>0</td>\n",
       "      <td>0</td>\n",
       "      <td>0</td>\n",
       "      <td>0</td>\n",
       "      <td>...</td>\n",
       "      <td>0</td>\n",
       "      <td>0</td>\n",
       "      <td>0</td>\n",
       "      <td>0</td>\n",
       "      <td>20</td>\n",
       "      <td>0</td>\n",
       "      <td>0</td>\n",
       "      <td>0</td>\n",
       "      <td>0</td>\n",
       "      <td>1</td>\n",
       "    </tr>\n",
       "    <tr>\n",
       "      <th>1346270956</th>\n",
       "      <td>M</td>\n",
       "      <td>AZ</td>\n",
       "      <td>MD</td>\n",
       "      <td>Emergency Medicine</td>\n",
       "      <td>0</td>\n",
       "      <td>0</td>\n",
       "      <td>0</td>\n",
       "      <td>0</td>\n",
       "      <td>0</td>\n",
       "      <td>0</td>\n",
       "      <td>...</td>\n",
       "      <td>0</td>\n",
       "      <td>0</td>\n",
       "      <td>0</td>\n",
       "      <td>0</td>\n",
       "      <td>0</td>\n",
       "      <td>0</td>\n",
       "      <td>0</td>\n",
       "      <td>0</td>\n",
       "      <td>0</td>\n",
       "      <td>1</td>\n",
       "    </tr>\n",
       "    <tr>\n",
       "      <th>1023116514</th>\n",
       "      <td>F</td>\n",
       "      <td>IN</td>\n",
       "      <td>M.D.</td>\n",
       "      <td>Family Practice</td>\n",
       "      <td>0</td>\n",
       "      <td>0</td>\n",
       "      <td>0</td>\n",
       "      <td>0</td>\n",
       "      <td>0</td>\n",
       "      <td>0</td>\n",
       "      <td>...</td>\n",
       "      <td>0</td>\n",
       "      <td>0</td>\n",
       "      <td>0</td>\n",
       "      <td>0</td>\n",
       "      <td>0</td>\n",
       "      <td>0</td>\n",
       "      <td>0</td>\n",
       "      <td>0</td>\n",
       "      <td>0</td>\n",
       "      <td>1</td>\n",
       "    </tr>\n",
       "    <tr>\n",
       "      <th>1518913672</th>\n",
       "      <td>M</td>\n",
       "      <td>NY</td>\n",
       "      <td>M.D.</td>\n",
       "      <td>Dermatology</td>\n",
       "      <td>0</td>\n",
       "      <td>0</td>\n",
       "      <td>0</td>\n",
       "      <td>0</td>\n",
       "      <td>0</td>\n",
       "      <td>0</td>\n",
       "      <td>...</td>\n",
       "      <td>0</td>\n",
       "      <td>0</td>\n",
       "      <td>0</td>\n",
       "      <td>0</td>\n",
       "      <td>0</td>\n",
       "      <td>0</td>\n",
       "      <td>0</td>\n",
       "      <td>0</td>\n",
       "      <td>0</td>\n",
       "      <td>0</td>\n",
       "    </tr>\n",
       "  </tbody>\n",
       "</table>\n",
       "<p>5 rows × 255 columns</p>\n",
       "</div>"
      ],
      "text/plain": [
       "           Gender State Credentials           Specialty  ABILIFY  \\\n",
       "NPI                                                                \n",
       "1619019353      F    WA        M.D.     Family Practice        0   \n",
       "1780693671      F    MI          DO   Internal Medicine        0   \n",
       "1346270956      M    AZ          MD  Emergency Medicine        0   \n",
       "1023116514      F    IN        M.D.     Family Practice        0   \n",
       "1518913672      M    NY        M.D.         Dermatology        0   \n",
       "\n",
       "            ACETAMINOPHEN.CODEINE  ACYCLOVIR  ADVAIR.DISKUS  AGGRENOX  \\\n",
       "NPI                                                                     \n",
       "1619019353                     12          0              0         0   \n",
       "1780693671                     15          0              0         0   \n",
       "1346270956                      0          0              0         0   \n",
       "1023116514                      0          0              0         0   \n",
       "1518913672                      0          0              0         0   \n",
       "\n",
       "            ALENDRONATE.SODIUM        ...          VERAPAMIL.ER  VESICARE  \\\n",
       "NPI                                   ...                                   \n",
       "1619019353                  46        ...                     0         0   \n",
       "1780693671                   0        ...                     0         0   \n",
       "1346270956                   0        ...                     0         0   \n",
       "1023116514                   0        ...                     0         0   \n",
       "1518913672                   0        ...                     0         0   \n",
       "\n",
       "            VOLTAREN  VYTORIN  WARFARIN.SODIUM  XARELTO  ZETIA  \\\n",
       "NPI                                                              \n",
       "1619019353         0        0               39        0      0   \n",
       "1780693671         0        0               20        0      0   \n",
       "1346270956         0        0                0        0      0   \n",
       "1023116514         0        0                0        0      0   \n",
       "1518913672         0        0                0        0      0   \n",
       "\n",
       "            ZIPRASIDONE.HCL  ZOLPIDEM.TARTRATE  Opioid.Prescriber  \n",
       "NPI                                                                \n",
       "1619019353                0                  0                  1  \n",
       "1780693671                0                  0                  1  \n",
       "1346270956                0                  0                  1  \n",
       "1023116514                0                  0                  1  \n",
       "1518913672                0                  0                  0  \n",
       "\n",
       "[5 rows x 255 columns]"
      ]
     },
     "execution_count": 10,
     "metadata": {},
     "output_type": "execute_result"
    }
   ],
   "source": [
    "prescribers.tail()"
   ]
  },
  {
   "cell_type": "code",
   "execution_count": 11,
   "metadata": {},
   "outputs": [],
   "source": [
    "# rename column because it's confusing\n",
    "prescribers= prescribers.rename({'State':'Abbrev'}, axis=1);"
   ]
  },
  {
   "cell_type": "code",
   "execution_count": 12,
   "metadata": {},
   "outputs": [],
   "source": [
    "# add prescriber information to overdose df \n",
    "prescribers_per_state = []\n",
    "for index, row in overdoses.iterrows(): \n",
    "    prescribers_per_state.append(prescribers.loc[prescribers['Abbrev']==row['Abbrev']].shape[0])\n",
    "overdoses['Prescribers'] = prescribers_per_state"
   ]
  },
  {
   "cell_type": "code",
   "execution_count": 13,
   "metadata": {},
   "outputs": [],
   "source": [
    "# prescribers per capita\n",
    "overdoses['Prescribers Per Capita'] = overdoses['Prescribers']/overdoses['Population']"
   ]
  },
  {
   "cell_type": "code",
   "execution_count": 14,
   "metadata": {},
   "outputs": [
    {
     "data": {
      "text/html": [
       "<div>\n",
       "<style scoped>\n",
       "    .dataframe tbody tr th:only-of-type {\n",
       "        vertical-align: middle;\n",
       "    }\n",
       "\n",
       "    .dataframe tbody tr th {\n",
       "        vertical-align: top;\n",
       "    }\n",
       "\n",
       "    .dataframe thead th {\n",
       "        text-align: right;\n",
       "    }\n",
       "</style>\n",
       "<table border=\"1\" class=\"dataframe\">\n",
       "  <thead>\n",
       "    <tr style=\"text-align: right;\">\n",
       "      <th></th>\n",
       "      <th>Population</th>\n",
       "      <th>Deaths</th>\n",
       "      <th>Abbrev</th>\n",
       "      <th>Deaths Per Capita</th>\n",
       "      <th>Prescribers</th>\n",
       "      <th>Prescribers Per Capita</th>\n",
       "    </tr>\n",
       "    <tr>\n",
       "      <th>State</th>\n",
       "      <th></th>\n",
       "      <th></th>\n",
       "      <th></th>\n",
       "      <th></th>\n",
       "      <th></th>\n",
       "      <th></th>\n",
       "    </tr>\n",
       "  </thead>\n",
       "  <tbody>\n",
       "    <tr>\n",
       "      <th>Virginia</th>\n",
       "      <td>8260405</td>\n",
       "      <td>980</td>\n",
       "      <td>VA</td>\n",
       "      <td>0.000119</td>\n",
       "      <td>568</td>\n",
       "      <td>0.000069</td>\n",
       "    </tr>\n",
       "    <tr>\n",
       "      <th>Washington</th>\n",
       "      <td>6971406</td>\n",
       "      <td>979</td>\n",
       "      <td>WA</td>\n",
       "      <td>0.000140</td>\n",
       "      <td>578</td>\n",
       "      <td>0.000083</td>\n",
       "    </tr>\n",
       "    <tr>\n",
       "      <th>West Virginia</th>\n",
       "      <td>1854304</td>\n",
       "      <td>627</td>\n",
       "      <td>WV</td>\n",
       "      <td>0.000338</td>\n",
       "      <td>199</td>\n",
       "      <td>0.000107</td>\n",
       "    </tr>\n",
       "    <tr>\n",
       "      <th>Wisconsin</th>\n",
       "      <td>5742713</td>\n",
       "      <td>853</td>\n",
       "      <td>WI</td>\n",
       "      <td>0.000149</td>\n",
       "      <td>498</td>\n",
       "      <td>0.000087</td>\n",
       "    </tr>\n",
       "    <tr>\n",
       "      <th>Wyoming</th>\n",
       "      <td>582658</td>\n",
       "      <td>109</td>\n",
       "      <td>WY</td>\n",
       "      <td>0.000187</td>\n",
       "      <td>38</td>\n",
       "      <td>0.000065</td>\n",
       "    </tr>\n",
       "  </tbody>\n",
       "</table>\n",
       "</div>"
      ],
      "text/plain": [
       "               Population  Deaths Abbrev  Deaths Per Capita  Prescribers  \\\n",
       "State                                                                      \n",
       "Virginia          8260405     980     VA           0.000119          568   \n",
       "Washington        6971406     979     WA           0.000140          578   \n",
       "West Virginia     1854304     627     WV           0.000338          199   \n",
       "Wisconsin         5742713     853     WI           0.000149          498   \n",
       "Wyoming            582658     109     WY           0.000187           38   \n",
       "\n",
       "               Prescribers Per Capita  \n",
       "State                                  \n",
       "Virginia                     0.000069  \n",
       "Washington                   0.000083  \n",
       "West Virginia                0.000107  \n",
       "Wisconsin                    0.000087  \n",
       "Wyoming                      0.000065  "
      ]
     },
     "execution_count": 14,
     "metadata": {},
     "output_type": "execute_result"
    }
   ],
   "source": [
    "overdoses.tail()"
   ]
  },
  {
   "cell_type": "code",
   "execution_count": 15,
   "metadata": {},
   "outputs": [
    {
     "name": "stdout",
     "output_type": "stream",
     "text": [
      "               Population  Deaths Abbrev  Deaths Per Capita  Prescribers  \\\n",
      "State                                                                      \n",
      "West Virginia     1854304     627     WV           0.000338          199   \n",
      "\n",
      "               Prescribers Per Capita  \n",
      "State                                  \n",
      "West Virginia                0.000107  \n",
      "            Population  Deaths Abbrev  Deaths Per Capita  Prescribers  \\\n",
      "State                                                                   \n",
      "California    38332521    4521     CA           0.000118         2562   \n",
      "\n",
      "            Prescribers Per Capita  \n",
      "State                               \n",
      "California                0.000067  \n"
     ]
    }
   ],
   "source": [
    "print(overdoses.loc[overdoses['Deaths Per Capita']==max_deaths_per_capita])\n",
    "print(overdoses.loc[overdoses['Deaths']==max_deaths])"
   ]
  },
  {
   "cell_type": "code",
   "execution_count": 16,
   "metadata": {},
   "outputs": [
    {
     "data": {
      "text/html": [
       "<div>\n",
       "<style scoped>\n",
       "    .dataframe tbody tr th:only-of-type {\n",
       "        vertical-align: middle;\n",
       "    }\n",
       "\n",
       "    .dataframe tbody tr th {\n",
       "        vertical-align: top;\n",
       "    }\n",
       "\n",
       "    .dataframe thead th {\n",
       "        text-align: right;\n",
       "    }\n",
       "</style>\n",
       "<table border=\"1\" class=\"dataframe\">\n",
       "  <thead>\n",
       "    <tr style=\"text-align: right;\">\n",
       "      <th></th>\n",
       "      <th>Gender</th>\n",
       "      <th>Abbrev</th>\n",
       "      <th>Credentials</th>\n",
       "      <th>Specialty</th>\n",
       "      <th>ABILIFY</th>\n",
       "      <th>ACETAMINOPHEN.CODEINE</th>\n",
       "      <th>ACYCLOVIR</th>\n",
       "      <th>ADVAIR.DISKUS</th>\n",
       "      <th>AGGRENOX</th>\n",
       "      <th>ALENDRONATE.SODIUM</th>\n",
       "      <th>...</th>\n",
       "      <th>VERAPAMIL.ER</th>\n",
       "      <th>VESICARE</th>\n",
       "      <th>VOLTAREN</th>\n",
       "      <th>VYTORIN</th>\n",
       "      <th>WARFARIN.SODIUM</th>\n",
       "      <th>XARELTO</th>\n",
       "      <th>ZETIA</th>\n",
       "      <th>ZIPRASIDONE.HCL</th>\n",
       "      <th>ZOLPIDEM.TARTRATE</th>\n",
       "      <th>Opioid.Prescriber</th>\n",
       "    </tr>\n",
       "    <tr>\n",
       "      <th>NPI</th>\n",
       "      <th></th>\n",
       "      <th></th>\n",
       "      <th></th>\n",
       "      <th></th>\n",
       "      <th></th>\n",
       "      <th></th>\n",
       "      <th></th>\n",
       "      <th></th>\n",
       "      <th></th>\n",
       "      <th></th>\n",
       "      <th></th>\n",
       "      <th></th>\n",
       "      <th></th>\n",
       "      <th></th>\n",
       "      <th></th>\n",
       "      <th></th>\n",
       "      <th></th>\n",
       "      <th></th>\n",
       "      <th></th>\n",
       "      <th></th>\n",
       "      <th></th>\n",
       "    </tr>\n",
       "  </thead>\n",
       "  <tbody>\n",
       "    <tr>\n",
       "      <th>1831118678</th>\n",
       "      <td>F</td>\n",
       "      <td>WV</td>\n",
       "      <td>MD</td>\n",
       "      <td>Emergency Medicine</td>\n",
       "      <td>0</td>\n",
       "      <td>0</td>\n",
       "      <td>0</td>\n",
       "      <td>0</td>\n",
       "      <td>0</td>\n",
       "      <td>0</td>\n",
       "      <td>...</td>\n",
       "      <td>0</td>\n",
       "      <td>0</td>\n",
       "      <td>0</td>\n",
       "      <td>0</td>\n",
       "      <td>0</td>\n",
       "      <td>0</td>\n",
       "      <td>0</td>\n",
       "      <td>0</td>\n",
       "      <td>0</td>\n",
       "      <td>1</td>\n",
       "    </tr>\n",
       "    <tr>\n",
       "      <th>1295753507</th>\n",
       "      <td>M</td>\n",
       "      <td>WV</td>\n",
       "      <td>D.D.S.</td>\n",
       "      <td>Dentist</td>\n",
       "      <td>0</td>\n",
       "      <td>0</td>\n",
       "      <td>0</td>\n",
       "      <td>0</td>\n",
       "      <td>0</td>\n",
       "      <td>0</td>\n",
       "      <td>...</td>\n",
       "      <td>0</td>\n",
       "      <td>0</td>\n",
       "      <td>0</td>\n",
       "      <td>0</td>\n",
       "      <td>0</td>\n",
       "      <td>0</td>\n",
       "      <td>0</td>\n",
       "      <td>0</td>\n",
       "      <td>0</td>\n",
       "      <td>0</td>\n",
       "    </tr>\n",
       "    <tr>\n",
       "      <th>1477532679</th>\n",
       "      <td>F</td>\n",
       "      <td>WV</td>\n",
       "      <td>CFNP</td>\n",
       "      <td>Nurse Practitioner</td>\n",
       "      <td>0</td>\n",
       "      <td>0</td>\n",
       "      <td>0</td>\n",
       "      <td>19</td>\n",
       "      <td>0</td>\n",
       "      <td>12</td>\n",
       "      <td>...</td>\n",
       "      <td>0</td>\n",
       "      <td>0</td>\n",
       "      <td>0</td>\n",
       "      <td>0</td>\n",
       "      <td>0</td>\n",
       "      <td>0</td>\n",
       "      <td>12</td>\n",
       "      <td>0</td>\n",
       "      <td>25</td>\n",
       "      <td>1</td>\n",
       "    </tr>\n",
       "    <tr>\n",
       "      <th>1417952565</th>\n",
       "      <td>M</td>\n",
       "      <td>WV</td>\n",
       "      <td>DO</td>\n",
       "      <td>Family Practice</td>\n",
       "      <td>0</td>\n",
       "      <td>0</td>\n",
       "      <td>0</td>\n",
       "      <td>18</td>\n",
       "      <td>0</td>\n",
       "      <td>0</td>\n",
       "      <td>...</td>\n",
       "      <td>0</td>\n",
       "      <td>0</td>\n",
       "      <td>0</td>\n",
       "      <td>0</td>\n",
       "      <td>14</td>\n",
       "      <td>0</td>\n",
       "      <td>0</td>\n",
       "      <td>0</td>\n",
       "      <td>0</td>\n",
       "      <td>1</td>\n",
       "    </tr>\n",
       "    <tr>\n",
       "      <th>1750505384</th>\n",
       "      <td>F</td>\n",
       "      <td>WV</td>\n",
       "      <td>M.D.</td>\n",
       "      <td>Psychiatry</td>\n",
       "      <td>90</td>\n",
       "      <td>0</td>\n",
       "      <td>0</td>\n",
       "      <td>0</td>\n",
       "      <td>0</td>\n",
       "      <td>0</td>\n",
       "      <td>...</td>\n",
       "      <td>0</td>\n",
       "      <td>0</td>\n",
       "      <td>0</td>\n",
       "      <td>0</td>\n",
       "      <td>0</td>\n",
       "      <td>0</td>\n",
       "      <td>0</td>\n",
       "      <td>27</td>\n",
       "      <td>16</td>\n",
       "      <td>1</td>\n",
       "    </tr>\n",
       "  </tbody>\n",
       "</table>\n",
       "<p>5 rows × 255 columns</p>\n",
       "</div>"
      ],
      "text/plain": [
       "           Gender Abbrev Credentials           Specialty  ABILIFY  \\\n",
       "NPI                                                                 \n",
       "1831118678      F     WV          MD  Emergency Medicine        0   \n",
       "1295753507      M     WV      D.D.S.             Dentist        0   \n",
       "1477532679      F     WV        CFNP  Nurse Practitioner        0   \n",
       "1417952565      M     WV          DO     Family Practice        0   \n",
       "1750505384      F     WV        M.D.          Psychiatry       90   \n",
       "\n",
       "            ACETAMINOPHEN.CODEINE  ACYCLOVIR  ADVAIR.DISKUS  AGGRENOX  \\\n",
       "NPI                                                                     \n",
       "1831118678                      0          0              0         0   \n",
       "1295753507                      0          0              0         0   \n",
       "1477532679                      0          0             19         0   \n",
       "1417952565                      0          0             18         0   \n",
       "1750505384                      0          0              0         0   \n",
       "\n",
       "            ALENDRONATE.SODIUM        ...          VERAPAMIL.ER  VESICARE  \\\n",
       "NPI                                   ...                                   \n",
       "1831118678                   0        ...                     0         0   \n",
       "1295753507                   0        ...                     0         0   \n",
       "1477532679                  12        ...                     0         0   \n",
       "1417952565                   0        ...                     0         0   \n",
       "1750505384                   0        ...                     0         0   \n",
       "\n",
       "            VOLTAREN  VYTORIN  WARFARIN.SODIUM  XARELTO  ZETIA  \\\n",
       "NPI                                                              \n",
       "1831118678         0        0                0        0      0   \n",
       "1295753507         0        0                0        0      0   \n",
       "1477532679         0        0                0        0     12   \n",
       "1417952565         0        0               14        0      0   \n",
       "1750505384         0        0                0        0      0   \n",
       "\n",
       "            ZIPRASIDONE.HCL  ZOLPIDEM.TARTRATE  Opioid.Prescriber  \n",
       "NPI                                                                \n",
       "1831118678                0                  0                  1  \n",
       "1295753507                0                  0                  0  \n",
       "1477532679                0                 25                  1  \n",
       "1417952565                0                  0                  1  \n",
       "1750505384               27                 16                  1  \n",
       "\n",
       "[5 rows x 255 columns]"
      ]
     },
     "execution_count": 16,
     "metadata": {},
     "output_type": "execute_result"
    }
   ],
   "source": [
    "wv_prescribers = prescribers.loc[prescribers['Abbrev']== 'WV']\n",
    "wv_prescribers[:5]"
   ]
  },
  {
   "cell_type": "code",
   "execution_count": 17,
   "metadata": {},
   "outputs": [],
   "source": [
    "# Census Bureau-designated regions and divisions \n",
    "# https://en.wikipedia.org/wiki/List_of_regions_of_the_United_States#Census_Bureau-designated_regions_and_divisions\n",
    "\n",
    "#divisions\n",
    "new_england= dict.fromkeys(['CT', 'ME', 'MA', 'NH', 'RI', 'VT'], 'new england')\n",
    "mid_atlantic = dict.fromkeys(['NJ', 'NY', 'PA'], 'mid atlantic')\n",
    "east_north_central = dict.fromkeys(['IL', 'IN', 'MI', 'OH', 'WI'],'east north central')\n",
    "west_north_central = dict.fromkeys(['IA', 'KS', 'MN', 'MO', 'NE', 'ND', 'SD'], 'west north central')\n",
    "south_atlantic = dict.fromkeys(['DE', 'FL', 'GA', 'MD', 'NC', 'SC', 'VA', 'DC', 'WV'], 'south atlantic')\n",
    "east_south_central = dict.fromkeys(['AL', 'KY', 'MS', 'TN'], 'east south central')\n",
    "west_south_central = dict.fromkeys(['AR', 'LA', 'OK', 'TX'], 'west south central')\n",
    "mountain = dict.fromkeys(['AZ', 'CO', 'ID', 'MT', 'NV', 'NM', 'UT', 'WY'], 'mountain')\n",
    "pacific = dict.fromkeys(['AK', 'CA', 'HI', 'OR', 'WA'], 'pacific')\n",
    "\n",
    "division_list = [new_england, mid_atlantic, east_north_central, west_north_central, south_atlantic, \n",
    "            east_south_central, west_south_central, mountain, pacific]\n",
    "divisions = {}\n",
    "for div in division_list: \n",
    "    divisions.update(div)\n",
    "    \n",
    "#regions \n",
    "northeast = dict.fromkeys(list(new_england.keys())+list(mid_atlantic.keys()), 'new england')\n",
    "midwest = dict.fromkeys(list(east_north_central.keys())+list(west_north_central.keys()),'midwest') \n",
    "south = dict.fromkeys(list(south_atlantic.keys()) + list(east_south_central.keys()) + list(west_south_central.keys()),'south')\n",
    "west = dict.fromkeys(list(mountain.keys()) + list(pacific.keys()),'west')\n",
    "\n",
    "region_list = [northeast, midwest, south, west]\n",
    "regions = {}\n",
    "for region in region_list:\n",
    "    regions.update(region)"
   ]
  },
  {
   "cell_type": "code",
   "execution_count": 18,
   "metadata": {},
   "outputs": [],
   "source": [
    "overdoses['Region']= overdoses['Abbrev'].map(regions)\n",
    "overdoses['Division']=overdoses['Abbrev'].map(divisions)"
   ]
  },
  {
   "cell_type": "code",
   "execution_count": 19,
   "metadata": {},
   "outputs": [
    {
     "name": "stderr",
     "output_type": "stream",
     "text": [
      "/home/rika/anaconda3/lib/python3.6/site-packages/bs4/__init__.py:181: UserWarning: No parser was explicitly specified, so I'm using the best available HTML parser for this system (\"lxml\"). This usually isn't a problem, but if you run this code on another system, or in a different virtual environment, it may use a different parser and behave differently.\n",
      "\n",
      "The code that caused this warning is on line 193 of the file /home/rika/anaconda3/lib/python3.6/runpy.py. To get rid of this warning, change code that looks like this:\n",
      "\n",
      " BeautifulSoup(YOUR_MARKUP})\n",
      "\n",
      "to this:\n",
      "\n",
      " BeautifulSoup(YOUR_MARKUP, \"lxml\")\n",
      "\n",
      "  markup_type=markup_type))\n"
     ]
    },
    {
     "ename": "AttributeError",
     "evalue": "ResultSet object has no attribute 'find'. You're probably treating a list of items like a single item. Did you call find_all() when you meant to call find()?",
     "output_type": "error",
     "traceback": [
      "\u001b[0;31m---------------------------------------------------------------------------\u001b[0m",
      "\u001b[0;31mAttributeError\u001b[0m                            Traceback (most recent call last)",
      "\u001b[0;32m<ipython-input-19-0cff539c5fb5>\u001b[0m in \u001b[0;36m<module>\u001b[0;34m()\u001b[0m\n\u001b[1;32m      7\u001b[0m \u001b[0mdivision\u001b[0m\u001b[0;34m=\u001b[0m \u001b[0msoup\u001b[0m\u001b[0;34m.\u001b[0m\u001b[0mfindAll\u001b[0m\u001b[0;34m(\u001b[0m\u001b[0;34m\"div\"\u001b[0m\u001b[0;34m,\u001b[0m\u001b[0;34m{\u001b[0m\u001b[0;34m\"class\"\u001b[0m\u001b[0;34m:\u001b[0m\u001b[0;34m\"mw-parser-output\"\u001b[0m\u001b[0;34m}\u001b[0m\u001b[0;34m)\u001b[0m\u001b[0;34m\u001b[0m\u001b[0m\n\u001b[1;32m      8\u001b[0m \u001b[0;31m#print(division)\u001b[0m\u001b[0;34m\u001b[0m\u001b[0;34m\u001b[0m\u001b[0m\n\u001b[0;32m----> 9\u001b[0;31m \u001b[0mprint\u001b[0m\u001b[0;34m(\u001b[0m\u001b[0mdivision\u001b[0m\u001b[0;34m.\u001b[0m\u001b[0mfind\u001b[0m\u001b[0;34m(\u001b[0m\u001b[0;34m'ul'\u001b[0m\u001b[0;34m)\u001b[0m\u001b[0;34m)\u001b[0m\u001b[0;34m\u001b[0m\u001b[0m\n\u001b[0m\u001b[1;32m     10\u001b[0m \u001b[0;34m\u001b[0m\u001b[0m\n",
      "\u001b[0;32m~/anaconda3/lib/python3.6/site-packages/bs4/element.py\u001b[0m in \u001b[0;36m__getattr__\u001b[0;34m(self, key)\u001b[0m\n\u001b[1;32m   1805\u001b[0m     \u001b[0;32mdef\u001b[0m \u001b[0m__getattr__\u001b[0m\u001b[0;34m(\u001b[0m\u001b[0mself\u001b[0m\u001b[0;34m,\u001b[0m \u001b[0mkey\u001b[0m\u001b[0;34m)\u001b[0m\u001b[0;34m:\u001b[0m\u001b[0;34m\u001b[0m\u001b[0m\n\u001b[1;32m   1806\u001b[0m         raise AttributeError(\n\u001b[0;32m-> 1807\u001b[0;31m             \u001b[0;34m\"ResultSet object has no attribute '%s'. You're probably treating a list of items like a single item. Did you call find_all() when you meant to call find()?\"\u001b[0m \u001b[0;34m%\u001b[0m \u001b[0mkey\u001b[0m\u001b[0;34m\u001b[0m\u001b[0m\n\u001b[0m\u001b[1;32m   1808\u001b[0m         )\n",
      "\u001b[0;31mAttributeError\u001b[0m: ResultSet object has no attribute 'find'. You're probably treating a list of items like a single item. Did you call find_all() when you meant to call find()?"
     ]
    }
   ],
   "source": [
    "# try scraping to get regions and divisions instead... wikipedia version\n",
    "url = 'https://en.wikipedia.org/wiki/List_of_regions_of_the_United_States'\n",
    "regions_req = requests.get(url)\n",
    "soup = bs4.BeautifulSoup(regions_req.content)\n",
    "    "
   ]
  },
  {
   "cell_type": "code",
   "execution_count": 129,
   "metadata": {},
   "outputs": [
    {
     "name": "stderr",
     "output_type": "stream",
     "text": [
      "/home/rika/anaconda3/lib/python3.6/site-packages/bs4/__init__.py:181: UserWarning: No parser was explicitly specified, so I'm using the best available HTML parser for this system (\"lxml\"). This usually isn't a problem, but if you run this code on another system, or in a different virtual environment, it may use a different parser and behave differently.\n",
      "\n",
      "The code that caused this warning is on line 193 of the file /home/rika/anaconda3/lib/python3.6/runpy.py. To get rid of this warning, change code that looks like this:\n",
      "\n",
      " BeautifulSoup(YOUR_MARKUP})\n",
      "\n",
      "to this:\n",
      "\n",
      " BeautifulSoup(YOUR_MARKUP, \"lxml\")\n",
      "\n",
      "  markup_type=markup_type))\n"
     ]
    }
   ],
   "source": [
    "# this list is easier to scrape\n",
    "url_gov = 'https://www2.census.gov/geo/docs/maps-data/maps/reg_div.txt'\n",
    "regions_req = requests.get(url_gov)\n",
    "soup_gov = bs4.BeautifulSoup(regions_req.content)\n",
    "text = soup_gov.p "
   ]
  },
  {
   "cell_type": "code",
   "execution_count": 141,
   "metadata": {},
   "outputs": [
    {
     "name": "stdout",
     "output_type": "stream",
     "text": [
      "defaultdict(<class 'list'>, {'Northeast': ['New England', 'Middle Atlantic'], 'Midwest': ['East North Central', 'West North Central'], 'South': ['South Atlantic', 'East South Central', 'West South Central'], 'West': ['Mountain', 'Pacific']})\n",
      "\n",
      "defaultdict(<class 'list'>, {'New England': ['Connecticut', 'Maine', 'Massachusetts', 'New Hampshire', 'Rhode Island', 'Vermont'], 'Middle Atlantic': ['New Jersey', 'New York', 'Pennsylvania'], 'East North Central': ['Illinois', 'Indiana', 'Michigan', 'Ohio', 'Wisconsin'], 'West North Central': ['Iowa', 'Kansas', 'Minnesota', 'Missouri', 'Nebraska', 'North Dakota', 'South Dakota'], 'South Atlantic': ['Delaware', 'District of Columbia (11)', 'Florida', 'Georgia', 'Maryland', 'North Carolina  (37)', 'South Carolina  (45)', 'Virginia', 'West Virginia'], 'East South Central': ['Alabama', 'Kentucky', 'Mississippi', 'Tennessee'], 'West South Central': ['Arkansas', 'Louisiana', 'Oklahoma', 'Texas'], 'Mountain': ['Arizona', 'Colorado', 'Idaho', 'Montana', 'Nevada', 'New Mexico', 'Utah', 'Wyoming'], 'Pacific': ['Alaska', 'California', 'Hawaii', 'Oregon', 'Washington']})\n"
     ]
    }
   ],
   "source": [
    "regions = text.contents[0].split('REGION')[1:]\n",
    "\n",
    "reg_dict = defaultdict(list)\n",
    "div_dict = defaultdict(list)\n",
    "for row in regions: \n",
    "    row_by_div = [s for s in row.split('Division') if s!=''] # split on newlines, take out empty strings\n",
    "    region_name = row_by_div[0].split(':')[1].strip().strip('*').title()\n",
    "    div_list = [l.split('\\r\\n') for l in row_by_div[1:]]\n",
    "    div_list = [[s for s in l if s!=''] for l in div_list]\n",
    "    for div in div_list:\n",
    "        division_name = div[0].split(':')[1].strip()\n",
    "        reg_dict[region_name].append(division_name)\n",
    "        for i in div[1:]:\n",
    "            if i[0]=='*': # skip *Prior to June 1984...\" line \n",
    "                break\n",
    "            sep = '   '\n",
    "            state = i.split(sep, 1)[0]\n",
    "            div_dict[division_name].append(state)  \n",
    "print(reg_dict)\n",
    "print()\n",
    "print(div_dict)"
   ]
  },
  {
   "cell_type": "markdown",
   "metadata": {},
   "source": [
    "# Visualizations "
   ]
  },
  {
   "cell_type": "markdown",
   "metadata": {},
   "source": [
    "## *Overdose Deaths Per Capita*"
   ]
  },
  {
   "cell_type": "code",
   "execution_count": 22,
   "metadata": {},
   "outputs": [
    {
     "data": {
      "text/plain": [
       "Text(0.5,1,'Opioid Overdose Deaths per capita in all 50 States')"
      ]
     },
     "execution_count": 22,
     "metadata": {},
     "output_type": "execute_result"
    },
    {
     "data": {
      "image/png": "[encoded data removed]",
      "text/plain": [
       "<matplotlib.figure.Figure at 0x7f3eec3fc780>"
      ]
     },
     "metadata": {},
     "output_type": "display_data"
    }
   ],
   "source": [
    "# visualize deaths per capita\n",
    "dpc_violin = sns.violinplot(y='Deaths Per Capita', data=overdoses)\n",
    "dpc_violin.set_title('Opioid Overdose Deaths per capita in all 50 States')"
   ]
  },
  {
   "cell_type": "code",
   "execution_count": 23,
   "metadata": {},
   "outputs": [],
   "source": [
    "overdoses_dpc = overdoses.sort_values('Deaths Per Capita')"
   ]
  },
  {
   "cell_type": "code",
   "execution_count": 24,
   "metadata": {},
   "outputs": [
    {
     "data": {
      "text/plain": [
       "Text(0.5,1,'Opioid Overdose Deaths Per Capita by State')"
      ]
     },
     "execution_count": 24,
     "metadata": {},
     "output_type": "execute_result"
    },
    {
     "data": {
      "image/png": "[encoded data removed]",
      "text/plain": [
       "<matplotlib.figure.Figure at 0x7f3eec0bc6d8>"
      ]
     },
     "metadata": {},
     "output_type": "display_data"
    }
   ],
   "source": [
    "plt.subplots(figsize=(15,10))\n",
    "dpc_bar = sns.barplot(x = 'Abbrev', y='Deaths Per Capita', data = overdoses_dpc)\n",
    "dpc_bar.set_xticklabels(overdoses_dpc.Abbrev, rotation = 45)\n",
    "dpc_bar.set_title('Opioid Overdose Deaths Per Capita by State')"
   ]
  },
  {
   "cell_type": "markdown",
   "metadata": {},
   "source": [
    "## *Providers Per Capita*"
   ]
  },
  {
   "cell_type": "code",
   "execution_count": 25,
   "metadata": {
    "scrolled": true
   },
   "outputs": [
    {
     "data": {
      "text/plain": [
       "Text(0.5,1,'Prescribers Per Capita in all 50 States')"
      ]
     },
     "execution_count": 25,
     "metadata": {},
     "output_type": "execute_result"
    },
    {
     "data": {
      "image/png": "[encoded data removed]",
      "text/plain": [
       "<matplotlib.figure.Figure at 0x7f3eebf67518>"
      ]
     },
     "metadata": {},
     "output_type": "display_data"
    }
   ],
   "source": [
    "# Visualize prescribers per capita\n",
    "prescriber_violin = sns.violinplot(y='Prescribers Per Capita', data=overdoses)\n",
    "prescriber_violin.set_title('Prescribers Per Capita in all 50 States')"
   ]
  },
  {
   "cell_type": "code",
   "execution_count": 26,
   "metadata": {},
   "outputs": [
    {
     "data": {
      "text/plain": [
       "Text(0.5,1,'Prescribers Per Capita by State')"
      ]
     },
     "execution_count": 26,
     "metadata": {},
     "output_type": "execute_result"
    },
    {
     "data": {
      "image/png": "[encoded data removed]",
      "text/plain": [
       "<matplotlib.figure.Figure at 0x7f3eebf53e80>"
      ]
     },
     "metadata": {},
     "output_type": "display_data"
    }
   ],
   "source": [
    "plt.subplots(figsize=(15,10))\n",
    "dpc_bar = sns.barplot(x = 'Abbrev', y='Prescribers Per Capita', data = overdoses_dpc)\n",
    "dpc_bar.set_xticklabels(overdoses_dpc.Abbrev, rotation = 45)\n",
    "dpc_bar.set_title('Prescribers Per Capita by State')"
   ]
  },
  {
   "cell_type": "code",
   "execution_count": 27,
   "metadata": {},
   "outputs": [
    {
     "data": {
      "text/plain": [
       "Text(0.5,1,'Deaths Per Capita versus Prescribers Per Capita')"
      ]
     },
     "execution_count": 27,
     "metadata": {},
     "output_type": "execute_result"
    },
    {
     "data": {
      "image/png": "[encoded data removed]",
      "text/plain": [
       "<matplotlib.figure.Figure at 0x7f3eec0d34a8>"
      ]
     },
     "metadata": {},
     "output_type": "display_data"
    }
   ],
   "source": [
    "# Opioid overdoses per capita not directly correlated to prescribers per capita\n",
    "dpc_ppc_line = sns.regplot(x='Deaths Per Capita', y = 'Prescribers Per Capita', data = overdoses)\n",
    "dpc_ppc_line.set_title('Deaths Per Capita versus Prescribers Per Capita')"
   ]
  },
  {
   "cell_type": "markdown",
   "metadata": {},
   "source": [
    "# Are there Regional/Divisional Differences?"
   ]
  },
  {
   "cell_type": "code",
   "execution_count": 20,
   "metadata": {},
   "outputs": [
    {
     "data": {
      "text/plain": [
       "Text(0.5,1,'Opioid Overdose Deaths per capita by region')"
      ]
     },
     "execution_count": 20,
     "metadata": {},
     "output_type": "execute_result"
    },
    {
     "data": {
      "image/png": "[encoded data removed]",
      "text/plain": [
       "<matplotlib.figure.Figure at 0x7fbcbdd78e80>"
      ]
     },
     "metadata": {},
     "output_type": "display_data"
    }
   ],
   "source": [
    "# repeat violin plot for deaths per capita, separate by region \n",
    "dpc_region_violin = sns.violinplot(x='Region', y='Deaths Per Capita', data=overdoses)\n",
    "dpc_region_violin.set_title('Opioid Overdose Deaths per capita by region')"
   ]
  },
  {
   "cell_type": "code",
   "execution_count": 21,
   "metadata": {},
   "outputs": [
    {
     "data": {
      "text/plain": [
       "Text(0.5,1,'Prescribers Per Capita by Region')"
      ]
     },
     "execution_count": 21,
     "metadata": {},
     "output_type": "execute_result"
    },
    {
     "data": {
      "image/png": "[encoded data removed]",
      "text/plain": [
       "<matplotlib.figure.Figure at 0x7fbcc0112438>"
      ]
     },
     "metadata": {},
     "output_type": "display_data"
    }
   ],
   "source": [
    "# prescribers per capita by region\n",
    "prescriber_region_violin = sns.violinplot(x='Region', y='Prescribers Per Capita', data=overdoses)\n",
    "prescriber_region_violin.set_title('Prescribers Per Capita by Region')"
   ]
  },
  {
   "cell_type": "code",
   "execution_count": 30,
   "metadata": {},
   "outputs": [
    {
     "data": {
      "text/plain": [
       "Text(0.5,1,'Non-Opioid vs. Opioid Prescriber by Region')"
      ]
     },
     "execution_count": 30,
     "metadata": {},
     "output_type": "execute_result"
    },
    {
     "data": {
      "image/png": "[encoded data removed]",
      "text/plain": [
       "<matplotlib.figure.Figure at 0x7f3eeb7cd710>"
      ]
     },
     "metadata": {},
     "output_type": "display_data"
    }
   ],
   "source": [
    "# normalize this\n",
    "# opioid prescribers vs nonprescribers by region\n",
    "plt.subplots(figsize=(15,10))\n",
    "opioid_presc_count = sns.countplot(x='Region', hue='Opioid.Prescriber', data=prescribers.merge(overdoses, how='left', on = 'Abbrev'))\n",
    "opioid_presc_count.set_title('Non-Opioid vs. Opioid Prescriber by Region')"
   ]
  },
  {
   "cell_type": "markdown",
   "metadata": {},
   "source": [
    "## Divisions"
   ]
  },
  {
   "cell_type": "code",
   "execution_count": 31,
   "metadata": {},
   "outputs": [
    {
     "data": {
      "text/plain": [
       "Text(0.5,1,'Opioid Overdose Deaths per capita by Division')"
      ]
     },
     "execution_count": 31,
     "metadata": {},
     "output_type": "execute_result"
    },
    {
     "data": {
      "image/png": "[encoded data removed]",
      "text/plain": [
       "<matplotlib.figure.Figure at 0x7f3eeb74f780>"
      ]
     },
     "metadata": {},
     "output_type": "display_data"
    }
   ],
   "source": [
    "# repeat violin plot for deaths per capita, separate by region \n",
    "plt.subplots(figsize=(15,5))\n",
    "dpc_division_violin = sns.violinplot(x='Division', y='Deaths Per Capita', data=overdoses)\n",
    "dpc_division_violin.set_title('Opioid Overdose Deaths per capita by Division')"
   ]
  },
  {
   "cell_type": "code",
   "execution_count": 32,
   "metadata": {
    "scrolled": true
   },
   "outputs": [
    {
     "data": {
      "text/plain": [
       "Text(0.5,1,'Prescribers Per Capita by Division')"
      ]
     },
     "execution_count": 32,
     "metadata": {},
     "output_type": "execute_result"
    },
    {
     "data": {
      "image/png": "[encoded data removed]",
      "text/plain": [
       "<matplotlib.figure.Figure at 0x7f3eeb6b9ef0>"
      ]
     },
     "metadata": {},
     "output_type": "display_data"
    }
   ],
   "source": [
    "# prescribers per capita by division\n",
    "plt.subplots(figsize=(15,5))\n",
    "prescriber_division_violin = sns.violinplot(x='Division', y='Prescribers Per Capita', data=overdoses)\n",
    "prescriber_division_violin.set_title('Prescribers Per Capita by Division')"
   ]
  },
  {
   "cell_type": "code",
   "execution_count": 33,
   "metadata": {},
   "outputs": [
    {
     "data": {
      "text/plain": [
       "Text(0.5,1,'Non-Opioid vs. Opiod Prescribers by division')"
      ]
     },
     "execution_count": 33,
     "metadata": {},
     "output_type": "execute_result"
    },
    {
     "data": {
      "image/png": "[encoded data removed]",
      "text/plain": [
       "<matplotlib.figure.Figure at 0x7f3eeb5f1c88>"
      ]
     },
     "metadata": {},
     "output_type": "display_data"
    }
   ],
   "source": [
    "# opioid prescribers vs nonprescribers by division\n",
    "plt.subplots(figsize=(15,10))\n",
    "opioid_presc_bar = sns.countplot(x='Division', hue='Opioid.Prescriber', data=prescribers.merge(overdoses, how='left', on = 'Abbrev'))\n",
    "opioid_presc_bar.set_title('Non-Opioid vs. Opiod Prescribers by division')"
   ]
  },
  {
   "cell_type": "markdown",
   "metadata": {},
   "source": [
    "# Medical Practitioners and the Drugs they Prescribe"
   ]
  },
  {
   "cell_type": "code",
   "execution_count": 33,
   "metadata": {
    "scrolled": true
   },
   "outputs": [],
   "source": [
    "wv_prescribers = prescribers.loc[prescribers['Abbrev']=='WV'] # prescribers of highest per capita death rate state\n",
    "nd_prescribers = prescribers.loc[prescribers['Abbrev']=='ND'] # prescribers of lowest per capita death rate state "
   ]
  },
  {
   "cell_type": "code",
   "execution_count": 35,
   "metadata": {},
   "outputs": [
    {
     "data": {
      "text/html": [
       "<div>\n",
       "<style scoped>\n",
       "    .dataframe tbody tr th:only-of-type {\n",
       "        vertical-align: middle;\n",
       "    }\n",
       "\n",
       "    .dataframe tbody tr th {\n",
       "        vertical-align: top;\n",
       "    }\n",
       "\n",
       "    .dataframe thead th {\n",
       "        text-align: right;\n",
       "    }\n",
       "</style>\n",
       "<table border=\"1\" class=\"dataframe\">\n",
       "  <thead>\n",
       "    <tr style=\"text-align: right;\">\n",
       "      <th></th>\n",
       "      <th>ABILIFY</th>\n",
       "      <th>ACETAMINOPHEN.CODEINE</th>\n",
       "      <th>ACYCLOVIR</th>\n",
       "      <th>ADVAIR.DISKUS</th>\n",
       "      <th>AGGRENOX</th>\n",
       "      <th>ALENDRONATE.SODIUM</th>\n",
       "      <th>ALLOPURINOL</th>\n",
       "      <th>ALPRAZOLAM</th>\n",
       "      <th>AMIODARONE.HCL</th>\n",
       "      <th>AMITRIPTYLINE.HCL</th>\n",
       "      <th>...</th>\n",
       "      <th>VERAPAMIL.ER</th>\n",
       "      <th>VESICARE</th>\n",
       "      <th>VOLTAREN</th>\n",
       "      <th>VYTORIN</th>\n",
       "      <th>WARFARIN.SODIUM</th>\n",
       "      <th>XARELTO</th>\n",
       "      <th>ZETIA</th>\n",
       "      <th>ZIPRASIDONE.HCL</th>\n",
       "      <th>ZOLPIDEM.TARTRATE</th>\n",
       "      <th>Opioid.Prescriber</th>\n",
       "    </tr>\n",
       "  </thead>\n",
       "  <tbody>\n",
       "    <tr>\n",
       "      <th>count</th>\n",
       "      <td>199.000000</td>\n",
       "      <td>199.000000</td>\n",
       "      <td>199.000000</td>\n",
       "      <td>199.000000</td>\n",
       "      <td>199.000000</td>\n",
       "      <td>199.000000</td>\n",
       "      <td>199.000000</td>\n",
       "      <td>199.000000</td>\n",
       "      <td>199.000000</td>\n",
       "      <td>199.000000</td>\n",
       "      <td>...</td>\n",
       "      <td>199.000000</td>\n",
       "      <td>199.000000</td>\n",
       "      <td>199.000000</td>\n",
       "      <td>199.000000</td>\n",
       "      <td>199.000000</td>\n",
       "      <td>199.000000</td>\n",
       "      <td>199.000000</td>\n",
       "      <td>199.000000</td>\n",
       "      <td>199.000000</td>\n",
       "      <td>199.000000</td>\n",
       "    </tr>\n",
       "    <tr>\n",
       "      <th>mean</th>\n",
       "      <td>3.301508</td>\n",
       "      <td>1.874372</td>\n",
       "      <td>0.231156</td>\n",
       "      <td>8.809045</td>\n",
       "      <td>0.180905</td>\n",
       "      <td>6.025126</td>\n",
       "      <td>11.221106</td>\n",
       "      <td>31.361809</td>\n",
       "      <td>2.572864</td>\n",
       "      <td>6.030151</td>\n",
       "      <td>...</td>\n",
       "      <td>2.919598</td>\n",
       "      <td>2.793970</td>\n",
       "      <td>1.105528</td>\n",
       "      <td>1.613065</td>\n",
       "      <td>26.467337</td>\n",
       "      <td>3.567839</td>\n",
       "      <td>7.110553</td>\n",
       "      <td>1.658291</td>\n",
       "      <td>13.391960</td>\n",
       "      <td>0.633166</td>\n",
       "    </tr>\n",
       "    <tr>\n",
       "      <th>std</th>\n",
       "      <td>18.844112</td>\n",
       "      <td>7.819898</td>\n",
       "      <td>1.619588</td>\n",
       "      <td>23.129056</td>\n",
       "      <td>1.465922</td>\n",
       "      <td>16.537511</td>\n",
       "      <td>31.155384</td>\n",
       "      <td>138.570041</td>\n",
       "      <td>12.244292</td>\n",
       "      <td>15.192339</td>\n",
       "      <td>...</td>\n",
       "      <td>12.060184</td>\n",
       "      <td>12.933894</td>\n",
       "      <td>7.582803</td>\n",
       "      <td>8.577397</td>\n",
       "      <td>87.937292</td>\n",
       "      <td>19.432977</td>\n",
       "      <td>19.456448</td>\n",
       "      <td>9.243825</td>\n",
       "      <td>41.724289</td>\n",
       "      <td>0.483156</td>\n",
       "    </tr>\n",
       "    <tr>\n",
       "      <th>min</th>\n",
       "      <td>0.000000</td>\n",
       "      <td>0.000000</td>\n",
       "      <td>0.000000</td>\n",
       "      <td>0.000000</td>\n",
       "      <td>0.000000</td>\n",
       "      <td>0.000000</td>\n",
       "      <td>0.000000</td>\n",
       "      <td>0.000000</td>\n",
       "      <td>0.000000</td>\n",
       "      <td>0.000000</td>\n",
       "      <td>...</td>\n",
       "      <td>0.000000</td>\n",
       "      <td>0.000000</td>\n",
       "      <td>0.000000</td>\n",
       "      <td>0.000000</td>\n",
       "      <td>0.000000</td>\n",
       "      <td>0.000000</td>\n",
       "      <td>0.000000</td>\n",
       "      <td>0.000000</td>\n",
       "      <td>0.000000</td>\n",
       "      <td>0.000000</td>\n",
       "    </tr>\n",
       "    <tr>\n",
       "      <th>25%</th>\n",
       "      <td>0.000000</td>\n",
       "      <td>0.000000</td>\n",
       "      <td>0.000000</td>\n",
       "      <td>0.000000</td>\n",
       "      <td>0.000000</td>\n",
       "      <td>0.000000</td>\n",
       "      <td>0.000000</td>\n",
       "      <td>0.000000</td>\n",
       "      <td>0.000000</td>\n",
       "      <td>0.000000</td>\n",
       "      <td>...</td>\n",
       "      <td>0.000000</td>\n",
       "      <td>0.000000</td>\n",
       "      <td>0.000000</td>\n",
       "      <td>0.000000</td>\n",
       "      <td>0.000000</td>\n",
       "      <td>0.000000</td>\n",
       "      <td>0.000000</td>\n",
       "      <td>0.000000</td>\n",
       "      <td>0.000000</td>\n",
       "      <td>0.000000</td>\n",
       "    </tr>\n",
       "    <tr>\n",
       "      <th>50%</th>\n",
       "      <td>0.000000</td>\n",
       "      <td>0.000000</td>\n",
       "      <td>0.000000</td>\n",
       "      <td>0.000000</td>\n",
       "      <td>0.000000</td>\n",
       "      <td>0.000000</td>\n",
       "      <td>0.000000</td>\n",
       "      <td>0.000000</td>\n",
       "      <td>0.000000</td>\n",
       "      <td>0.000000</td>\n",
       "      <td>...</td>\n",
       "      <td>0.000000</td>\n",
       "      <td>0.000000</td>\n",
       "      <td>0.000000</td>\n",
       "      <td>0.000000</td>\n",
       "      <td>0.000000</td>\n",
       "      <td>0.000000</td>\n",
       "      <td>0.000000</td>\n",
       "      <td>0.000000</td>\n",
       "      <td>0.000000</td>\n",
       "      <td>1.000000</td>\n",
       "    </tr>\n",
       "    <tr>\n",
       "      <th>75%</th>\n",
       "      <td>0.000000</td>\n",
       "      <td>0.000000</td>\n",
       "      <td>0.000000</td>\n",
       "      <td>0.000000</td>\n",
       "      <td>0.000000</td>\n",
       "      <td>0.000000</td>\n",
       "      <td>0.000000</td>\n",
       "      <td>0.000000</td>\n",
       "      <td>0.000000</td>\n",
       "      <td>0.000000</td>\n",
       "      <td>...</td>\n",
       "      <td>0.000000</td>\n",
       "      <td>0.000000</td>\n",
       "      <td>0.000000</td>\n",
       "      <td>0.000000</td>\n",
       "      <td>13.500000</td>\n",
       "      <td>0.000000</td>\n",
       "      <td>0.000000</td>\n",
       "      <td>0.000000</td>\n",
       "      <td>0.000000</td>\n",
       "      <td>1.000000</td>\n",
       "    </tr>\n",
       "    <tr>\n",
       "      <th>max</th>\n",
       "      <td>196.000000</td>\n",
       "      <td>65.000000</td>\n",
       "      <td>12.000000</td>\n",
       "      <td>212.000000</td>\n",
       "      <td>12.000000</td>\n",
       "      <td>112.000000</td>\n",
       "      <td>192.000000</td>\n",
       "      <td>1728.000000</td>\n",
       "      <td>109.000000</td>\n",
       "      <td>89.000000</td>\n",
       "      <td>...</td>\n",
       "      <td>91.000000</td>\n",
       "      <td>145.000000</td>\n",
       "      <td>96.000000</td>\n",
       "      <td>77.000000</td>\n",
       "      <td>779.000000</td>\n",
       "      <td>218.000000</td>\n",
       "      <td>104.000000</td>\n",
       "      <td>106.000000</td>\n",
       "      <td>454.000000</td>\n",
       "      <td>1.000000</td>\n",
       "    </tr>\n",
       "  </tbody>\n",
       "</table>\n",
       "<p>8 rows × 251 columns</p>\n",
       "</div>"
      ],
      "text/plain": [
       "          ABILIFY  ACETAMINOPHEN.CODEINE   ACYCLOVIR  ADVAIR.DISKUS  \\\n",
       "count  199.000000             199.000000  199.000000     199.000000   \n",
       "mean     3.301508               1.874372    0.231156       8.809045   \n",
       "std     18.844112               7.819898    1.619588      23.129056   \n",
       "min      0.000000               0.000000    0.000000       0.000000   \n",
       "25%      0.000000               0.000000    0.000000       0.000000   \n",
       "50%      0.000000               0.000000    0.000000       0.000000   \n",
       "75%      0.000000               0.000000    0.000000       0.000000   \n",
       "max    196.000000              65.000000   12.000000     212.000000   \n",
       "\n",
       "         AGGRENOX  ALENDRONATE.SODIUM  ALLOPURINOL   ALPRAZOLAM  \\\n",
       "count  199.000000          199.000000   199.000000   199.000000   \n",
       "mean     0.180905            6.025126    11.221106    31.361809   \n",
       "std      1.465922           16.537511    31.155384   138.570041   \n",
       "min      0.000000            0.000000     0.000000     0.000000   \n",
       "25%      0.000000            0.000000     0.000000     0.000000   \n",
       "50%      0.000000            0.000000     0.000000     0.000000   \n",
       "75%      0.000000            0.000000     0.000000     0.000000   \n",
       "max     12.000000          112.000000   192.000000  1728.000000   \n",
       "\n",
       "       AMIODARONE.HCL  AMITRIPTYLINE.HCL        ...          VERAPAMIL.ER  \\\n",
       "count      199.000000         199.000000        ...            199.000000   \n",
       "mean         2.572864           6.030151        ...              2.919598   \n",
       "std         12.244292          15.192339        ...             12.060184   \n",
       "min          0.000000           0.000000        ...              0.000000   \n",
       "25%          0.000000           0.000000        ...              0.000000   \n",
       "50%          0.000000           0.000000        ...              0.000000   \n",
       "75%          0.000000           0.000000        ...              0.000000   \n",
       "max        109.000000          89.000000        ...             91.000000   \n",
       "\n",
       "         VESICARE    VOLTAREN     VYTORIN  WARFARIN.SODIUM     XARELTO  \\\n",
       "count  199.000000  199.000000  199.000000       199.000000  199.000000   \n",
       "mean     2.793970    1.105528    1.613065        26.467337    3.567839   \n",
       "std     12.933894    7.582803    8.577397        87.937292   19.432977   \n",
       "min      0.000000    0.000000    0.000000         0.000000    0.000000   \n",
       "25%      0.000000    0.000000    0.000000         0.000000    0.000000   \n",
       "50%      0.000000    0.000000    0.000000         0.000000    0.000000   \n",
       "75%      0.000000    0.000000    0.000000        13.500000    0.000000   \n",
       "max    145.000000   96.000000   77.000000       779.000000  218.000000   \n",
       "\n",
       "            ZETIA  ZIPRASIDONE.HCL  ZOLPIDEM.TARTRATE  Opioid.Prescriber  \n",
       "count  199.000000       199.000000         199.000000         199.000000  \n",
       "mean     7.110553         1.658291          13.391960           0.633166  \n",
       "std     19.456448         9.243825          41.724289           0.483156  \n",
       "min      0.000000         0.000000           0.000000           0.000000  \n",
       "25%      0.000000         0.000000           0.000000           0.000000  \n",
       "50%      0.000000         0.000000           0.000000           1.000000  \n",
       "75%      0.000000         0.000000           0.000000           1.000000  \n",
       "max    104.000000       106.000000         454.000000           1.000000  \n",
       "\n",
       "[8 rows x 251 columns]"
      ]
     },
     "execution_count": 35,
     "metadata": {},
     "output_type": "execute_result"
    }
   ],
   "source": [
    "wv_prescribers.describe()"
   ]
  },
  {
   "cell_type": "code",
   "execution_count": 38,
   "metadata": {},
   "outputs": [
    {
     "name": "stdout",
     "output_type": "stream",
     "text": [
      "(199, 255)\n"
     ]
    },
    {
     "data": {
      "image/png": "[encoded data removed]",
      "text/plain": [
       "<matplotlib.figure.Figure at 0x7fbcbd92fe48>"
      ]
     },
     "metadata": {},
     "output_type": "display_data"
    }
   ],
   "source": [
    "plt.subplots(figsize=(20,8))\n",
    "\n",
    "wv_opioid_prescribers_byspecialty = sns.countplot(x='Specialty', hue = 'Opioid.Prescriber', data = wv_prescribers)\n",
    "wv_opioid_prescribers_byspecialty.set_title('West Virginia Practitioners by Specialty')\n",
    "wv_opioid_prescribers_byspecialty.set_xticklabels(wv_prescribers.Specialty, rotation = 90)\n",
    "print(wv_prescribers.shape)"
   ]
  },
  {
   "cell_type": "code",
   "execution_count": 37,
   "metadata": {},
   "outputs": [
    {
     "data": {
      "text/html": [
       "<div>\n",
       "<style scoped>\n",
       "    .dataframe tbody tr th:only-of-type {\n",
       "        vertical-align: middle;\n",
       "    }\n",
       "\n",
       "    .dataframe tbody tr th {\n",
       "        vertical-align: top;\n",
       "    }\n",
       "\n",
       "    .dataframe thead th {\n",
       "        text-align: right;\n",
       "    }\n",
       "</style>\n",
       "<table border=\"1\" class=\"dataframe\">\n",
       "  <thead>\n",
       "    <tr style=\"text-align: right;\">\n",
       "      <th></th>\n",
       "      <th>ABILIFY</th>\n",
       "      <th>ACETAMINOPHEN.CODEINE</th>\n",
       "      <th>ACYCLOVIR</th>\n",
       "      <th>ADVAIR.DISKUS</th>\n",
       "      <th>AGGRENOX</th>\n",
       "      <th>ALENDRONATE.SODIUM</th>\n",
       "      <th>ALLOPURINOL</th>\n",
       "      <th>ALPRAZOLAM</th>\n",
       "      <th>AMIODARONE.HCL</th>\n",
       "      <th>AMITRIPTYLINE.HCL</th>\n",
       "      <th>...</th>\n",
       "      <th>VERAPAMIL.ER</th>\n",
       "      <th>VESICARE</th>\n",
       "      <th>VOLTAREN</th>\n",
       "      <th>VYTORIN</th>\n",
       "      <th>WARFARIN.SODIUM</th>\n",
       "      <th>XARELTO</th>\n",
       "      <th>ZETIA</th>\n",
       "      <th>ZIPRASIDONE.HCL</th>\n",
       "      <th>ZOLPIDEM.TARTRATE</th>\n",
       "      <th>Opioid.Prescriber</th>\n",
       "    </tr>\n",
       "  </thead>\n",
       "  <tbody>\n",
       "    <tr>\n",
       "      <th>count</th>\n",
       "      <td>66.000000</td>\n",
       "      <td>66.000000</td>\n",
       "      <td>66.000000</td>\n",
       "      <td>66.000000</td>\n",
       "      <td>66.000000</td>\n",
       "      <td>66.000000</td>\n",
       "      <td>66.000000</td>\n",
       "      <td>66.000000</td>\n",
       "      <td>66.000000</td>\n",
       "      <td>66.000000</td>\n",
       "      <td>...</td>\n",
       "      <td>66.000000</td>\n",
       "      <td>66.000000</td>\n",
       "      <td>66.000000</td>\n",
       "      <td>66.000000</td>\n",
       "      <td>66.000000</td>\n",
       "      <td>66.000000</td>\n",
       "      <td>66.000000</td>\n",
       "      <td>66.000000</td>\n",
       "      <td>66.000000</td>\n",
       "      <td>66.000000</td>\n",
       "    </tr>\n",
       "    <tr>\n",
       "      <th>mean</th>\n",
       "      <td>1.606061</td>\n",
       "      <td>2.181818</td>\n",
       "      <td>1.272727</td>\n",
       "      <td>9.954545</td>\n",
       "      <td>0.939394</td>\n",
       "      <td>12.939394</td>\n",
       "      <td>15.348485</td>\n",
       "      <td>8.090909</td>\n",
       "      <td>2.469697</td>\n",
       "      <td>5.727273</td>\n",
       "      <td>...</td>\n",
       "      <td>3.621212</td>\n",
       "      <td>2.000000</td>\n",
       "      <td>0.924242</td>\n",
       "      <td>0.787879</td>\n",
       "      <td>27.787879</td>\n",
       "      <td>1.424242</td>\n",
       "      <td>4.363636</td>\n",
       "      <td>0.787879</td>\n",
       "      <td>7.348485</td>\n",
       "      <td>0.590909</td>\n",
       "    </tr>\n",
       "    <tr>\n",
       "      <th>std</th>\n",
       "      <td>5.448723</td>\n",
       "      <td>9.488307</td>\n",
       "      <td>5.484371</td>\n",
       "      <td>23.246791</td>\n",
       "      <td>4.653795</td>\n",
       "      <td>28.258085</td>\n",
       "      <td>34.467149</td>\n",
       "      <td>27.917310</td>\n",
       "      <td>7.465242</td>\n",
       "      <td>17.651799</td>\n",
       "      <td>...</td>\n",
       "      <td>8.796442</td>\n",
       "      <td>7.306478</td>\n",
       "      <td>4.581940</td>\n",
       "      <td>4.521794</td>\n",
       "      <td>63.612895</td>\n",
       "      <td>8.061419</td>\n",
       "      <td>13.633258</td>\n",
       "      <td>6.400758</td>\n",
       "      <td>19.755032</td>\n",
       "      <td>0.495434</td>\n",
       "    </tr>\n",
       "    <tr>\n",
       "      <th>min</th>\n",
       "      <td>0.000000</td>\n",
       "      <td>0.000000</td>\n",
       "      <td>0.000000</td>\n",
       "      <td>0.000000</td>\n",
       "      <td>0.000000</td>\n",
       "      <td>0.000000</td>\n",
       "      <td>0.000000</td>\n",
       "      <td>0.000000</td>\n",
       "      <td>0.000000</td>\n",
       "      <td>0.000000</td>\n",
       "      <td>...</td>\n",
       "      <td>0.000000</td>\n",
       "      <td>0.000000</td>\n",
       "      <td>0.000000</td>\n",
       "      <td>0.000000</td>\n",
       "      <td>0.000000</td>\n",
       "      <td>0.000000</td>\n",
       "      <td>0.000000</td>\n",
       "      <td>0.000000</td>\n",
       "      <td>0.000000</td>\n",
       "      <td>0.000000</td>\n",
       "    </tr>\n",
       "    <tr>\n",
       "      <th>25%</th>\n",
       "      <td>0.000000</td>\n",
       "      <td>0.000000</td>\n",
       "      <td>0.000000</td>\n",
       "      <td>0.000000</td>\n",
       "      <td>0.000000</td>\n",
       "      <td>0.000000</td>\n",
       "      <td>0.000000</td>\n",
       "      <td>0.000000</td>\n",
       "      <td>0.000000</td>\n",
       "      <td>0.000000</td>\n",
       "      <td>...</td>\n",
       "      <td>0.000000</td>\n",
       "      <td>0.000000</td>\n",
       "      <td>0.000000</td>\n",
       "      <td>0.000000</td>\n",
       "      <td>0.000000</td>\n",
       "      <td>0.000000</td>\n",
       "      <td>0.000000</td>\n",
       "      <td>0.000000</td>\n",
       "      <td>0.000000</td>\n",
       "      <td>0.000000</td>\n",
       "    </tr>\n",
       "    <tr>\n",
       "      <th>50%</th>\n",
       "      <td>0.000000</td>\n",
       "      <td>0.000000</td>\n",
       "      <td>0.000000</td>\n",
       "      <td>0.000000</td>\n",
       "      <td>0.000000</td>\n",
       "      <td>0.000000</td>\n",
       "      <td>0.000000</td>\n",
       "      <td>0.000000</td>\n",
       "      <td>0.000000</td>\n",
       "      <td>0.000000</td>\n",
       "      <td>...</td>\n",
       "      <td>0.000000</td>\n",
       "      <td>0.000000</td>\n",
       "      <td>0.000000</td>\n",
       "      <td>0.000000</td>\n",
       "      <td>0.000000</td>\n",
       "      <td>0.000000</td>\n",
       "      <td>0.000000</td>\n",
       "      <td>0.000000</td>\n",
       "      <td>0.000000</td>\n",
       "      <td>1.000000</td>\n",
       "    </tr>\n",
       "    <tr>\n",
       "      <th>75%</th>\n",
       "      <td>0.000000</td>\n",
       "      <td>0.000000</td>\n",
       "      <td>0.000000</td>\n",
       "      <td>0.000000</td>\n",
       "      <td>0.000000</td>\n",
       "      <td>0.000000</td>\n",
       "      <td>13.750000</td>\n",
       "      <td>0.000000</td>\n",
       "      <td>0.000000</td>\n",
       "      <td>0.000000</td>\n",
       "      <td>...</td>\n",
       "      <td>0.000000</td>\n",
       "      <td>0.000000</td>\n",
       "      <td>0.000000</td>\n",
       "      <td>0.000000</td>\n",
       "      <td>16.250000</td>\n",
       "      <td>0.000000</td>\n",
       "      <td>0.000000</td>\n",
       "      <td>0.000000</td>\n",
       "      <td>0.000000</td>\n",
       "      <td>1.000000</td>\n",
       "    </tr>\n",
       "    <tr>\n",
       "      <th>max</th>\n",
       "      <td>28.000000</td>\n",
       "      <td>68.000000</td>\n",
       "      <td>31.000000</td>\n",
       "      <td>123.000000</td>\n",
       "      <td>31.000000</td>\n",
       "      <td>105.000000</td>\n",
       "      <td>168.000000</td>\n",
       "      <td>203.000000</td>\n",
       "      <td>30.000000</td>\n",
       "      <td>106.000000</td>\n",
       "      <td>...</td>\n",
       "      <td>46.000000</td>\n",
       "      <td>40.000000</td>\n",
       "      <td>30.000000</td>\n",
       "      <td>29.000000</td>\n",
       "      <td>360.000000</td>\n",
       "      <td>62.000000</td>\n",
       "      <td>65.000000</td>\n",
       "      <td>52.000000</td>\n",
       "      <td>112.000000</td>\n",
       "      <td>1.000000</td>\n",
       "    </tr>\n",
       "  </tbody>\n",
       "</table>\n",
       "<p>8 rows × 251 columns</p>\n",
       "</div>"
      ],
      "text/plain": [
       "         ABILIFY  ACETAMINOPHEN.CODEINE  ACYCLOVIR  ADVAIR.DISKUS   AGGRENOX  \\\n",
       "count  66.000000              66.000000  66.000000      66.000000  66.000000   \n",
       "mean    1.606061               2.181818   1.272727       9.954545   0.939394   \n",
       "std     5.448723               9.488307   5.484371      23.246791   4.653795   \n",
       "min     0.000000               0.000000   0.000000       0.000000   0.000000   \n",
       "25%     0.000000               0.000000   0.000000       0.000000   0.000000   \n",
       "50%     0.000000               0.000000   0.000000       0.000000   0.000000   \n",
       "75%     0.000000               0.000000   0.000000       0.000000   0.000000   \n",
       "max    28.000000              68.000000  31.000000     123.000000  31.000000   \n",
       "\n",
       "       ALENDRONATE.SODIUM  ALLOPURINOL  ALPRAZOLAM  AMIODARONE.HCL  \\\n",
       "count           66.000000    66.000000   66.000000       66.000000   \n",
       "mean            12.939394    15.348485    8.090909        2.469697   \n",
       "std             28.258085    34.467149   27.917310        7.465242   \n",
       "min              0.000000     0.000000    0.000000        0.000000   \n",
       "25%              0.000000     0.000000    0.000000        0.000000   \n",
       "50%              0.000000     0.000000    0.000000        0.000000   \n",
       "75%              0.000000    13.750000    0.000000        0.000000   \n",
       "max            105.000000   168.000000  203.000000       30.000000   \n",
       "\n",
       "       AMITRIPTYLINE.HCL        ...          VERAPAMIL.ER   VESICARE  \\\n",
       "count          66.000000        ...             66.000000  66.000000   \n",
       "mean            5.727273        ...              3.621212   2.000000   \n",
       "std            17.651799        ...              8.796442   7.306478   \n",
       "min             0.000000        ...              0.000000   0.000000   \n",
       "25%             0.000000        ...              0.000000   0.000000   \n",
       "50%             0.000000        ...              0.000000   0.000000   \n",
       "75%             0.000000        ...              0.000000   0.000000   \n",
       "max           106.000000        ...             46.000000  40.000000   \n",
       "\n",
       "        VOLTAREN    VYTORIN  WARFARIN.SODIUM    XARELTO      ZETIA  \\\n",
       "count  66.000000  66.000000        66.000000  66.000000  66.000000   \n",
       "mean    0.924242   0.787879        27.787879   1.424242   4.363636   \n",
       "std     4.581940   4.521794        63.612895   8.061419  13.633258   \n",
       "min     0.000000   0.000000         0.000000   0.000000   0.000000   \n",
       "25%     0.000000   0.000000         0.000000   0.000000   0.000000   \n",
       "50%     0.000000   0.000000         0.000000   0.000000   0.000000   \n",
       "75%     0.000000   0.000000        16.250000   0.000000   0.000000   \n",
       "max    30.000000  29.000000       360.000000  62.000000  65.000000   \n",
       "\n",
       "       ZIPRASIDONE.HCL  ZOLPIDEM.TARTRATE  Opioid.Prescriber  \n",
       "count        66.000000          66.000000          66.000000  \n",
       "mean          0.787879           7.348485           0.590909  \n",
       "std           6.400758          19.755032           0.495434  \n",
       "min           0.000000           0.000000           0.000000  \n",
       "25%           0.000000           0.000000           0.000000  \n",
       "50%           0.000000           0.000000           1.000000  \n",
       "75%           0.000000           0.000000           1.000000  \n",
       "max          52.000000         112.000000           1.000000  \n",
       "\n",
       "[8 rows x 251 columns]"
      ]
     },
     "execution_count": 37,
     "metadata": {},
     "output_type": "execute_result"
    }
   ],
   "source": [
    "nd_prescribers.describe()"
   ]
  },
  {
   "cell_type": "code",
   "execution_count": 37,
   "metadata": {},
   "outputs": [
    {
     "name": "stdout",
     "output_type": "stream",
     "text": [
      "(66, 255)\n"
     ]
    },
    {
     "data": {
      "image/png": "[encoded data removed]",
      "text/plain": [
       "<matplotlib.figure.Figure at 0x7fbcbd897048>"
      ]
     },
     "metadata": {},
     "output_type": "display_data"
    }
   ],
   "source": [
    "plt.subplots(figsize=(20,10))\n",
    "\n",
    "nd_opioid_prescribers_byspecialty = sns.countplot(x='Specialty', hue = 'Opioid.Prescriber', data = nd_prescribers)\n",
    "nd_opioid_prescribers_byspecialty.set_title('North Dakota Prescribers by Specialty')\n",
    "nd_opioid_prescribers_byspecialty.set_xticklabels(nd_prescribers.Specialty, rotation=90)\n",
    "print(nd_prescribers.shape)"
   ]
  },
  {
   "cell_type": "markdown",
   "metadata": {},
   "source": [
    "### Number of Prescribers in each state"
   ]
  },
  {
   "cell_type": "code",
   "execution_count": 39,
   "metadata": {},
   "outputs": [
    {
     "name": "stdout",
     "output_type": "stream",
     "text": [
      "(25000, 255)\n"
     ]
    }
   ],
   "source": [
    "print(prescribers.shape)"
   ]
  },
  {
   "cell_type": "code",
   "execution_count": 56,
   "metadata": {},
   "outputs": [
    {
     "data": {
      "text/plain": [
       "Text(0.5,1,'Number of Prescribers per State')"
      ]
     },
     "execution_count": 56,
     "metadata": {},
     "output_type": "execute_result"
    },
    {
     "data": {
      "image/png": "[encoded data removed]",
      "text/plain": [
       "<matplotlib.figure.Figure at 0x7f3eea3424e0>"
      ]
     },
     "metadata": {},
     "output_type": "display_data"
    }
   ],
   "source": [
    "plt.subplots(figsize=(25,10))\n",
    "practitioner_count = sns.countplot(x='Abbrev', data=prescribers.sort_values('Abbrev'))\n",
    "practitioner_count.set_title('Number of Prescribers per State')"
   ]
  },
  {
   "cell_type": "markdown",
   "metadata": {},
   "source": [
    "### Legend for some unfamiliar abbreviations:\n",
    "* AA - Armed Forces Americas \n",
    "* AE - Armed Forces Africa\n",
    "* GU - Guam\n",
    "* VI - US Virgin Islands\n",
    "* ZZ - ???"
   ]
  },
  {
   "cell_type": "markdown",
   "metadata": {},
   "source": [
    "## Specialties with many prescribers "
   ]
  },
  {
   "cell_type": "markdown",
   "metadata": {},
   "source": [
    "### At least 100 prescribers: "
   ]
  },
  {
   "cell_type": "code",
   "execution_count": 153,
   "metadata": {},
   "outputs": [
    {
     "name": "stdout",
     "output_type": "stream",
     "text": [
      "Total specialties recorded: 109\n",
      "Specialties with > 100 prescribers recorded: 33\n"
     ]
    }
   ],
   "source": [
    "specialty_counts = prescribers.Specialty.value_counts()\n",
    "print('Total specialties recorded: {}'.format(len(specialty_counts)))\n",
    "print('Specialties with > 100 prescribers recorded: {}'.format(len(specialty_counts[specialty_counts > 100])))"
   ]
  },
  {
   "cell_type": "code",
   "execution_count": 154,
   "metadata": {},
   "outputs": [
    {
     "data": {
      "text/plain": [
       "count      33.000000\n",
       "mean      713.484848\n",
       "std       883.124252\n",
       "min       117.000000\n",
       "25%       218.000000\n",
       "50%       369.000000\n",
       "75%       615.000000\n",
       "max      3194.000000\n",
       "Name: Specialty, dtype: float64"
      ]
     },
     "execution_count": 154,
     "metadata": {},
     "output_type": "execute_result"
    }
   ],
   "source": [
    "specialty_counts[specialty_counts > 100].describe()"
   ]
  },
  {
   "cell_type": "code",
   "execution_count": 155,
   "metadata": {},
   "outputs": [
    {
     "data": {
      "text/plain": [
       "Internal Medicine                                                 3194\n",
       "Family Practice                                                   2975\n",
       "Dentist                                                           2800\n",
       "Nurse Practitioner                                                2512\n",
       "Physician Assistant                                               1839\n",
       "Emergency Medicine                                                1087\n",
       "Psychiatry                                                         691\n",
       "Cardiology                                                         688\n",
       "Obstetrics/Gynecology                                              615\n",
       "Orthopedic Surgery                                                 575\n",
       "Optometry                                                          571\n",
       "Student in an Organized Health Care Education/Training Program     547\n",
       "Ophthalmology                                                      519\n",
       "General Surgery                                                    487\n",
       "Gastroenterology                                                   399\n",
       "Neurology                                                          371\n",
       "Podiatry                                                           369\n",
       "Dermatology                                                        344\n",
       "Urology                                                            328\n",
       "Psychiatry & Neurology                                             266\n",
       "Pulmonary Disease                                                  262\n",
       "Otolaryngology                                                     260\n",
       "General Practice                                                   247\n",
       "Nephrology                                                         236\n",
       "Hematology/Oncology                                                218\n",
       "Physical Medicine and Rehabilitation                               200\n",
       "Endocrinology                                                      153\n",
       "Pediatric Medicine                                                 145\n",
       "Oral Surgery (dentists only)                                       140\n",
       "Anesthesiology                                                     138\n",
       "Rheumatology                                                       131\n",
       "Allergy/Immunology                                                 121\n",
       "Infectious Disease                                                 117\n",
       "Name: Specialty, dtype: int64"
      ]
     },
     "execution_count": 155,
     "metadata": {},
     "output_type": "execute_result"
    }
   ],
   "source": [
    "specialty_counts[specialty_counts > 100]"
   ]
  },
  {
   "cell_type": "markdown",
   "metadata": {},
   "source": [
    "### At least 50 prescribers"
   ]
  },
  {
   "cell_type": "code",
   "execution_count": 169,
   "metadata": {},
   "outputs": [
    {
     "data": {
      "text/plain": [
       "count      43.000000\n",
       "mean      564.162791\n",
       "std       818.292616\n",
       "min        52.000000\n",
       "25%       119.000000\n",
       "50%       260.000000\n",
       "75%       559.000000\n",
       "max      3194.000000\n",
       "Name: Specialty, dtype: float64"
      ]
     },
     "execution_count": 169,
     "metadata": {},
     "output_type": "execute_result"
    }
   ],
   "source": [
    "specialty_counts[specialty_counts > 50].describe()"
   ]
  },
  {
   "cell_type": "code",
   "execution_count": 170,
   "metadata": {},
   "outputs": [
    {
     "data": {
      "text/plain": [
       "Internal Medicine                                                 3194\n",
       "Family Practice                                                   2975\n",
       "Dentist                                                           2800\n",
       "Nurse Practitioner                                                2512\n",
       "Physician Assistant                                               1839\n",
       "Emergency Medicine                                                1087\n",
       "Psychiatry                                                         691\n",
       "Cardiology                                                         688\n",
       "Obstetrics/Gynecology                                              615\n",
       "Orthopedic Surgery                                                 575\n",
       "Optometry                                                          571\n",
       "Student in an Organized Health Care Education/Training Program     547\n",
       "Ophthalmology                                                      519\n",
       "General Surgery                                                    487\n",
       "Gastroenterology                                                   399\n",
       "Neurology                                                          371\n",
       "Podiatry                                                           369\n",
       "Dermatology                                                        344\n",
       "Urology                                                            328\n",
       "Psychiatry & Neurology                                             266\n",
       "Pulmonary Disease                                                  262\n",
       "Otolaryngology                                                     260\n",
       "General Practice                                                   247\n",
       "Nephrology                                                         236\n",
       "Hematology/Oncology                                                218\n",
       "Physical Medicine and Rehabilitation                               200\n",
       "Endocrinology                                                      153\n",
       "Pediatric Medicine                                                 145\n",
       "Oral Surgery (dentists only)                                       140\n",
       "Anesthesiology                                                     138\n",
       "Rheumatology                                                       131\n",
       "Allergy/Immunology                                                 121\n",
       "Infectious Disease                                                 117\n",
       "Plastic and Reconstructive Surgery                                  99\n",
       "Radiation Oncology                                                  88\n",
       "Medical Oncology                                                    84\n",
       "Neurosurgery                                                        82\n",
       "Certified Clinical Nurse Specialist                                 70\n",
       "Vascular Surgery                                                    66\n",
       "Geriatric Medicine                                                  59\n",
       "Specialist                                                          59\n",
       "Pain Management                                                     55\n",
       "Neuropsychiatry                                                     52\n",
       "Name: Specialty, dtype: int64"
      ]
     },
     "execution_count": 170,
     "metadata": {},
     "output_type": "execute_result"
    }
   ],
   "source": [
    "specialty_counts[specialty_counts > 50]"
   ]
  },
  {
   "cell_type": "markdown",
   "metadata": {},
   "source": [
    "# Which drugs are prescribed most often? "
   ]
  },
  {
   "cell_type": "code",
   "execution_count": 163,
   "metadata": {},
   "outputs": [
    {
     "data": {
      "text/plain": [
       "LISINOPRIL                        1176243\n",
       "LEVOTHYROXINE.SODIUM              1144724\n",
       "AMLODIPINE.BESYLATE               1107865\n",
       "SIMVASTATIN                       1032511\n",
       "OMEPRAZOLE                        1012238\n",
       "ATORVASTATIN.CALCIUM               988910\n",
       "HYDROCODONE.ACETAMINOPHEN          958082\n",
       "FUROSEMIDE                         828161\n",
       "METFORMIN.HCL                      715162\n",
       "METOPROLOL.TARTRATE                657013\n",
       "GABAPENTIN                         654491\n",
       "LOSARTAN.POTASSIUM                 553719\n",
       "HYDROCHLOROTHIAZIDE                536818\n",
       "METOPROLOL.SUCCINATE               522404\n",
       "WARFARIN.SODIUM                    479951\n",
       "CLOPIDOGREL                        452530\n",
       "PRAVASTATIN.SODIUM                 451433\n",
       "CARVEDILOL                         415007\n",
       "TRAMADOL.HCL                       406693\n",
       "ALPRAZOLAM                         403203\n",
       "ATENOLOL                           394700\n",
       "POTASSIUM.CHLORIDE                 385786\n",
       "TAMSULOSIN.HCL                     367304\n",
       "PANTOPRAZOLE.SODIUM                346253\n",
       "SERTRALINE.HCL                     341680\n",
       "CITALOPRAM.HBR                     312497\n",
       "FLUTICASONE.PROPIONATE             304423\n",
       "PREDNISONE                         301933\n",
       "TRAZODONE.HCL                      293562\n",
       "ZOLPIDEM.TARTRATE                  289328\n",
       "                                   ...   \n",
       "HYDROMORPHONE.HCL                   23177\n",
       "LITHIUM.CARBONATE                   23016\n",
       "CILOSTAZOL                          22555\n",
       "BISOPROLOL.HYDROCHLOROTHIAZIDE      22120\n",
       "SUMATRIPTAN.SUCCINATE               22109\n",
       "NIACIN.ER                           21345\n",
       "CEFUROXIME                          21139\n",
       "METHOCARBAMOL                       21074\n",
       "MORPHINE.SULFATE                    20738\n",
       "VENLAFAXINE.HCL                     20495\n",
       "VALSARTAN                           20454\n",
       "DILTIAZEM.HCL                       20202\n",
       "VYTORIN                             20156\n",
       "DOXEPIN.HCL                         19687\n",
       "HYDROCORTISONE                      19514\n",
       "NIFEDICAL.XL                        19184\n",
       "RALOXIFENE.HCL                      19037\n",
       "PROPRANOLOL.HCL.ER                  18762\n",
       "IPRATROPIUM.BROMIDE                 18721\n",
       "TOPROL.XL                           17727\n",
       "AGGRENOX                            17711\n",
       "FELODIPINE.ER                       17400\n",
       "IBANDRONATE.SODIUM                  17158\n",
       "ONGLYZA                             16880\n",
       "FLOVENT.HFA                         16467\n",
       "PHENOBARBITAL                       16270\n",
       "CARTIA.XT                           15931\n",
       "TOLTERODINE.TARTRATE.ER             15053\n",
       "DIPHENOXYLATE.ATROPINE              13668\n",
       "ONDANSETRON.ODT                     12563\n",
       "Length: 250, dtype: int64"
      ]
     },
     "execution_count": 163,
     "metadata": {},
     "output_type": "execute_result"
    }
   ],
   "source": [
    "tracked_drugs = list(prescribers.columns)[4:-1]\n",
    "# Which drugs are most often prescribed? \n",
    "prescribers[tracked_drugs].aggregate(sum).sort_values(ascending = False)"
   ]
  },
  {
   "cell_type": "markdown",
   "metadata": {},
   "source": [
    "## TODO: \n",
    "* Use opiods.csv to identify which of the items in tracked_drugs are opioids. "
   ]
  },
  {
   "cell_type": "code",
   "execution_count": 164,
   "metadata": {},
   "outputs": [],
   "source": [
    "#Let's take a look at Hydrocodone/ Acetaminophen, aka Vicodin, a well-known opioid \n",
    "vicodin_prescribers = prescribers[prescribers['HYDROCODONE.ACETAMINOPHEN']!=0]"
   ]
  },
  {
   "cell_type": "code",
   "execution_count": 166,
   "metadata": {},
   "outputs": [
    {
     "data": {
      "text/plain": [
       "(10044, 255)"
      ]
     },
     "execution_count": 166,
     "metadata": {},
     "output_type": "execute_result"
    }
   ],
   "source": [
    "vicodin_prescribers.shape"
   ]
  },
  {
   "cell_type": "code",
   "execution_count": 167,
   "metadata": {},
   "outputs": [],
   "source": [
    "vicodin_specialty_counts = vicodin_prescribers.Specialty.value_counts()"
   ]
  },
  {
   "cell_type": "code",
   "execution_count": 168,
   "metadata": {},
   "outputs": [
    {
     "data": {
      "text/plain": [
       "Family Practice                                                   2120\n",
       "Internal Medicine                                                 1639\n",
       "Physician Assistant                                                836\n",
       "Nurse Practitioner                                                 824\n",
       "Emergency Medicine                                                 810\n",
       "Dentist                                                            679\n",
       "Orthopedic Surgery                                                 489\n",
       "General Surgery                                                    317\n",
       "Urology                                                            186\n",
       "Podiatry                                                           143\n",
       "Physical Medicine and Rehabilitation                               131\n",
       "Hematology/Oncology                                                122\n",
       "Neurology                                                          113\n",
       "Oral Surgery (dentists only)                                       109\n",
       "Otolaryngology                                                     103\n",
       "General Practice                                                    97\n",
       "Student in an Organized Health Care Education/Training Program      92\n",
       "Rheumatology                                                        89\n",
       "Anesthesiology                                                      79\n",
       "Cardiology                                                          78\n",
       "Neurosurgery                                                        63\n",
       "Nephrology                                                          60\n",
       "Obstetrics/Gynecology                                               58\n",
       "Plastic and Reconstructive Surgery                                  54\n",
       "Pain Management                                                     51\n",
       "Medical Oncology                                                    50\n",
       "Geriatric Medicine                                                  39\n",
       "Interventional Pain Management                                      39\n",
       "Pulmonary Disease                                                   38\n",
       "Radiation Oncology                                                  37\n",
       "                                                                  ... \n",
       "Oral & Maxillofacial Surgery                                         4\n",
       "Family Medicine                                                      3\n",
       "Surgery                                                              3\n",
       "Neuropsychiatry                                                      3\n",
       "Critical Care (Intensivists)                                         3\n",
       "Multispecialty Clinic/Group Practice                                 2\n",
       "Interventional Radiology                                             2\n",
       "Neurological Surgery                                                 2\n",
       "Hospitalist                                                          2\n",
       "Preferred Provider Organization                                      2\n",
       "Nuclear Medicine                                                     2\n",
       "Licensed Practical Nurse                                             2\n",
       "Cardiac Electrophysiology                                            2\n",
       "Unknown Physician Specialty Code                                     2\n",
       "Pharmacist                                                           2\n",
       "Allergy/Immunology                                                   2\n",
       "Psychiatry & Neurology                                               2\n",
       "Clinical Pharmacology                                                1\n",
       "Certified Nurse Midwife                                              1\n",
       "Legal Medicine                                                       1\n",
       "CRNA                                                                 1\n",
       "Preventive Medicine                                                  1\n",
       "Naturopath                                                           1\n",
       "Neuromusculoskeletal Medicine, Sports Medicine                       1\n",
       "Addiction Medicine                                                   1\n",
       "Pathology                                                            1\n",
       "Health Maintenance Organization                                      1\n",
       "Clinic/Center                                                        1\n",
       "Geriatric Psychiatry                                                 1\n",
       "Optometry                                                            1\n",
       "Name: Specialty, Length: 85, dtype: int64"
      ]
     },
     "execution_count": 168,
     "metadata": {},
     "output_type": "execute_result"
    }
   ],
   "source": [
    "vicodin_specialty_counts"
   ]
  },
  {
   "cell_type": "code",
   "execution_count": null,
   "metadata": {},
   "outputs": [],
   "source": []
  }
 ],
 "metadata": {
  "kernelspec": {
   "display_name": "Python 3",
   "language": "python",
   "name": "python3"
  },
  "language_info": {
   "codemirror_mode": {
    "name": "ipython",
    "version": 3
   },
   "file_extension": ".py",
   "mimetype": "text/x-python",
   "name": "python",
   "nbconvert_exporter": "python",
   "pygments_lexer": "ipython3",
   "version": "3.6.4"
  }
 },
 "nbformat": 4,
 "nbformat_minor": 2
}
