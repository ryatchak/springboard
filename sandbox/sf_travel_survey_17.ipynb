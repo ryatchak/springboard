{
 "cells": [
  {
   "cell_type": "code",
   "execution_count": 38,
   "metadata": {},
   "outputs": [],
   "source": [
    "import pandas as pd \n",
    "import matplotlib.pyplot as plt\n",
    "import numpy as np\n",
    "%matplotlib inline"
   ]
  },
  {
   "cell_type": "code",
   "execution_count": 13,
   "metadata": {},
   "outputs": [],
   "source": [
    "data = pd.read_excel('TDS_202017_20Data-WEBPAGE.xlsx', sheet_name='Data')\n",
    "legend = pd.read_excel('TDS_202017_20Data-WEBPAGE.xlsx', sheet_name='Data Dictionary')"
   ]
  },
  {
   "cell_type": "code",
   "execution_count": 11,
   "metadata": {},
   "outputs": [
    {
     "name": "stdout",
     "output_type": "stream",
     "text": [
      "Index(['*RESPNUM', 'Q2', 'Q3', 'Trips', 'Q4TOT', 'Q5TOT', 'Q4aP', 'Q4bP',\n",
      "       'Q4cP', 'Q4dP',\n",
      "       ...\n",
      "       'Q29', 'Q30', 'SAMPLETYPE', 'LANG', 'ZONE', 'Interview_Date',\n",
      "       'Interview_Day', 'DRVRFLAG', 'AGECO', 'WEIGHT'],\n",
      "      dtype='object', length=184)\n"
     ]
    }
   ],
   "source": [
    "print(data.columns)"
   ]
  },
  {
   "cell_type": "code",
   "execution_count": 104,
   "metadata": {
    "scrolled": true
   },
   "outputs": [
    {
     "name": "stdout",
     "output_type": "stream",
     "text": [
      "{1: 94102, 2: 94103, 3: 94104, 4: 94105, 5: 94107, 6: 94108, 7: 94109, 8: 94110, 9: 94111, 10: 94112, 11: 94114, 12: 94115, 13: 94116, 14: 94117, 15: 94118, 16: 94121, 17: 94122, 18: 94123, 19: 94124, 20: 94127, 21: 94128, 22: 94129, 23: 94130, 24: 94131, 25: 94132, 26: 94133, 27: 94134, 28: 94158, 29: 94188, 30: 'Refused '}\n"
     ]
    }
   ],
   "source": [
    "# get SF zip codes \n",
    "\n",
    "s = legend[legend['Field']== 'Q25A-SF']['Codes']\n",
    "zips = s.iloc[0]\n",
    "zlst = zips.split('\\n')\n",
    "zdict = {}\n",
    "for code in zlst:\n",
    "    i, j = code.split('=')\n",
    "    try:\n",
    "        zdict[int(i)]=int(j)\n",
    "    except:\n",
    "        zdict[int(i)]=j\n",
    "print(zdict)"
   ]
  },
  {
   "cell_type": "code",
   "execution_count": 41,
   "metadata": {},
   "outputs": [],
   "source": [
    "# for now let's just rename a few columns we'll definitely want to look at \n",
    "data.rename(columns={'Q25A-SF':'zip_sf', 'Q25A-NSF':'zip_nsf', 'Q29':'income', 'Q27':'age'}, inplace=True)"
   ]
  },
  {
   "cell_type": "code",
   "execution_count": 48,
   "metadata": {},
   "outputs": [
    {
     "name": "stdout",
     "output_type": "stream",
     "text": [
      "<class 'numpy.float64'>\n"
     ]
    },
    {
     "data": {
      "text/plain": [
       "False"
      ]
     },
     "execution_count": 48,
     "metadata": {},
     "output_type": "execute_result"
    }
   ],
   "source": [
    "# figure out what happened to empty cells \n",
    "d = data.iloc[0]['zip_sf']\n",
    "print(type(d))\n",
    "d is np.NaN"
   ]
  },
  {
   "cell_type": "code",
   "execution_count": 114,
   "metadata": {
    "scrolled": true
   },
   "outputs": [
    {
     "name": "stdout",
     "output_type": "stream",
     "text": [
      "count    401.000000\n",
      "mean      14.164589\n",
      "std        7.814592\n",
      "min        1.000000\n",
      "25%        8.000000\n",
      "50%       14.000000\n",
      "75%       19.000000\n",
      "max       30.000000\n",
      "Name: zip_sf, dtype: float64\n"
     ]
    },
    {
     "name": "stderr",
     "output_type": "stream",
     "text": [
      "/home/rika/anaconda3/lib/python3.6/site-packages/pandas/core/generic.py:4619: SettingWithCopyWarning: \n",
      "A value is trying to be set on a copy of a slice from a DataFrame\n",
      "\n",
      "See the caveats in the documentation: http://pandas.pydata.org/pandas-docs/stable/indexing.html#indexing-view-versus-copy\n",
      "  self._update_inplace(new_data)\n"
     ]
    },
    {
     "data": {
      "text/plain": [
       "<matplotlib.axes._subplots.AxesSubplot at 0x7f60192facf8>"
      ]
     },
     "execution_count": 114,
     "metadata": {},
     "output_type": "execute_result"
    },
    {
     "data": {
      "image/png": "[encoded data removed]",
      "text/plain": [
       "<matplotlib.figure.Figure at 0x7f6018edbe48>"
      ]
     },
     "metadata": {},
     "output_type": "display_data"
    }
   ],
   "source": [
    "# split into SF and nonSF responder dataframes \n",
    "# SF responders \n",
    "sf_resp = data[data['zip_sf'].notnull()]\n",
    "print(sf_resp['zip_sf'].describe())\n",
    "sf_resp['zip_sf'].tail()\n",
    "# map number codes to zip codes \n",
    "sf_resp['zip_sf'].replace(zdict, inplace=True)\n",
    "sf_resp['zip_sf'].tail()\n",
    "sf_resp['zip_sf'].value_counts().plot(kind='bar')"
   ]
  },
  {
   "cell_type": "code",
   "execution_count": 115,
   "metadata": {},
   "outputs": [
    {
     "name": "stdout",
     "output_type": "stream",
     "text": [
      "94110.0     32\n",
      "94112.0     28\n",
      "94134.0     24\n",
      "94102.0     23\n",
      "94122.0     23\n",
      "94121.0     22\n",
      "94131.0     21\n",
      "94116.0     20\n",
      "94114.0     19\n",
      "94109.0     19\n",
      "94118.0     19\n",
      "94124.0     18\n",
      "94117.0     18\n",
      "94103.0     17\n",
      "94115.0     15\n",
      "94127.0     12\n",
      "94132.0     12\n",
      "94133.0     11\n",
      "94108.0      9\n",
      "94123.0      8\n",
      "94107.0      8\n",
      "Refused      8\n",
      "94105.0      6\n",
      "94129.0      5\n",
      "94158.0      3\n",
      "94111.0      1\n",
      "Name: zip_sf, dtype: int64\n"
     ]
    }
   ],
   "source": [
    "print(sf_resp['zip_sf'].value_counts())"
   ]
  },
  {
   "cell_type": "code",
   "execution_count": 112,
   "metadata": {},
   "outputs": [
    {
     "name": "stdout",
     "output_type": "stream",
     "text": [
      "count      403.000000\n",
      "mean     94761.014888\n",
      "std       1095.721367\n",
      "min      94002.000000\n",
      "25%      94401.000000\n",
      "50%      94563.000000\n",
      "75%      94903.500000\n",
      "max      99999.000000\n",
      "Name: zip_nsf, dtype: float64\n"
     ]
    },
    {
     "data": {
      "text/plain": [
       "99999.0    15\n",
       "94014.0    13\n",
       "94080.0    11\n",
       "94941.0    10\n",
       "94066.0     8\n",
       "94010.0     8\n",
       "94044.0     7\n",
       "94501.0     7\n",
       "94403.0     6\n",
       "94523.0     6\n",
       "94061.0     6\n",
       "94925.0     6\n",
       "94609.0     6\n",
       "94608.0     6\n",
       "94558.0     6\n",
       "94804.0     6\n",
       "94564.0     5\n",
       "94015.0     5\n",
       "94947.0     5\n",
       "94901.0     5\n",
       "94591.0     5\n",
       "94513.0     5\n",
       "94520.0     5\n",
       "94404.0     5\n",
       "94611.0     5\n",
       "94553.0     4\n",
       "94587.0     4\n",
       "94563.0     4\n",
       "94560.0     4\n",
       "94965.0     4\n",
       "           ..\n",
       "95133.0     1\n",
       "94018.0     1\n",
       "94559.0     1\n",
       "94545.0     1\n",
       "94019.0     1\n",
       "95403.0     1\n",
       "94603.0     1\n",
       "94517.0     1\n",
       "95401.0     1\n",
       "95124.0     1\n",
       "94705.0     1\n",
       "94612.0     1\n",
       "94065.0     1\n",
       "94105.0     1\n",
       "94582.0     1\n",
       "94805.0     1\n",
       "94505.0     1\n",
       "95127.0     1\n",
       "94124.0     1\n",
       "95694.0     1\n",
       "94949.0     1\n",
       "94043.0     1\n",
       "94539.0     1\n",
       "94588.0     1\n",
       "94506.0     1\n",
       "95134.0     1\n",
       "94509.0     1\n",
       "94586.0     1\n",
       "94507.0     1\n",
       "94538.0     1\n",
       "Name: zip_nsf, Length: 156, dtype: int64"
      ]
     },
     "execution_count": 112,
     "metadata": {},
     "output_type": "execute_result"
    }
   ],
   "source": [
    "# nonSF responders... how many different zipcodes are there? \n",
    "# note, 99999 means Refused/don't know \n",
    "nsf_resp = data[data['zip_nsf'].notnull()]\n",
    "print(nsf_resp['zip_nsf'].describe())\n",
    "nsf_resp['zip_nsf'].tail()\n",
    "nsf_zips = set([int(i) for i in nsf_resp['zip_nsf']])\n",
    "nsf_resp['zip_nsf'].value_counts()"
   ]
  },
  {
   "cell_type": "code",
   "execution_count": null,
   "metadata": {},
   "outputs": [],
   "source": []
  }
 ],
 "metadata": {
  "kernelspec": {
   "display_name": "Python 3",
   "language": "python",
   "name": "python3"
  },
  "language_info": {
   "codemirror_mode": {
    "name": "ipython",
    "version": 3
   },
   "file_extension": ".py",
   "mimetype": "text/x-python",
   "name": "python",
   "nbconvert_exporter": "python",
   "pygments_lexer": "ipython3",
   "version": "3.6.4"
  }
 },
 "nbformat": 4,
 "nbformat_minor": 2
}
