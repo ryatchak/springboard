{
 "cells": [
  {
   "cell_type": "code",
   "execution_count": 12,
   "metadata": {},
   "outputs": [],
   "source": [
    "import pandas as pd\n",
    "import seaborn as sns\n",
    "import matplotlib.pyplot as plt \n",
    "import re\n",
    "import numpy as np\n",
    "import capstone2_utilities as c2 \n",
    "\n",
    "cores = 4"
   ]
  },
  {
   "cell_type": "code",
   "execution_count": 13,
   "metadata": {},
   "outputs": [],
   "source": [
    "tweets_with_originals = pd.read_csv('tweets_with_originals.csv', parse_dates = ['tweet_created'])"
   ]
  },
  {
   "cell_type": "code",
   "execution_count": 14,
   "metadata": {},
   "outputs": [],
   "source": [
    "tweets_with_originals['text_clean'] = tweets_with_originals.text_clean.str.replace(r'@(\\w+)([\\s.,:;!])?', r'\\1 ') # remove @s in @mentions"
   ]
  },
  {
   "cell_type": "code",
   "execution_count": 15,
   "metadata": {},
   "outputs": [],
   "source": [
    "from nltk.corpus import stopwords\n",
    "stopwords = set(stopwords.words('english'))\n",
    "import string\n",
    "#stopwords = stopwords.union(set([i for i in string.punctuation])) # remove punctuation\n",
    "#stopwords = stopwords.union(set(['AmericanAir', 'United', 'USAirways', 'JetBlue', 'SouthwestAir', 'Delta', 'VirginAmerica']))"
   ]
  },
  {
   "cell_type": "code",
   "execution_count": 16,
   "metadata": {},
   "outputs": [
    {
     "data": {
      "text/plain": [
       "\"VirginAmerica hi! i'm so excited about your $99 LGA-&gt;DAL deal- but i've been trying 2 book since last week &amp; the page never loads. thx!\""
      ]
     },
     "execution_count": 16,
     "metadata": {},
     "output_type": "execute_result"
    }
   ],
   "source": [
    "tweets_with_originals.loc[55].text_clean"
   ]
  },
  {
   "cell_type": "markdown",
   "metadata": {},
   "source": [
    "# TF-IDF to identify additional stopwords \n",
    "\n",
    "Using TF-IDF, we'll look for additional stopwords "
   ]
  },
  {
   "cell_type": "code",
   "execution_count": 16,
   "metadata": {},
   "outputs": [],
   "source": [
    "from sklearn.feature_extraction.text import TfidfVectorizer\n",
    "tfidf_vectorizer = TfidfVectorizer(stop_words = stopwords, strip_accents = 'unicode', min_df = 10)\n",
    "tweet_input = tweets_with_originals.text_clean\n",
    "# maybe try to take out numbers, prices \n",
    "tweet_input=tweet_input.str.replace(r\" (\\d|\\W)+\",\"\") # remove digits, nonword things\n",
    "T = tfidf_vectorizer.fit_transform(tweet_input) # these are our features"
   ]
  },
  {
   "cell_type": "code",
   "execution_count": 18,
   "metadata": {},
   "outputs": [
    {
     "data": {
      "text/html": [
       "<div>\n",
       "<style scoped>\n",
       "    .dataframe tbody tr th:only-of-type {\n",
       "        vertical-align: middle;\n",
       "    }\n",
       "\n",
       "    .dataframe tbody tr th {\n",
       "        vertical-align: top;\n",
       "    }\n",
       "\n",
       "    .dataframe thead th {\n",
       "        text-align: right;\n",
       "    }\n",
       "</style>\n",
       "<table border=\"1\" class=\"dataframe\">\n",
       "  <thead>\n",
       "    <tr style=\"text-align: right;\">\n",
       "      <th></th>\n",
       "      <th>idf_vals</th>\n",
       "    </tr>\n",
       "  </thead>\n",
       "  <tbody>\n",
       "    <tr>\n",
       "      <th>count</th>\n",
       "      <td>1632.000000</td>\n",
       "    </tr>\n",
       "    <tr>\n",
       "      <th>mean</th>\n",
       "      <td>7.119166</td>\n",
       "    </tr>\n",
       "    <tr>\n",
       "      <th>std</th>\n",
       "      <td>0.957482</td>\n",
       "    </tr>\n",
       "    <tr>\n",
       "      <th>min</th>\n",
       "      <td>2.421178</td>\n",
       "    </tr>\n",
       "    <tr>\n",
       "      <th>25%</th>\n",
       "      <td>6.609403</td>\n",
       "    </tr>\n",
       "    <tr>\n",
       "      <th>50%</th>\n",
       "      <td>7.360819</td>\n",
       "    </tr>\n",
       "    <tr>\n",
       "      <th>75%</th>\n",
       "      <td>7.871644</td>\n",
       "    </tr>\n",
       "    <tr>\n",
       "      <th>max</th>\n",
       "      <td>8.181799</td>\n",
       "    </tr>\n",
       "  </tbody>\n",
       "</table>\n",
       "</div>"
      ],
      "text/plain": [
       "          idf_vals\n",
       "count  1632.000000\n",
       "mean      7.119166\n",
       "std       0.957482\n",
       "min       2.421178\n",
       "25%       6.609403\n",
       "50%       7.360819\n",
       "75%       7.871644\n",
       "max       8.181799"
      ]
     },
     "execution_count": 18,
     "metadata": {},
     "output_type": "execute_result"
    }
   ],
   "source": [
    "idf_df = pd.DataFrame(index = tfidf_vectorizer.get_feature_names())\n",
    "idf_df['idf_vals']= tfidf_vectorizer.idf_\n",
    "idf_df.describe()"
   ]
  },
  {
   "cell_type": "markdown",
   "metadata": {},
   "source": [
    "The minimum inverse document frequency is not so low. For our first pass I won't add any stopwords based on IDF values. "
   ]
  },
  {
   "cell_type": "markdown",
   "metadata": {},
   "source": [
    "We can use this array of tfidf vectors as input features... for testing purposes we'll also allow 2-grams and 3-grams to see if this improves the result. "
   ]
  },
  {
   "cell_type": "code",
   "execution_count": 19,
   "metadata": {},
   "outputs": [],
   "source": [
    "tf2_vectorizer = TfidfVectorizer(stop_words = stopwords, strip_accents = 'unicode', min_df = 10, ngram_range = (1,2))\n",
    "tf3_vectorizer = TfidfVectorizer(stop_words = stopwords, strip_accents = 'unicode', min_df = 10, ngram_range = (1,3))\n",
    "T_2 = tf2_vectorizer.fit_transform(tweet_input) \n",
    "T_3 = tf3_vectorizer.fit_transform(tweet_input)\n",
    "\n",
    "tfidf_input_mats = [T, T_2, T_3]"
   ]
  },
  {
   "cell_type": "markdown",
   "metadata": {},
   "source": [
    "# Word2Vec Model "
   ]
  },
  {
   "cell_type": "markdown",
   "metadata": {},
   "source": [
    "First we'll train a word2vec model on our tweets and see what sorts of words are grouped together. "
   ]
  },
  {
   "cell_type": "code",
   "execution_count": 17,
   "metadata": {},
   "outputs": [],
   "source": [
    "from nltk.tokenize.casual import TweetTokenizer\n",
    "from gensim.models.word2vec import Word2Vec\n",
    "from gensim.test.utils import common_texts, get_tmpfile\n",
    "cores = 4 # depends on how many cores you have...\n",
    "\n",
    "tokenizer = TweetTokenizer(preserve_case=False)\n",
    "tokenized_input = [tokenizer.tokenize(tweet) for tweet in tweet_input.values]\n",
    "tokenized_input = [[word for word in tweet if word not in string.punctuation] for tweet in tokenized_input]\n",
    "model_word2vec = Word2Vec(tokenized_input, window=2, min_count=1, workers=cores) # build vocabulary\n",
    "\n",
    "model_word2vec.train(tokenized_input, total_examples=len(tokenized_input), epochs=10)\n",
    "model_word2vec.save('airlinetweet_word2vec.model')"
   ]
  },
  {
   "cell_type": "markdown",
   "metadata": {},
   "source": [
    "The results look ok, airlines are associated with other airlines..."
   ]
  },
  {
   "cell_type": "code",
   "execution_count": 21,
   "metadata": {},
   "outputs": [
    {
     "name": "stderr",
     "output_type": "stream",
     "text": [
      "/conda/envs/nlp/lib/python3.6/site-packages/gensim/matutils.py:737: FutureWarning: Conversion of the second argument of issubdtype from `int` to `np.signedinteger` is deprecated. In future, it will be treated as `np.int64 == np.dtype(int).type`.\n",
      "  if np.issubdtype(vec.dtype, np.int):\n"
     ]
    },
    {
     "data": {
      "text/plain": [
       "[('jetblue', 0.858433187007904),\n",
       " ('usairways', 0.7918170690536499),\n",
       " ('americanair', 0.786402702331543),\n",
       " ('southwestair', 0.7863386273384094),\n",
       " ('virginamerica', 0.634326696395874),\n",
       " ('guess', 0.5249053239822388),\n",
       " ('certainly', 0.5245820879936218),\n",
       " ('but', 0.5198203325271606),\n",
       " ('haha', 0.46811652183532715),\n",
       " ('fine', 0.467410683631897)]"
      ]
     },
     "execution_count": 21,
     "metadata": {},
     "output_type": "execute_result"
    }
   ],
   "source": [
    "model_word2vec.wv.most_similar('united')"
   ]
  },
  {
   "cell_type": "code",
   "execution_count": 22,
   "metadata": {},
   "outputs": [
    {
     "data": {
      "text/plain": [
       "[('americanair', 0.8042764663696289),\n",
       " ('united', 0.7918170690536499),\n",
       " ('southwestair', 0.7464061975479126),\n",
       " ('jetblue', 0.7016778588294983),\n",
       " ('virginamerica', 0.4542508125305176),\n",
       " ('certainly', 0.4246622323989868),\n",
       " ('happened', 0.41901466250419617),\n",
       " ('idea', 0.414933979511261),\n",
       " ('mind', 0.41486549377441406),\n",
       " ('know', 0.41471704840660095)]"
      ]
     },
     "execution_count": 22,
     "metadata": {},
     "output_type": "execute_result"
    }
   ],
   "source": [
    "model_word2vec.wv.most_similar('usairways')"
   ]
  },
  {
   "cell_type": "markdown",
   "metadata": {},
   "source": [
    "And TSA with security check type things"
   ]
  },
  {
   "cell_type": "code",
   "execution_count": 23,
   "metadata": {},
   "outputs": [
    {
     "data": {
      "text/plain": [
       "[('pre', 0.8031080961227417),\n",
       " ('file', 0.7105032801628113),\n",
       " ('receipt', 0.7090972661972046),\n",
       " ('number', 0.7015888690948486),\n",
       " ('name', 0.6989423036575317),\n",
       " ('res', 0.6933581829071045),\n",
       " ('reservation', 0.684999406337738),\n",
       " ('itinerary', 0.6801326870918274),\n",
       " ('request', 0.675376832485199),\n",
       " ('husband', 0.6723905801773071)]"
      ]
     },
     "execution_count": 23,
     "metadata": {},
     "output_type": "execute_result"
    }
   ],
   "source": [
    "model_word2vec.wv.most_similar('tsa')"
   ]
  },
  {
   "cell_type": "markdown",
   "metadata": {},
   "source": [
    "Let's test a few models. "
   ]
  },
  {
   "cell_type": "code",
   "execution_count": 46,
   "metadata": {},
   "outputs": [],
   "source": [
    "alpha = [.01, .075, .05, .025]\n",
    "window = [1,2,3]\n",
    "word2vec_models = []\n",
    "for a in alpha:\n",
    "    for ws in window:\n",
    "        model_word2vec = Word2Vec(tokenized_input, window=ws, alpha = a, min_count=1, workers=cores) # build vocabulary\n",
    "        model_word2vec.train(tokenized_input, total_examples=len(tokenized_input), epochs=50)\n",
    "        word2vec_models.append(model_word2vec)"
   ]
  },
  {
   "cell_type": "markdown",
   "metadata": {},
   "source": [
    "## Doc2Vec Model\n",
    "\n",
    "Doc2Vec learns \"document\" vectors instead of word vectors. We view each tweet as a document"
   ]
  },
  {
   "cell_type": "code",
   "execution_count": 18,
   "metadata": {},
   "outputs": [],
   "source": [
    "from gensim.models.doc2vec import TaggedDocument, Doc2Vec\n",
    "sentiment_tweets_docs = [TaggedDocument(tokenized_input[i], [str(tweets_with_originals.tweet_id.iloc[i])]) for i in range(tweet_input.shape[0])]"
   ]
  },
  {
   "cell_type": "code",
   "execution_count": 19,
   "metadata": {},
   "outputs": [],
   "source": [
    "vector_size = [50,100,150]\n",
    "window = [1,2,3]\n",
    "alg_type = [0, 1] # 0 corresponds to PV-DBOW, 1 to PV-DM\n",
    "\n",
    "doc2vec_models = [] \n",
    "for vs in vector_size:\n",
    "    for w in window: \n",
    "        for d in alg_type:\n",
    "            model_doc2vec = Doc2Vec(dm=d, vector_size=vs, hs=1, window=w,\n",
    "                        min_count=1, sample=0, epochs=100, \n",
    "                        workers=cores, dbow_words = 0)\n",
    "            model_doc2vec.build_vocab(sentiment_tweets_docs)\n",
    "            model_doc2vec.train(sentiment_tweets_docs, total_examples = len(sentiment_tweets_docs), epochs=model_doc2vec.epochs)\n",
    "            doc2vec_models.append(model_doc2vec)"
   ]
  },
  {
   "cell_type": "code",
   "execution_count": 21,
   "metadata": {},
   "outputs": [],
   "source": [
    "import pickle\n",
    "pickle.dump(doc2vec_models, open( \"word2vec_sow_inputs.pkl\", \"wb\" ) )"
   ]
  },
  {
   "cell_type": "markdown",
   "metadata": {},
   "source": [
    "We'll evaluate these models when we get to the logistic regression/ random forest part of the sentiment analysis. "
   ]
  },
  {
   "cell_type": "markdown",
   "metadata": {},
   "source": [
    "# Sentiment Analysis"
   ]
  },
  {
   "cell_type": "markdown",
   "metadata": {},
   "source": [
    "The sentiments in our dataset are highly imbalanced: "
   ]
  },
  {
   "cell_type": "code",
   "execution_count": 26,
   "metadata": {},
   "outputs": [
    {
     "data": {
      "image/png": "[encoded data removed]",
      "text/plain": [
       "<Figure size 432x288 with 1 Axes>"
      ]
     },
     "metadata": {
      "needs_background": "light"
     },
     "output_type": "display_data"
    }
   ],
   "source": [
    "_ = sns.countplot(x = 'airline_sentiment', data = tweets_with_originals)"
   ]
  },
  {
   "cell_type": "markdown",
   "metadata": {},
   "source": [
    "There are a lot of strategies we could try to rebalance the dataset. The easiest would be oversampling the neutral/positive sentiment tweets. "
   ]
  },
  {
   "cell_type": "code",
   "execution_count": 47,
   "metadata": {},
   "outputs": [],
   "source": [
    "# test split with oversampling ... try SMOTE \n",
    "from imblearn.over_sampling import SMOTE\n",
    "from sklearn.model_selection import train_test_split\n",
    "y = tweets_with_originals.airline_sentiment.map({'negative': 0, 'neutral':1, 'positive':2})\n",
    "\n",
    "# test_train split for TFIDF outputs \n",
    "tfidf_learning_inputs = []\n",
    "for M in tfidf_input_mats:\n",
    "    T_train, T_test, y_train, y_test = train_test_split(T, y, test_size=0.3)\n",
    "    sm = SMOTE() # smarter upsampling \n",
    "    T_train_sm, y_train_sm = sm.fit_sample(T_train, y_train.ravel())\n",
    "    tfidf_learning_inputs.append([T_train_sm, T_test, y_train_sm, y_test])"
   ]
  },
  {
   "cell_type": "code",
   "execution_count": 27,
   "metadata": {},
   "outputs": [],
   "source": [
    "# test_train_split for Doc2Vec outputs\n",
    "#train\n",
    "tweet_ids = tweets_with_originals.tweet_id.astype(str).values\n",
    "doc2vec_learning_inputs = []\n",
    "for model in doc2vec_models: \n",
    "    X_train, X_test, y_train, y_test = c2.doc2vec_train_test_split(model, tweet_ids, y)\n",
    "    sm = SMOTE()\n",
    "    X_train_sm, y_train_sm = sm.fit_sample(X_train, y_train.ravel())\n",
    "    doc2vec_learning_inputs.append([X_train_sm, X_test, y_train_sm, y_test])"
   ]
  },
  {
   "cell_type": "markdown",
   "metadata": {},
   "source": [
    "We confirm that SMOTE balances the number of training samples in each class... "
   ]
  },
  {
   "cell_type": "code",
   "execution_count": 49,
   "metadata": {},
   "outputs": [
    {
     "data": {
      "image/png": "[encoded data removed]",
      "text/plain": [
       "<Figure size 432x288 with 1 Axes>"
      ]
     },
     "metadata": {
      "needs_background": "light"
     },
     "output_type": "display_data"
    }
   ],
   "source": [
    "_ = sns.countplot(x = tfidf_learning_inputs[0][2])\n",
    "_ = plt.title('Classes in training set after SMOTE')\n",
    "locs, labels = plt.xticks()\n",
    "_ = plt.xticks(locs, ['negative', 'neutral', 'positive'], )"
   ]
  },
  {
   "cell_type": "markdown",
   "metadata": {},
   "source": [
    "## Method 1: Logistic Regression"
   ]
  },
  {
   "cell_type": "markdown",
   "metadata": {},
   "source": [
    "### TF-IDF input sentiment analysis\n",
    "Basic logistic regression with one-versus-rest (OVR) multiclass scheme. "
   ]
  },
  {
   "cell_type": "code",
   "execution_count": 50,
   "metadata": {},
   "outputs": [
    {
     "name": "stdout",
     "output_type": "stream",
     "text": [
      "1-gram TF-IDF:\t Train Accuracy 0.8450520833333334\n",
      "1-gram TF-IDF:\t Test Accuracy 0.7438378253858557\n",
      "2-gram TF-IDF:\t Train Accuracy 0.8386255800615257\n",
      "2-gram TF-IDF:\t Test Accuracy 0.7413038470398525\n",
      "3-gram TF-IDF:\t Train Accuracy 0.8447172384849438\n",
      "3-gram TF-IDF:\t Test Accuracy 0.7442985487214927\n"
     ]
    }
   ],
   "source": [
    "from sklearn.linear_model import LogisticRegression\n",
    "\n",
    "tfidf_log_models = []\n",
    "for i, ngram_model in enumerate(tfidf_learning_inputs): \n",
    "    lr = LogisticRegression(solver = 'saga', multi_class='multinomial', max_iter = 200)\n",
    "    lr.fit(ngram_model[0], ngram_model[2])\n",
    "    print('{}-gram TF-IDF:\\t Train Accuracy {}'.format(i+1,lr.score(ngram_model[0], ngram_model[2])))\n",
    "    print('{}-gram TF-IDF:\\t Test Accuracy {}'.format(i+1,lr.score(ngram_model[1], ngram_model[3])))\n",
    "    tfidf_log_models.append(lr)"
   ]
  },
  {
   "cell_type": "markdown",
   "metadata": {},
   "source": [
    "### Word2Vec input sentiment analysis"
   ]
  },
  {
   "cell_type": "markdown",
   "metadata": {},
   "source": [
    "We try the sum of words embedding which is described [here](https://white.ucc.asn.au/publications/White2015SentVecMeaning.pdf). We just take the sum of the word vectors contained in a tweet. "
   ]
  },
  {
   "cell_type": "code",
   "execution_count": 51,
   "metadata": {},
   "outputs": [],
   "source": [
    "target_vec = tweets_with_originals.set_index('tweet_id').airline_sentiment.map({'negative': 0, 'neutral':1, 'positive':2})\n",
    "tokenized_input_ser = pd.Series(tokenized_input, index=tweets_with_originals.tweet_id)"
   ]
  },
  {
   "cell_type": "code",
   "execution_count": 52,
   "metadata": {},
   "outputs": [],
   "source": [
    "word2vec_sow_inputs = []\n",
    "for model in word2vec_models:\n",
    "    X_train, X_test, y_train, y_test = c2.word2vec_train_test_split(model_word2vec, tokenized_input_ser, target_vec)\n",
    "    sm = SMOTE() # smarter upsampling \n",
    "    X_train_sm, y_train_sm = sm.fit_sample(X_train, y_train.ravel())\n",
    "    word2vec_sow_inputs.append([X_train_sm, X_test, y_train_sm, y_test])"
   ]
  },
  {
   "cell_type": "code",
   "execution_count": 53,
   "metadata": {},
   "outputs": [],
   "source": [
    "word2vec_avg_inputs = []\n",
    "for model in word2vec_models:\n",
    "    X_train, X_test, y_train, y_test = c2.word2vec_train_test_split(model_word2vec, tokenized_input_ser, target_vec, embedding = 'avge')\n",
    "    sm = SMOTE() # smarter upsampling \n",
    "    X_train_sm, y_train_sm = sm.fit_sample(X_train, y_train.ravel())\n",
    "    word2vec_avg_inputs.append([X_train_sm, X_test, y_train_sm, y_test])"
   ]
  },
  {
   "cell_type": "markdown",
   "metadata": {},
   "source": [
    "### Word2vec Sum of words input sentiment analysis "
   ]
  },
  {
   "cell_type": "code",
   "execution_count": 54,
   "metadata": {},
   "outputs": [
    {
     "name": "stdout",
     "output_type": "stream",
     "text": [
      "Word2Vec Sum of words Model 1:\t Accuracy 0.7069799585348998\n",
      "Word2Vec Sum of words Model 2:\t Accuracy 0.7115871918912693\n",
      "Word2Vec Sum of words Model 3:\t Accuracy 0.7108961068878139\n",
      "Word2Vec Sum of words Model 4:\t Accuracy 0.7157337019120018\n",
      "Word2Vec Sum of words Model 5:\t Accuracy 0.7161944252476388\n",
      "Word2Vec Sum of words Model 6:\t Accuracy 0.7168855102510943\n",
      "Word2Vec Sum of words Model 7:\t Accuracy 0.7067495968670813\n",
      "Word2Vec Sum of words Model 8:\t Accuracy 0.7026030868463488\n",
      "Word2Vec Sum of words Model 9:\t Accuracy 0.7108961068878139\n",
      "Word2Vec Sum of words Model 10:\t Accuracy 0.7145818935729095\n",
      "Word2Vec Sum of words Model 11:\t Accuracy 0.7173462335867312\n",
      "Word2Vec Sum of words Model 12:\t Accuracy 0.7145818935729095\n"
     ]
    }
   ],
   "source": [
    "word2vec_sow_log_models = []\n",
    "for i, sow_model in enumerate(word2vec_sow_inputs): \n",
    "    lr = LogisticRegression(solver = 'lbfgs', multi_class='auto', max_iter = 2000)\n",
    "    lr.fit(sow_model[0], sow_model[2])\n",
    "    print('Word2Vec Sum of words Model {}:\\t Accuracy {}'.format(i+1,lr.score(sow_model[1], sow_model[3])))\n",
    "    word2vec_sow_log_models.append(lr)"
   ]
  },
  {
   "cell_type": "markdown",
   "metadata": {},
   "source": [
    "### Word2vec Avg embedding input sentiment analysis"
   ]
  },
  {
   "cell_type": "code",
   "execution_count": 55,
   "metadata": {},
   "outputs": [
    {
     "name": "stdout",
     "output_type": "stream",
     "text": [
      "Word2Vec Mean Embedding Model 1:\t Accuracy 0.7127390002303616\n",
      "Word2Vec Mean Embedding Model 2:\t Accuracy 0.7092835752130845\n",
      "Word2Vec Mean Embedding Model 3:\t Accuracy 0.7228749136143746\n",
      "Word2Vec Mean Embedding Model 4:\t Accuracy 0.7251785302925593\n",
      "Word2Vec Mean Embedding Model 5:\t Accuracy 0.7088228518774476\n",
      "Word2Vec Mean Embedding Model 6:\t Accuracy 0.7198802119327344\n",
      "Word2Vec Mean Embedding Model 7:\t Accuracy 0.7201105736005529\n",
      "Word2Vec Mean Embedding Model 8:\t Accuracy 0.714351531905091\n",
      "Word2Vec Mean Embedding Model 9:\t Accuracy 0.7164247869154573\n",
      "Word2Vec Mean Embedding Model 10:\t Accuracy 0.7194194885970975\n",
      "Word2Vec Mean Embedding Model 11:\t Accuracy 0.7228749136143746\n",
      "Word2Vec Mean Embedding Model 12:\t Accuracy 0.7120479152269062\n"
     ]
    }
   ],
   "source": [
    "word2vec_avg_log_models = []\n",
    "for i, avg_model in enumerate(word2vec_avg_inputs): \n",
    "    lr = LogisticRegression(solver = 'lbfgs', multi_class='auto', max_iter = 2000)\n",
    "    lr.fit(avg_model[0], avg_model[2])\n",
    "    print('Word2Vec Mean Embedding Model {}:\\t Accuracy {}'.format(i+1,lr.score(avg_model[1], avg_model[3])))\n",
    "    word2vec_avg_log_models.append(lr)"
   ]
  },
  {
   "cell_type": "markdown",
   "metadata": {},
   "source": [
    "Average and sum of word embeddings for tweets seem to perform comparably: this is in line with what we'd expect from the literature. "
   ]
  },
  {
   "cell_type": "markdown",
   "metadata": {},
   "source": [
    "### Doc2Vec input sentiment analysis"
   ]
  },
  {
   "cell_type": "code",
   "execution_count": 30,
   "metadata": {},
   "outputs": [
    {
     "name": "stdout",
     "output_type": "stream",
     "text": [
      "Model 1: \t Accuracy 0.6268140981340705\n",
      "Model 2: \t Accuracy 0.5381248560239577\n",
      "Model 3: \t Accuracy 0.6242801197880673\n",
      "Model 4: \t Accuracy 0.5401981110343239\n",
      "Model 5: \t Accuracy 0.6185210780926054\n",
      "Model 6: \t Accuracy 0.5560930661137987\n",
      "Model 7: \t Accuracy 0.6749596867081318\n",
      "Model 8: \t Accuracy 0.5816632112416494\n",
      "Model 9: \t Accuracy 0.6685095600092145\n",
      "Model 10: \t Accuracy 0.6053904630269523\n",
      "Model 11: \t Accuracy 0.6763418567150427\n",
      "Model 12: \t Accuracy 0.6164478230822391\n",
      "Model 13: \t Accuracy 0.6821008984105045\n",
      "Model 14: \t Accuracy 0.585348997926745\n",
      "Model 15: \t Accuracy 0.6952315134761575\n",
      "Model 16: \t Accuracy 0.6120709513936881\n",
      "Model 17: \t Accuracy 0.7037548951854411\n",
      "Model 18: \t Accuracy 0.6288873531444368\n"
     ]
    }
   ],
   "source": [
    "doc2vec_log_models = []\n",
    "for i,model in enumerate(doc2vec_learning_inputs): \n",
    "    lr = LogisticRegression(solver='saga', multi_class = 'multinomial', max_iter = 2000)\n",
    "    lr.fit(model[0], model[2])\n",
    "    print('Model {}: \\t Accuracy {}'.format(i+1, lr.score(model[1], model[3])))\n",
    "    doc2vec_log_models.append(lr)"
   ]
  },
  {
   "cell_type": "markdown",
   "metadata": {},
   "source": [
    "Performance is poor here: instability was observed in results when training the various Doc2Vec models. I think that we need more training data: the number of tweets we have is pretty low for the complexity of the doc2vec NN. "
   ]
  },
  {
   "cell_type": "markdown",
   "metadata": {},
   "source": [
    "## Method 2: Random Forest"
   ]
  },
  {
   "cell_type": "code",
   "execution_count": 10,
   "metadata": {},
   "outputs": [],
   "source": [
    "from sklearn.ensemble import RandomForestClassifier"
   ]
  },
  {
   "cell_type": "code",
   "execution_count": 67,
   "metadata": {},
   "outputs": [
    {
     "name": "stdout",
     "output_type": "stream",
     "text": [
      "1-gram TF-IDF:\t Accuracy 0.7053674268601705\n",
      "2-gram TF-IDF:\t Accuracy 0.7009905551716195\n",
      "3-gram TF-IDF:\t Accuracy 0.6975351301543423\n"
     ]
    }
   ],
   "source": [
    "tfidf_rf_models = []\n",
    "for i, ngram_model in enumerate(tfidf_learning_inputs): \n",
    "    rf = RandomForestClassifier(n_estimators = 200, criterion = 'gini', max_features = 'sqrt', max_depth = 20)\n",
    "    rf.fit(ngram_model[0], ngram_model[2])\n",
    "    print('{}-gram TF-IDF:\\t Accuracy {}'.format(i+1,rf.score(ngram_model[1], ngram_model[3])))\n",
    "    tfidf_rf_models.append(rf)"
   ]
  },
  {
   "cell_type": "code",
   "execution_count": 68,
   "metadata": {},
   "outputs": [
    {
     "name": "stdout",
     "output_type": "stream",
     "text": [
      "Model 1: \t Accuracy 0.7254088919603778\n",
      "Model 2: \t Accuracy 0.7228749136143746\n",
      "Model 3: \t Accuracy 0.7217231052752822\n",
      "Model 4: \t Accuracy 0.7166551485832757\n",
      "Model 5: \t Accuracy 0.7297857636489288\n",
      "Model 6: \t Accuracy 0.7254088919603778\n",
      "Model 7: \t Accuracy 0.7242570836212854\n",
      "Model 8: \t Accuracy 0.7272517853029256\n",
      "Model 9: \t Accuracy 0.7224141902787377\n",
      "Model 10: \t Accuracy 0.7247178069569223\n",
      "Model 11: \t Accuracy 0.7364662520156646\n",
      "Model 12: \t Accuracy 0.7161944252476388\n"
     ]
    }
   ],
   "source": [
    "word2vec_sow_rf_models = []\n",
    "for i, model in enumerate(word2vec_sow_inputs): \n",
    "    rf = RandomForestClassifier(n_estimators = 100, criterion = 'gini', max_features = 'sqrt', max_depth = 10)\n",
    "    rf.fit(model[0], model[2])\n",
    "    print('Model {}: \\t Accuracy {}'.format(i+1,rf.score(model[1], model[3])))\n",
    "    word2vec_sow_rf_models.append(rf)"
   ]
  },
  {
   "cell_type": "code",
   "execution_count": 69,
   "metadata": {},
   "outputs": [
    {
     "name": "stdout",
     "output_type": "stream",
     "text": [
      "Model 1: \t Accuracy 0.7150426169085464\n",
      "Model 2: \t Accuracy 0.7168855102510943\n",
      "Model 3: \t Accuracy 0.7362358903478461\n",
      "Model 4: \t Accuracy 0.7313982953236582\n",
      "Model 5: \t Accuracy 0.7228749136143746\n",
      "Model 6: \t Accuracy 0.7307072103202027\n",
      "Model 7: \t Accuracy 0.7212623819396452\n",
      "Model 8: \t Accuracy 0.7184980419258236\n",
      "Model 9: \t Accuracy 0.718267680258005\n",
      "Model 10: \t Accuracy 0.7242570836212854\n",
      "Model 11: \t Accuracy 0.7332411886662059\n",
      "Model 12: \t Accuracy 0.7122782768947247\n"
     ]
    }
   ],
   "source": [
    "word2vec_avg_rf_models = []\n",
    "for i, model in enumerate(word2vec_avg_inputs): \n",
    "    rf = RandomForestClassifier(n_estimators = 100, criterion = 'gini', max_features = 'sqrt', max_depth = 10)\n",
    "    rf.fit(model[0], model[2])\n",
    "    print('Model {}: \\t Accuracy {}'.format(i+1,rf.score(model[1], model[3])))\n",
    "    word2vec_avg_rf_models.append(rf)"
   ]
  },
  {
   "cell_type": "code",
   "execution_count": 31,
   "metadata": {},
   "outputs": [
    {
     "name": "stdout",
     "output_type": "stream",
     "text": [
      "Model 1: \t Accuracy 0.6763418567150427\n",
      "Model 2: \t Accuracy 0.6457037548951854\n",
      "Model 3: \t Accuracy 0.6657452199953927\n",
      "Model 4: \t Accuracy 0.6387929048606312\n",
      "Model 5: \t Accuracy 0.6839437917530523\n",
      "Model 6: \t Accuracy 0.6491591799124625\n",
      "Model 7: \t Accuracy 0.7134300852338171\n",
      "Model 8: \t Accuracy 0.6680488366735775\n",
      "Model 9: \t Accuracy 0.7062888735314443\n",
      "Model 10: \t Accuracy 0.6673577516701221\n",
      "Model 11: \t Accuracy 0.714351531905091\n",
      "Model 12: \t Accuracy 0.663441603317208\n",
      "Model 13: \t Accuracy 0.7115871918912693\n",
      "Model 14: \t Accuracy 0.6701220916839438\n",
      "Model 15: \t Accuracy 0.7102050218843584\n",
      "Model 16: \t Accuracy 0.6668970283344852\n",
      "Model 17: \t Accuracy 0.7191891269292789\n",
      "Model 18: \t Accuracy 0.677954388389772\n"
     ]
    }
   ],
   "source": [
    "doc2vec_rf_models = []\n",
    "for i, model in enumerate(doc2vec_learning_inputs): \n",
    "    rf = RandomForestClassifier(n_estimators = 100, criterion = 'gini', max_features = 'sqrt', max_depth = 10)\n",
    "    rf.fit(model[0], model[2])\n",
    "    print('Model {}: \\t Accuracy {}'.format(i+1,rf.score(model[1], model[3])))\n",
    "    doc2vec_rf_models.append(rf)"
   ]
  },
  {
   "cell_type": "code",
   "execution_count": 32,
   "metadata": {},
   "outputs": [],
   "source": [
    "for idx, model in enumerate(doc2vec_models):\n",
    "    model.save('doc2vec_{}.model'.format(idx))\n",
    "for idx, model in enumerate(word2vec_models):\n",
    "    model.save('word2vec_{}.model'.format(idx))"
   ]
  },
  {
   "cell_type": "markdown",
   "metadata": {},
   "source": [
    "### Hyperparameter Tuning for RandomForestClassifier"
   ]
  },
  {
   "cell_type": "code",
   "execution_count": 4,
   "metadata": {},
   "outputs": [
    {
     "name": "stdout",
     "output_type": "stream",
     "text": [
      "Fitting 3 folds for each of 100 candidates, totalling 300 fits\n"
     ]
    },
    {
     "name": "stderr",
     "output_type": "stream",
     "text": [
      "[Parallel(n_jobs=-1)]: Using backend LokyBackend with 4 concurrent workers.\n",
      "[Parallel(n_jobs=-1)]: Done  33 tasks      | elapsed: 61.7min\n",
      "[Parallel(n_jobs=-1)]: Done 154 tasks      | elapsed: 225.9min\n",
      "[Parallel(n_jobs=-1)]: Done 300 out of 300 | elapsed: 435.8min finished\n"
     ]
    },
    {
     "data": {
      "text/plain": [
       "RandomizedSearchCV(cv=3, error_score='raise-deprecating',\n",
       "          estimator=RandomForestClassifier(bootstrap=False, class_weight=None, criterion='gini',\n",
       "            max_depth=None, max_features='auto', max_leaf_nodes=None,\n",
       "            min_impurity_decrease=0.0, min_impurity_split=None,\n",
       "            min_samples_leaf=1, min_samples_split=2,\n",
       "            min_weight_fraction_leaf=0.0, n_estimators='warn', n_jobs=None,\n",
       "            oob_score=False, random_state=None, verbose=0,\n",
       "            warm_start=False),\n",
       "          fit_params=None, iid='warn', n_iter=100, n_jobs=-1,\n",
       "          param_distributions={'n_estimators': [200, 400, 600, 800, 1000, 1200, 1400, 1600, 1800, 2000], 'max_features': ['auto', 'sqrt'], 'max_depth': [10, 20, 30, 40, 50, 60, 70, 80, 90, 100, 110], 'min_samples_split': [2, 5, 10], 'min_samples_leaf': [1, 2, 4]},\n",
       "          pre_dispatch='2*n_jobs', random_state=None, refit=True,\n",
       "          return_train_score='warn', scoring=None, verbose=2)"
      ]
     },
     "execution_count": 4,
     "metadata": {},
     "output_type": "execute_result"
    }
   ],
   "source": [
    "# With thanks to towardsdatascience: \n",
    "#https://towardsdatascience.com/hyperparameter-tuning-the-random-forest-in-python-using-scikit-learn-28d2aa77dd74 \n",
    "from sklearn.model_selection import RandomizedSearchCV\n",
    "\n",
    "n_estimators = [int(x) for x in np.linspace(start = 200, stop = 2000, num = 10)]\n",
    "max_features = ['auto', 'sqrt']\n",
    "max_depth = [int(x) for x in np.linspace(10, 110, num = 11)]\n",
    "min_samples_split = [2, 5, 10]\n",
    "min_samples_leaf = [1, 2, 4]\n",
    "\n",
    "# Create the random grid\n",
    "random_grid = {'n_estimators': n_estimators,\n",
    "               'max_features': max_features,\n",
    "               'max_depth': max_depth,\n",
    "               'min_samples_split': min_samples_split,\n",
    "               'min_samples_leaf': min_samples_leaf}\n",
    "\n",
    "rf = RandomForestClassifier(bootstrap=False)\n",
    "# Random search of parameters, using 3 fold cross validation, \n",
    "# search across 100 different combinations, and use all available cores\n",
    "rf_random = RandomizedSearchCV(estimator = rf, param_distributions = random_grid, n_iter = 100, cv = 3, verbose=2, n_jobs = -1)\n",
    "\n",
    "# Fit the random search model\n",
    "rf_random.fit(word2vec_sow_inputs[10][0], word2vec_sow_inputs[10][2])"
   ]
  },
  {
   "cell_type": "code",
   "execution_count": 5,
   "metadata": {},
   "outputs": [
    {
     "data": {
      "text/plain": [
       "{'n_estimators': 1800,\n",
       " 'min_samples_split': 2,\n",
       " 'min_samples_leaf': 1,\n",
       " 'max_features': 'auto',\n",
       " 'max_depth': 90}"
      ]
     },
     "execution_count": 5,
     "metadata": {},
     "output_type": "execute_result"
    }
   ],
   "source": [
    "rf_random.best_params_"
   ]
  },
  {
   "cell_type": "code",
   "execution_count": 8,
   "metadata": {},
   "outputs": [],
   "source": [
    "print(word2vec_sow_models[10].alpha_)"
   ]
  },
  {
   "cell_type": "code",
   "execution_count": 11,
   "metadata": {},
   "outputs": [
    {
     "name": "stdout",
     "output_type": "stream",
     "text": [
      "Model 11: \t Accuracy 0.7542041004376872\n"
     ]
    }
   ],
   "source": [
    "model=word2vec_sow_inputs[10]\n",
    "rf = RandomForestClassifier(n_estimators = 1800, criterion = 'gini', max_features = 'auto', max_depth = 90, \n",
    "                               min_samples_split=2, min_samples_leaf = 1)\n",
    "rf.fit(model[0], model[2])\n",
    "print('Model {}: \\t Accuracy {}'.format(11,rf.score(model[1], model[3])))\n"
   ]
  },
  {
   "cell_type": "code",
   "execution_count": 33,
   "metadata": {},
   "outputs": [
    {
     "name": "stdout",
     "output_type": "stream",
     "text": [
      "Model 11: \t Accuracy 0.7233356369500116\n"
     ]
    }
   ],
   "source": [
    "model=doc2vec_learning_inputs[16]\n",
    "rf = RandomForestClassifier(n_estimators = 1800, criterion = 'gini', max_features = 'auto', max_depth = 90, \n",
    "                               min_samples_split=2, min_samples_leaf = 1)\n",
    "rf.fit(model[0], model[2])\n",
    "print('Model {}: \\t Accuracy {}'.format(11,rf.score(model[1], model[3])))"
   ]
  }
 ],
 "metadata": {
  "kernelspec": {
   "display_name": "Python 3",
   "language": "python",
   "name": "python3"
  },
  "language_info": {
   "codemirror_mode": {
    "name": "ipython",
    "version": 3
   },
   "file_extension": ".py",
   "mimetype": "text/x-python",
   "name": "python",
   "nbconvert_exporter": "python",
   "pygments_lexer": "ipython3",
   "version": "3.6.7"
  }
 },
 "nbformat": 4,
 "nbformat_minor": 2
}
