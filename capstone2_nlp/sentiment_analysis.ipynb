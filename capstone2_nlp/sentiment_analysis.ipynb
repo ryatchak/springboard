{
 "cells": [
  {
   "cell_type": "code",
   "execution_count": 56,
   "metadata": {},
   "outputs": [],
   "source": [
    "import pandas as pd\n",
    "import seaborn as sns\n",
    "import matplotlib.pyplot as plt \n",
    "import re\n",
    "import numpy as np\n",
    "import capstone2_utilities as c2 \n",
    "\n",
    "cores = 4"
   ]
  },
  {
   "cell_type": "code",
   "execution_count": 2,
   "metadata": {},
   "outputs": [],
   "source": [
    "tweets_with_originals = pd.read_csv('tweets_with_originals.csv', parse_dates = ['tweet_created'])"
   ]
  },
  {
   "cell_type": "code",
   "execution_count": 3,
   "metadata": {},
   "outputs": [],
   "source": [
    "tweets_with_originals['text_clean'] = tweets_with_originals.text_clean.str.replace(r'@(\\w+)([\\s.,:;!])?', r'\\1 ') # remove @s in @mentions"
   ]
  },
  {
   "cell_type": "code",
   "execution_count": 4,
   "metadata": {},
   "outputs": [],
   "source": [
    "from nltk.corpus import stopwords\n",
    "stopwords = set(stopwords.words('english'))\n",
    "import string\n",
    "#stopwords = stopwords.union(set([i for i in string.punctuation])) # remove punctuation\n",
    "#stopwords = stopwords.union(set(['AmericanAir', 'United', 'USAirways', 'JetBlue', 'SouthwestAir', 'Delta', 'VirginAmerica']))"
   ]
  },
  {
   "cell_type": "code",
   "execution_count": 5,
   "metadata": {},
   "outputs": [
    {
     "data": {
      "text/plain": [
       "\"VirginAmerica hi! i'm so excited about your $99 LGA->DAL deal- but i've been trying 2 book since last week & the page never loads. thx!\""
      ]
     },
     "execution_count": 5,
     "metadata": {},
     "output_type": "execute_result"
    }
   ],
   "source": [
    "tweets_with_originals.loc[55].text_clean"
   ]
  },
  {
   "cell_type": "markdown",
   "metadata": {},
   "source": [
    "# TF-IDF to identify additional stopwords \n",
    "\n",
    "Using TF-IDF, we'll look for additional stopwords "
   ]
  },
  {
   "cell_type": "code",
   "execution_count": 6,
   "metadata": {},
   "outputs": [],
   "source": [
    "from sklearn.feature_extraction.text import TfidfVectorizer\n",
    "tfidf_vectorizer = TfidfVectorizer(stop_words = stopwords, strip_accents = 'unicode', min_df = 10)\n",
    "tweet_input = tweets_with_originals.text_clean\n",
    "# maybe try to take out numbers, prices \n",
    "tweet_input=tweet_input.str.replace(r\" (\\d|\\W)+\",\"\") # remove digits, nonword things\n",
    "T = tfidf_vectorizer.fit_transform(tweet_input) # these are our features"
   ]
  },
  {
   "cell_type": "code",
   "execution_count": 7,
   "metadata": {},
   "outputs": [
    {
     "data": {
      "text/html": [
       "<div>\n",
       "<style scoped>\n",
       "    .dataframe tbody tr th:only-of-type {\n",
       "        vertical-align: middle;\n",
       "    }\n",
       "\n",
       "    .dataframe tbody tr th {\n",
       "        vertical-align: top;\n",
       "    }\n",
       "\n",
       "    .dataframe thead th {\n",
       "        text-align: right;\n",
       "    }\n",
       "</style>\n",
       "<table border=\"1\" class=\"dataframe\">\n",
       "  <thead>\n",
       "    <tr style=\"text-align: right;\">\n",
       "      <th></th>\n",
       "      <th>idf_vals</th>\n",
       "    </tr>\n",
       "  </thead>\n",
       "  <tbody>\n",
       "    <tr>\n",
       "      <th>count</th>\n",
       "      <td>1628.000000</td>\n",
       "    </tr>\n",
       "    <tr>\n",
       "      <th>mean</th>\n",
       "      <td>7.120723</td>\n",
       "    </tr>\n",
       "    <tr>\n",
       "      <th>std</th>\n",
       "      <td>0.958025</td>\n",
       "    </tr>\n",
       "    <tr>\n",
       "      <th>min</th>\n",
       "      <td>2.421465</td>\n",
       "    </tr>\n",
       "    <tr>\n",
       "      <th>25%</th>\n",
       "      <td>6.609403</td>\n",
       "    </tr>\n",
       "    <tr>\n",
       "      <th>50%</th>\n",
       "      <td>7.360819</td>\n",
       "    </tr>\n",
       "    <tr>\n",
       "      <th>75%</th>\n",
       "      <td>7.871644</td>\n",
       "    </tr>\n",
       "    <tr>\n",
       "      <th>max</th>\n",
       "      <td>8.181799</td>\n",
       "    </tr>\n",
       "  </tbody>\n",
       "</table>\n",
       "</div>"
      ],
      "text/plain": [
       "          idf_vals\n",
       "count  1628.000000\n",
       "mean      7.120723\n",
       "std       0.958025\n",
       "min       2.421465\n",
       "25%       6.609403\n",
       "50%       7.360819\n",
       "75%       7.871644\n",
       "max       8.181799"
      ]
     },
     "execution_count": 7,
     "metadata": {},
     "output_type": "execute_result"
    }
   ],
   "source": [
    "idf_df = pd.DataFrame(index = tfidf_vectorizer.get_feature_names())\n",
    "idf_df['idf_vals']= tfidf_vectorizer.idf_\n",
    "idf_df.describe()"
   ]
  },
  {
   "cell_type": "markdown",
   "metadata": {},
   "source": [
    "The minimum inverse document frequency is not so low. For our first pass I won't add any stopwords based on IDF values. "
   ]
  },
  {
   "cell_type": "markdown",
   "metadata": {},
   "source": [
    "We can use this array of tfidf vectors as input features... for testing purposes we'll also allow 2-grams and 3-grams to see if this improves the result. "
   ]
  },
  {
   "cell_type": "code",
   "execution_count": 8,
   "metadata": {},
   "outputs": [],
   "source": [
    "tf2_vectorizer = TfidfVectorizer(stop_words = stopwords, strip_accents = 'unicode', min_df = 10, ngram_range = (1,2))\n",
    "tf3_vectorizer = TfidfVectorizer(stop_words = stopwords, strip_accents = 'unicode', min_df = 10, ngram_range = (1,3))\n",
    "T_2 = tf2_vectorizer.fit_transform(tweet_input) \n",
    "T_3 = tf3_vectorizer.fit_transform(tweet_input)\n",
    "\n",
    "tfidf_input_mats = [T, T_2, T_3]"
   ]
  },
  {
   "cell_type": "markdown",
   "metadata": {},
   "source": [
    "# Word2Vec Model "
   ]
  },
  {
   "cell_type": "markdown",
   "metadata": {},
   "source": [
    "First we'll train a word2vec model on our tweets and see what sorts of words are grouped together. "
   ]
  },
  {
   "cell_type": "code",
   "execution_count": 9,
   "metadata": {},
   "outputs": [],
   "source": [
    "from nltk.tokenize.casual import TweetTokenizer\n",
    "from gensim.models.word2vec import Word2Vec\n",
    "from gensim.test.utils import common_texts, get_tmpfile\n",
    "cores = 4 # depends on how many cores you have...\n",
    "\n",
    "tokenizer = TweetTokenizer(preserve_case=False)\n",
    "tokenized_input = [tokenizer.tokenize(tweet) for tweet in tweet_input.values]\n",
    "tokenized_input = [[word for word in tweet if word not in string.punctuation] for tweet in tokenized_input]\n",
    "model_word2vec = Word2Vec(tokenized_input, window=5, min_count=10, workers=cores) # build vocabulary\n",
    "\n",
    "model_word2vec.train(tokenized_input, total_examples=len(tokenized_input), epochs=10)\n",
    "model_word2vec.save('airlinetweet_word2vec.model')"
   ]
  },
  {
   "cell_type": "markdown",
   "metadata": {},
   "source": [
    "The results look ok, airlines are associated with other airlines..."
   ]
  },
  {
   "cell_type": "code",
   "execution_count": 10,
   "metadata": {},
   "outputs": [
    {
     "name": "stderr",
     "output_type": "stream",
     "text": [
      "/conda/envs/nlp/lib/python3.6/site-packages/gensim/matutils.py:737: FutureWarning: Conversion of the second argument of issubdtype from `int` to `np.signedinteger` is deprecated. In future, it will be treated as `np.int64 == np.dtype(int).type`.\n",
      "  if np.issubdtype(vec.dtype, np.int):\n"
     ]
    },
    {
     "data": {
      "text/plain": [
       "[('jetblue', 0.8768449425697327),\n",
       " ('americanair', 0.8266503810882568),\n",
       " ('southwestair', 0.8174761533737183),\n",
       " ('usairways', 0.780196487903595),\n",
       " ('virginamerica', 0.6700769662857056),\n",
       " ('mind', 0.4904249310493469),\n",
       " ('guess', 0.4821639657020569),\n",
       " ('god', 0.48063167929649353),\n",
       " ('that', 0.4727621376514435),\n",
       " ('report', 0.46082931756973267)]"
      ]
     },
     "execution_count": 10,
     "metadata": {},
     "output_type": "execute_result"
    }
   ],
   "source": [
    "model_word2vec.wv.most_similar('united')"
   ]
  },
  {
   "cell_type": "code",
   "execution_count": 11,
   "metadata": {},
   "outputs": [
    {
     "data": {
      "text/plain": [
       "[('americanair', 0.8229646682739258),\n",
       " ('united', 0.7801964282989502),\n",
       " ('jetblue', 0.7441019415855408),\n",
       " ('southwestair', 0.7262108325958252),\n",
       " ('mind', 0.4514126181602478),\n",
       " ('virginamerica', 0.4489743709564209),\n",
       " ('already', 0.42902764678001404),\n",
       " ('guess', 0.41906771063804626),\n",
       " ('god', 0.4001840353012085),\n",
       " ('worries', 0.39466479420661926)]"
      ]
     },
     "execution_count": 11,
     "metadata": {},
     "output_type": "execute_result"
    }
   ],
   "source": [
    "model_word2vec.wv.most_similar('usairways')"
   ]
  },
  {
   "cell_type": "markdown",
   "metadata": {},
   "source": [
    "And TSA with security check type things"
   ]
  },
  {
   "cell_type": "code",
   "execution_count": 12,
   "metadata": {},
   "outputs": [
    {
     "data": {
      "text/plain": [
       "[('pre', 0.8713743090629578),\n",
       " ('name', 0.7713217735290527),\n",
       " ('receipt', 0.7228171825408936),\n",
       " ('stuff', 0.718065619468689),\n",
       " ('fare', 0.7146759033203125),\n",
       " ('passenger', 0.707695484161377),\n",
       " ('file', 0.7035782337188721),\n",
       " ('request', 0.6978631019592285),\n",
       " ('reservation', 0.697336733341217),\n",
       " ('res', 0.6936311721801758)]"
      ]
     },
     "execution_count": 12,
     "metadata": {},
     "output_type": "execute_result"
    }
   ],
   "source": [
    "model_word2vec.wv.most_similar('tsa')"
   ]
  },
  {
   "cell_type": "markdown",
   "metadata": {},
   "source": [
    "## Doc2Vec Model\n",
    "\n",
    "Doc2Vec learns \"document\" vectors instead of word vectors. We view each tweet as a document"
   ]
  },
  {
   "cell_type": "code",
   "execution_count": 13,
   "metadata": {},
   "outputs": [],
   "source": [
    "from gensim.models.doc2vec import TaggedDocument, Doc2Vec\n",
    "sentiment_tweets_docs = [TaggedDocument(tokenized_input[i], [str(tweets_with_originals.tweet_id.iloc[i])]) for i in range(tweet_input.shape[0])]"
   ]
  },
  {
   "cell_type": "code",
   "execution_count": 14,
   "metadata": {},
   "outputs": [],
   "source": [
    "model_doc2vec = Doc2Vec(dm=1, vector_size=300, hs=1, window=5,\n",
    "                        min_count=10, sample=0, epochs=20, alpha = .4, \n",
    "                        workers=cores, dbow_words = 1)\n",
    "model_doc2vec.build_vocab(sentiment_tweets_docs)\n",
    "model_doc2vec.train(sentiment_tweets_docs, total_examples = len(sentiment_tweets_docs), epochs = 20)\n",
    "model_doc2vec.save('airlinetweet_doc2vec.model')"
   ]
  },
  {
   "cell_type": "code",
   "execution_count": 15,
   "metadata": {},
   "outputs": [
    {
     "data": {
      "text/plain": [
       "[('its', 0.8927080631256104),\n",
       " ('refuse', 0.8921086192131042),\n",
       " ('supposed', 0.88742595911026),\n",
       " ('nyc', 0.8818486928939819),\n",
       " ('gave', 0.8734860420227051),\n",
       " ('directly', 0.8725155591964722),\n",
       " ('wont', 0.8711974024772644),\n",
       " ('empty', 0.8696985244750977),\n",
       " ('hr', 0.8695963621139526),\n",
       " ('✌', 0.8670365810394287)]"
      ]
     },
     "execution_count": 15,
     "metadata": {},
     "output_type": "execute_result"
    }
   ],
   "source": [
    "model_doc2vec.wv.most_similar('late')"
   ]
  },
  {
   "cell_type": "code",
   "execution_count": 16,
   "metadata": {},
   "outputs": [
    {
     "data": {
      "text/plain": [
       "[('sadly', 0.9078196287155151),\n",
       " ('attendant', 0.8967957496643066),\n",
       " (\"aren't\", 0.8942638635635376),\n",
       " ('value', 0.8760038018226624),\n",
       " ('security', 0.8725130558013916),\n",
       " ('tickets', 0.8679995536804199),\n",
       " ('happen', 0.8668830394744873),\n",
       " ('refund', 0.8644219636917114),\n",
       " ('these', 0.8557482957839966),\n",
       " ('the', 0.8526627421379089)]"
      ]
     },
     "execution_count": 16,
     "metadata": {},
     "output_type": "execute_result"
    }
   ],
   "source": [
    "model_doc2vec.wv.most_similar('delay')"
   ]
  },
  {
   "cell_type": "code",
   "execution_count": 17,
   "metadata": {},
   "outputs": [
    {
     "data": {
      "text/plain": [
       "[('know', 0.8749268651008606),\n",
       " ('cost', 0.8416961431503296),\n",
       " ('helped', 0.8233813047409058),\n",
       " ('b4', 0.8098344206809998),\n",
       " ('own', 0.8066888451576233),\n",
       " ('extra', 0.8050414323806763),\n",
       " ('advantage', 0.8027144074440002),\n",
       " ('i', 0.7969229221343994),\n",
       " (\"let's\", 0.7958469390869141),\n",
       " ('got', 0.7866212725639343)]"
      ]
     },
     "execution_count": 17,
     "metadata": {},
     "output_type": "execute_result"
    }
   ],
   "source": [
    "model_doc2vec.wv.most_similar('tsa')"
   ]
  },
  {
   "cell_type": "code",
   "execution_count": 18,
   "metadata": {},
   "outputs": [
    {
     "data": {
      "text/plain": [
       "[('570247763704868864', 0.9152392148971558),\n",
       " ('568997044406374400', 0.8972954750061035),\n",
       " ('569918327767879680', 0.8908112645149231),\n",
       " ('568873459901702145', 0.890682578086853),\n",
       " ('568200350697717760', 0.8859471082687378),\n",
       " ('567782645975625729', 0.8823562264442444),\n",
       " ('570177752973885440', 0.8798604011535645),\n",
       " ('570138826032713729', 0.8785470128059387),\n",
       " ('570251909447192577', 0.8723245859146118),\n",
       " ('568086073814827008', 0.8720375299453735)]"
      ]
     },
     "execution_count": 18,
     "metadata": {},
     "output_type": "execute_result"
    }
   ],
   "source": [
    "model_doc2vec.docvecs.most_similar('570085644015419393')"
   ]
  },
  {
   "cell_type": "markdown",
   "metadata": {},
   "source": [
    "The following tweets are quite similar according to the model: "
   ]
  },
  {
   "cell_type": "code",
   "execution_count": 19,
   "metadata": {},
   "outputs": [
    {
     "data": {
      "text/plain": [
       "array([\"USAirways  A few years ago I lost over 50,00 miles bc I was physically unable to fly during the period.  I submitted a doctor's note.\"],\n",
       "      dtype=object)"
      ]
     },
     "execution_count": 19,
     "metadata": {},
     "output_type": "execute_result"
    }
   ],
   "source": [
    "tweets_with_originals.loc[tweets_with_originals.tweet_id == 570085644015419393]['text_clean'].values"
   ]
  },
  {
   "cell_type": "code",
   "execution_count": 20,
   "metadata": {},
   "outputs": [
    {
     "data": {
      "text/plain": [
       "array(['SouthwestAir Teyana Taylor Performing #MedusaFridays 2[.] 27 Free Till11   #TheMenOfBusiness'],\n",
       "      dtype=object)"
      ]
     },
     "execution_count": 20,
     "metadata": {},
     "output_type": "execute_result"
    }
   ],
   "source": [
    "tweets_with_originals.loc[tweets_with_originals.tweet_id == 570274362936266752]['text_clean'].values"
   ]
  },
  {
   "cell_type": "code",
   "execution_count": 21,
   "metadata": {},
   "outputs": [
    {
     "data": {
      "text/plain": [
       "array(['USAirways #usairways lost a passenger today for not upholding their promise of excellent customer service!!'],\n",
       "      dtype=object)"
      ]
     },
     "execution_count": 21,
     "metadata": {},
     "output_type": "execute_result"
    }
   ],
   "source": [
    "tweets_with_originals.loc[tweets_with_originals.tweet_id == 569734884396302338]['text_clean'].values"
   ]
  },
  {
   "cell_type": "code",
   "execution_count": 22,
   "metadata": {},
   "outputs": [
    {
     "data": {
      "text/plain": [
       "array(['jetblue having trouble signing in to TrueBlue today, despite right credentials. getting \"We are not able to sign you in\" msg.'],\n",
       "      dtype=object)"
      ]
     },
     "execution_count": 22,
     "metadata": {},
     "output_type": "execute_result"
    }
   ],
   "source": [
    "tweets_with_originals.loc[tweets_with_originals.tweet_id == 570277054635057153]['text_clean'].values"
   ]
  },
  {
   "cell_type": "markdown",
   "metadata": {},
   "source": [
    "They are at least all negative sentiment tweets, so hopefully we're heading in the right direction. "
   ]
  },
  {
   "cell_type": "markdown",
   "metadata": {},
   "source": [
    "### TODO: different models with different hyperparameters, methods (DBOW vs not etc) as a list, test train split on all of these to test model (better accuracy -> better model (ish) "
   ]
  },
  {
   "cell_type": "code",
   "execution_count": 23,
   "metadata": {},
   "outputs": [],
   "source": [
    "model_2_doc2vec = Doc2Vec(dm=0, vector_size=300, negative=5, window=5,\n",
    "                        min_count=10, sample=1e-5, epochs=20, \n",
    "                        workers=cores, dbow_words = 1)\n",
    "model_2_doc2vec.build_vocab(sentiment_tweets_docs)\n",
    "model_2_doc2vec.train(sentiment_tweets_docs, total_examples = len(sentiment_tweets_docs), epochs = 20)\n",
    "model_2_doc2vec.save('airlinetweet_doc2vec_2.model')"
   ]
  },
  {
   "cell_type": "code",
   "execution_count": 24,
   "metadata": {},
   "outputs": [
    {
     "data": {
      "text/plain": [
       "[('march', 0.9995496869087219),\n",
       " ('fam', 0.9995301961898804),\n",
       " ('welcome', 0.9995203614234924),\n",
       " ('rewards', 0.9995168447494507),\n",
       " ('✈', 0.999514639377594),\n",
       " ('mine', 0.9995139837265015),\n",
       " ('clothes', 0.9995129704475403),\n",
       " ('social', 0.9995110034942627),\n",
       " ('flightn', 0.9995100498199463),\n",
       " ('enter', 0.9995092749595642)]"
      ]
     },
     "execution_count": 24,
     "metadata": {},
     "output_type": "execute_result"
    }
   ],
   "source": [
    "model_2_doc2vec.wv.most_similar('late')"
   ]
  },
  {
   "cell_type": "code",
   "execution_count": 25,
   "metadata": {},
   "outputs": [],
   "source": [
    "model_3_doc2vec = Doc2Vec(dm=0, vector_size=300, negative=5, window=5,\n",
    "                        min_count=10, sample=1e-5, epochs=20, \n",
    "                        workers=cores, dbow_words = 1)\n",
    "model_3_doc2vec.build_vocab(sentiment_tweets_docs)\n",
    "model_3_doc2vec.train(sentiment_tweets_docs, total_examples = len(sentiment_tweets_docs), epochs = 20)\n",
    "model_3_doc2vec.save('airlinetweet_doc2vec_3.model')"
   ]
  },
  {
   "cell_type": "code",
   "execution_count": 26,
   "metadata": {},
   "outputs": [
    {
     "data": {
      "text/plain": [
       "[('fam', 0.9995274543762207),\n",
       " ('alone', 0.9995249509811401),\n",
       " ('between', 0.9995194673538208),\n",
       " ('flightn', 0.999518632888794),\n",
       " ('city', 0.9995133876800537),\n",
       " ('msg', 0.9995127320289612),\n",
       " ('wont', 0.9995114803314209),\n",
       " ('welcome', 0.9995113611221313),\n",
       " ('social', 0.9995094537734985),\n",
       " ('shitty', 0.9995070695877075)]"
      ]
     },
     "execution_count": 26,
     "metadata": {},
     "output_type": "execute_result"
    }
   ],
   "source": [
    "model_3_doc2vec.wv.most_similar('late')"
   ]
  },
  {
   "cell_type": "code",
   "execution_count": 27,
   "metadata": {},
   "outputs": [],
   "source": [
    "doc2vec_models = [model_doc2vec, model_2_doc2vec, model_3_doc2vec]"
   ]
  },
  {
   "cell_type": "markdown",
   "metadata": {},
   "source": [
    "# Sentiment Analysis"
   ]
  },
  {
   "cell_type": "markdown",
   "metadata": {},
   "source": [
    "The sentiments in our dataset are highly imbalanced: "
   ]
  },
  {
   "cell_type": "code",
   "execution_count": 28,
   "metadata": {},
   "outputs": [
    {
     "data": {
      "image/png": "[encoded data removed]",
      "text/plain": [
       "<Figure size 432x288 with 1 Axes>"
      ]
     },
     "metadata": {
      "needs_background": "light"
     },
     "output_type": "display_data"
    }
   ],
   "source": [
    "_ = sns.countplot(x = 'airline_sentiment', data = tweets_with_originals)"
   ]
  },
  {
   "cell_type": "markdown",
   "metadata": {},
   "source": [
    "There are a lot of strategies we could try to rebalance the dataset. The easiest would be oversampling the neutral/positive sentiment tweets. "
   ]
  },
  {
   "cell_type": "code",
   "execution_count": 30,
   "metadata": {},
   "outputs": [],
   "source": [
    "# test split with oversampling ... try SMOTE \n",
    "from imblearn.over_sampling import SMOTE\n",
    "\n",
    "y = tweets_with_originals.airline_sentiment.map({'negative': 0, 'neutral':1, 'positive':2})\n",
    "\n",
    "# test_train split for TFIDF outputs \n",
    "tfidf_learning_inputs = []\n",
    "for M in tfidf_input_mats:\n",
    "    T_train, T_test, y_train, y_test = train_test_split(T, y, test_size=0.3)\n",
    "    sm = SMOTE() # smarter upsampling \n",
    "    T_train_sm, y_train_sm = sm.fit_sample(T_train, y_train.ravel())\n",
    "    tfidf_learning_inputs.append([T_train_sm, T_test, y_train_sm, y_test])"
   ]
  },
  {
   "cell_type": "code",
   "execution_count": 31,
   "metadata": {},
   "outputs": [],
   "source": [
    "# test_train_split for Doc2Vec outputs\n",
    "#train\n",
    "tweet_ids = tweets_with_originals.tweet_id.astype(str).values\n",
    "doc2vec_learning_inputs = []\n",
    "for model in doc2vec_models: \n",
    "    X_train, X_test, y_train, y_test = c2.doc2vec_train_test_split(model, tweet_ids, y)\n",
    "    sm = SMOTE()\n",
    "    X_train_sm, y_train_sm = sm.fit_sample(X_train, y_train.ravel())\n",
    "    doc2vec_learning_inputs.append([X_train_sm, X_test, y_train_sm, y_test])"
   ]
  },
  {
   "cell_type": "markdown",
   "metadata": {},
   "source": [
    "We confirm that SMOTE balances the number of training samples in each class... "
   ]
  },
  {
   "cell_type": "code",
   "execution_count": 32,
   "metadata": {},
   "outputs": [
    {
     "data": {
      "image/png": "[encoded data removed]",
      "text/plain": [
       "<Figure size 432x288 with 1 Axes>"
      ]
     },
     "metadata": {
      "needs_background": "light"
     },
     "output_type": "display_data"
    }
   ],
   "source": [
    "_ = sns.countplot(x = tfidf_learning_inputs[0][2])\n",
    "_ = plt.title('Classes in training set after SMOTE')\n",
    "locs, labels = plt.xticks()\n",
    "_ = plt.xticks(locs, ['negative', 'neutral', 'positive'], )"
   ]
  },
  {
   "cell_type": "markdown",
   "metadata": {},
   "source": [
    "## Method 1: Logistic Regression"
   ]
  },
  {
   "cell_type": "markdown",
   "metadata": {},
   "source": [
    "### TF-IDF input sentiment analysis\n",
    "Basic logistic regression with one-versus-rest (OVR) multiclass scheme. "
   ]
  },
  {
   "cell_type": "code",
   "execution_count": 33,
   "metadata": {},
   "outputs": [
    {
     "name": "stdout",
     "output_type": "stream",
     "text": [
      "1-gram TF-IDF:\t Accuracy 0.7502879520847731\n",
      "2-gram TF-IDF:\t Accuracy 0.7403824003685787\n",
      "3-gram TF-IDF:\t Accuracy 0.75074867542041\n"
     ]
    }
   ],
   "source": [
    "from sklearn.linear_model import LogisticRegression\n",
    "\n",
    "tfidf_log_models = []\n",
    "for i, ngram_model in enumerate(tfidf_learning_inputs): \n",
    "    lr = LogisticRegression(solver = 'lbfgs', multi_class='auto', max_iter = 200)\n",
    "    lr.fit(ngram_model[0], ngram_model[2])\n",
    "    print('{}-gram TF-IDF:\\t Accuracy {}'.format(i+1,lr.score(ngram_model[1], ngram_model[3])))\n",
    "    tfidf_log_models.append(lr)"
   ]
  },
  {
   "cell_type": "markdown",
   "metadata": {},
   "source": [
    "### Word2Vec input sentiment analysis"
   ]
  },
  {
   "cell_type": "markdown",
   "metadata": {},
   "source": [
    "We try the sum of words embedding which is described [here](https://white.ucc.asn.au/publications/White2015SentVecMeaning.pdf). We just take the sum of the word vectors contained in a tweet. "
   ]
  },
  {
   "cell_type": "code",
   "execution_count": 34,
   "metadata": {},
   "outputs": [],
   "source": [
    "target_vec = tweets_with_originals.set_index('tweet_id').airline_sentiment.map({'negative': 0, 'neutral':1, 'positive':2})\n",
    "tokenized_input_ser = pd.Series(tokenized_input, index=tweets_with_originals.tweet_id)"
   ]
  },
  {
   "cell_type": "code",
   "execution_count": 53,
   "metadata": {},
   "outputs": [],
   "source": [
    "word2vec_sow_inputs = []\n",
    "for model in doc2vec_models:\n",
    "    X_train, X_test, y_train, y_test = c2.word2vec_train_test_split(model_word2vec, tokenized_input_ser, target_vec)\n",
    "    sm = SMOTE() # smarter upsampling \n",
    "    X_train_sm, y_train_sm = sm.fit_sample(X_train, y_train.ravel())\n",
    "    word2vec_sow_inputs.append([X_train_sm, X_test, y_train_sm, y_test])"
   ]
  },
  {
   "cell_type": "code",
   "execution_count": 52,
   "metadata": {},
   "outputs": [],
   "source": [
    "word2vec_avg_inputs = []\n",
    "for model in doc2vec_models:\n",
    "    X_train, X_test, y_train, y_test = c2.word2vec_train_test_split(model_word2vec, tokenized_input_ser, target_vec, embedding = 'avge')\n",
    "    sm = SMOTE() # smarter upsampling \n",
    "    X_train_sm, y_train_sm = sm.fit_sample(X_train, y_train.ravel())\n",
    "    word2vec_avg_inputs.append([X_train_sm, X_test, y_train_sm, y_test])"
   ]
  },
  {
   "cell_type": "markdown",
   "metadata": {},
   "source": [
    "### Word2vec Sum of words input sentiment analysis "
   ]
  },
  {
   "cell_type": "code",
   "execution_count": 54,
   "metadata": {},
   "outputs": [
    {
     "name": "stdout",
     "output_type": "stream",
     "text": [
      "Word2Vec Sum of words Model 1:\t Accuracy 0.6984565768256162\n",
      "Word2Vec Sum of words Model 2:\t Accuracy 0.6933886201336098\n",
      "Word2Vec Sum of words Model 3:\t Accuracy 0.6922368117945173\n"
     ]
    }
   ],
   "source": [
    "word2vec_sow_log_models = []\n",
    "for i, sow_model in enumerate(word2vec_sow_inputs): \n",
    "    lr = LogisticRegression(solver = 'lbfgs', multi_class='auto', max_iter = 2000)\n",
    "    lr.fit(sow_model[0], sow_model[2])\n",
    "    print('Word2Vec Sum of words Model {}:\\t Accuracy {}'.format(i+1,lr.score(sow_model[1], sow_model[3])))\n",
    "    word2vec_sow_log_models.append(lr)"
   ]
  },
  {
   "cell_type": "markdown",
   "metadata": {},
   "source": [
    "### Word2vec Avg embedding input sentiment analysis"
   ]
  },
  {
   "cell_type": "code",
   "execution_count": 57,
   "metadata": {},
   "outputs": [
    {
     "name": "stdout",
     "output_type": "stream",
     "text": [
      "Word2Vec Mean Embedding Model 1:\t Accuracy 0.6998387468325271\n",
      "Word2Vec Mean Embedding Model 2:\t Accuracy 0.6848652384243262\n",
      "Word2Vec Mean Embedding Model 3:\t Accuracy 0.6975351301543423\n"
     ]
    }
   ],
   "source": [
    "word2vec_avg_log_models = []\n",
    "for i, avg_model in enumerate(word2vec_avg_inputs): \n",
    "    lr = LogisticRegression(solver = 'lbfgs', multi_class='auto', max_iter = 2000)\n",
    "    lr.fit(avg_model[0], avg_model[2])\n",
    "    print('Word2Vec Mean Embedding Model {}:\\t Accuracy {}'.format(i+1,lr.score(avg_model[1], avg_model[3])))\n",
    "    word2vec_avg_log_models.append(lr)"
   ]
  },
  {
   "cell_type": "markdown",
   "metadata": {},
   "source": [
    "Average and sum of word embeddings for tweets seem to perform comparably: this is in line with what we'd expect from the literature. "
   ]
  },
  {
   "cell_type": "markdown",
   "metadata": {},
   "source": [
    "### Doc2Vec input sentiment analysis"
   ]
  },
  {
   "cell_type": "code",
   "execution_count": 38,
   "metadata": {},
   "outputs": [
    {
     "name": "stderr",
     "output_type": "stream",
     "text": [
      "/conda/envs/nlp/lib/python3.6/site-packages/sklearn/linear_model/logistic.py:758: ConvergenceWarning: lbfgs failed to converge. Increase the number of iterations.\n",
      "  \"of iterations.\", ConvergenceWarning)\n"
     ]
    },
    {
     "name": "stdout",
     "output_type": "stream",
     "text": [
      "Model 1: \t Accuracy 0.2976272748214697\n",
      "Model 2: \t Accuracy 0.5215388159410275\n",
      "Model 3: \t Accuracy 0.5088689242110113\n"
     ]
    }
   ],
   "source": [
    "doc2vec_log_models = []\n",
    "for i,model in enumerate(doc2vec_learning_inputs): \n",
    "    lr = LogisticRegression(solver='lbfgs', multi_class = 'auto', max_iter = 500)\n",
    "    lr.fit(model[0], model[2])\n",
    "    print('Model {}: \\t Accuracy {}'.format(i+1, lr.score(model[1], model[3])))\n",
    "    doc2vec_log_models.append(lr)"
   ]
  },
  {
   "cell_type": "markdown",
   "metadata": {},
   "source": [
    "Performance is poor here: instability was observed in results when training the various Doc2Vec models. I think that we need more training data: the number of tweets we have is pretty low for the complexity of the doc2vec NN. "
   ]
  },
  {
   "cell_type": "markdown",
   "metadata": {},
   "source": [
    "## Method 2: Random Forest"
   ]
  },
  {
   "cell_type": "code",
   "execution_count": 58,
   "metadata": {},
   "outputs": [],
   "source": [
    "from sklearn.ensemble import RandomForestClassifier"
   ]
  },
  {
   "cell_type": "code",
   "execution_count": 64,
   "metadata": {},
   "outputs": [
    {
     "name": "stdout",
     "output_type": "stream",
     "text": [
      "1-gram TF-IDF:\t Accuracy 0.6913153651232435\n",
      "2-gram TF-IDF:\t Accuracy 0.7007601935038009\n",
      "3-gram TF-IDF:\t Accuracy 0.7079014052061737\n"
     ]
    }
   ],
   "source": [
    "tfidf_rf_models = []\n",
    "for i, ngram_model in enumerate(tfidf_learning_inputs): \n",
    "    rf = RandomForestClassifier(n_estimators = 200, criterion = 'gini', max_features = 'sqrt', max_depth = 20)\n",
    "    rf.fit(ngram_model[0], ngram_model[2])\n",
    "    print('{}-gram TF-IDF:\\t Accuracy {}'.format(i+1,rf.score(ngram_model[1], ngram_model[3])))\n",
    "    tfidf_rf_models.append(rf)"
   ]
  },
  {
   "cell_type": "code",
   "execution_count": 67,
   "metadata": {},
   "outputs": [
    {
     "name": "stdout",
     "output_type": "stream",
     "text": [
      "Model 1: \t Accuracy 0.7115871918912693\n",
      "Model 2: \t Accuracy 0.7159640635798203\n",
      "Model 3: \t Accuracy 0.7067495968670813\n"
     ]
    }
   ],
   "source": [
    "word2vec_sow_rf_models = []\n",
    "for i, model in enumerate(word2vec_sow_inputs): \n",
    "    rf = RandomForestClassifier(n_estimators = 100, criterion = 'gini', max_features = 'sqrt', max_depth = 10)\n",
    "    rf.fit(model[0], model[2])\n",
    "    print('Model {}: \\t Accuracy {}'.format(i+1,rf.score(model[1], model[3])))\n",
    "    word2vec_sow_rf_models.append(rf)"
   ]
  },
  {
   "cell_type": "code",
   "execution_count": 68,
   "metadata": {},
   "outputs": [
    {
     "name": "stdout",
     "output_type": "stream",
     "text": [
      "Model 1: \t Accuracy 0.7113568302234509\n",
      "Model 2: \t Accuracy 0.686708131766874\n",
      "Model 3: \t Accuracy 0.7062888735314443\n"
     ]
    }
   ],
   "source": [
    "word2vec_avg_rf_models = []\n",
    "for i, model in enumerate(word2vec_avg_inputs): \n",
    "    rf = RandomForestClassifier(n_estimators = 100, criterion = 'gini', max_features = 'sqrt', max_depth = 10)\n",
    "    rf.fit(model[0], model[2])\n",
    "    print('Model {}: \\t Accuracy {}'.format(i+1,rf.score(model[1], model[3])))\n",
    "    word2vec_avg_rf_models.append(rf)"
   ]
  },
  {
   "cell_type": "code",
   "execution_count": 69,
   "metadata": {},
   "outputs": [
    {
     "name": "stdout",
     "output_type": "stream",
     "text": [
      "Model 1: \t Accuracy 0.4621055056438609\n",
      "Model 2: \t Accuracy 0.5844275512554711\n",
      "Model 3: \t Accuracy 0.5883436996083852\n"
     ]
    }
   ],
   "source": [
    "doc2vec_rf_models = []\n",
    "for i, model in enumerate(doc2vec_learning_inputs): \n",
    "    rf = RandomForestClassifier(n_estimators = 100, criterion = 'gini', max_features = 'sqrt', max_depth = 10)\n",
    "    rf.fit(model[0], model[2])\n",
    "    print('Model {}: \\t Accuracy {}'.format(i+1,rf.score(model[1], model[3])))\n",
    "    doc2vec_rf_models.append(rf)"
   ]
  },
  {
   "cell_type": "markdown",
   "metadata": {},
   "source": [
    "### Hyperparameter Tuning for RandomForestClassifier"
   ]
  },
  {
   "cell_type": "code",
   "execution_count": 73,
   "metadata": {},
   "outputs": [
    {
     "name": "stdout",
     "output_type": "stream",
     "text": [
      "Fitting 3 folds for each of 100 candidates, totalling 300 fits\n"
     ]
    },
    {
     "name": "stderr",
     "output_type": "stream",
     "text": [
      "[Parallel(n_jobs=-1)]: Using backend LokyBackend with 4 concurrent workers.\n",
      "[Parallel(n_jobs=-1)]: Done  33 tasks      | elapsed: 67.7min\n",
      "[Parallel(n_jobs=-1)]: Done 154 tasks      | elapsed: 212.6min\n",
      "[Parallel(n_jobs=-1)]: Done 300 out of 300 | elapsed: 381.7min finished\n"
     ]
    },
    {
     "data": {
      "text/plain": [
       "RandomizedSearchCV(cv=3, error_score='raise-deprecating',\n",
       "          estimator=RandomForestClassifier(bootstrap=True, class_weight=None, criterion='gini',\n",
       "            max_depth=None, max_features='auto', max_leaf_nodes=None,\n",
       "            min_impurity_decrease=0.0, min_impurity_split=None,\n",
       "            min_samples_leaf=1, min_samples_split=2,\n",
       "            min_weight_fraction_leaf=0.0, n_estimators='warn', n_jobs=None,\n",
       "            oob_score=False, random_state=None, verbose=0,\n",
       "            warm_start=False),\n",
       "          fit_params=None, iid='warn', n_iter=100, n_jobs=-1,\n",
       "          param_distributions={'n_estimators': [200, 400, 600, 800, 1000, 1200, 1400, 1600, 1800, 2000], 'max_features': ['auto', 'sqrt'], 'max_depth': [10, 20, 30, 40, 50, 60, 70, 80, 90, 100, 110, None], 'min_samples_split': [2, 5, 10], 'min_samples_leaf': [1, 2, 4], 'bootstrap': [True, False]},\n",
       "          pre_dispatch='2*n_jobs', random_state=None, refit=True,\n",
       "          return_train_score='warn', scoring=None, verbose=2)"
      ]
     },
     "execution_count": 73,
     "metadata": {},
     "output_type": "execute_result"
    }
   ],
   "source": [
    "# With thanks to towardsdatascience: \n",
    "#https://towardsdatascience.com/hyperparameter-tuning-the-random-forest-in-python-using-scikit-learn-28d2aa77dd74 \n",
    "from sklearn.model_selection import RandomizedSearchCV\n",
    "\n",
    "n_estimators = [int(x) for x in np.linspace(start = 200, stop = 2000, num = 10)]\n",
    "max_features = ['auto', 'sqrt']\n",
    "max_depth = [int(x) for x in np.linspace(10, 110, num = 11)]\n",
    "max_depth.append(None)\n",
    "min_samples_split = [2, 5, 10]\n",
    "min_samples_leaf = [1, 2, 4]\n",
    "bootstrap = [True, False]\n",
    "\n",
    "# Create the random grid\n",
    "random_grid = {'n_estimators': n_estimators,\n",
    "               'max_features': max_features,\n",
    "               'max_depth': max_depth,\n",
    "               'min_samples_split': min_samples_split,\n",
    "               'min_samples_leaf': min_samples_leaf,\n",
    "               'bootstrap': bootstrap}\n",
    "\n",
    "rf = RandomForestClassifier()\n",
    "# Random search of parameters, using 3 fold cross validation, \n",
    "# search across 100 different combinations, and use all available cores\n",
    "rf_random = RandomizedSearchCV(estimator = rf, param_distributions = random_grid, n_iter = 100, cv = 3, verbose=2, n_jobs = -1)\n",
    "\n",
    "# Fit the random search model\n",
    "rf_random.fit(word2vec_sow_inputs[0][0], word2vec_sow_inputs[0][2])"
   ]
  },
  {
   "cell_type": "code",
   "execution_count": 74,
   "metadata": {},
   "outputs": [
    {
     "data": {
      "text/plain": [
       "{'n_estimators': 1000,\n",
       " 'min_samples_split': 2,\n",
       " 'min_samples_leaf': 1,\n",
       " 'max_features': 'sqrt',\n",
       " 'max_depth': 70,\n",
       " 'bootstrap': False}"
      ]
     },
     "execution_count": 74,
     "metadata": {},
     "output_type": "execute_result"
    }
   ],
   "source": [
    "rf_random.best_params_"
   ]
  },
  {
   "cell_type": "code",
   "execution_count": 75,
   "metadata": {},
   "outputs": [
    {
     "name": "stdout",
     "output_type": "stream",
     "text": [
      "Model 1: \t Accuracy 0.7313982953236582\n",
      "Model 2: \t Accuracy 0.7461414420640405\n",
      "Model 3: \t Accuracy 0.7415342087076711\n"
     ]
    }
   ],
   "source": [
    "word2vec_sow_rf_models = []\n",
    "for i, model in enumerate(word2vec_sow_inputs): \n",
    "    rf = RandomForestClassifier(n_estimators = 1000, criterion = 'gini', max_features = 'sqrt', max_depth = 70, \n",
    "                               min_samples_split=2, min_samples_leaf = 1)\n",
    "    rf.fit(model[0], model[2])\n",
    "    print('Model {}: \\t Accuracy {}'.format(i+1,rf.score(model[1], model[3])))\n",
    "    word2vec_sow_rf_models.append(rf)"
   ]
  },
  {
   "cell_type": "code",
   "execution_count": null,
   "metadata": {},
   "outputs": [],
   "source": []
  }
 ],
 "metadata": {
  "kernelspec": {
   "display_name": "Python 3",
   "language": "python",
   "name": "python3"
  },
  "language_info": {
   "codemirror_mode": {
    "name": "ipython",
    "version": 3
   },
   "file_extension": ".py",
   "mimetype": "text/x-python",
   "name": "python",
   "nbconvert_exporter": "python",
   "pygments_lexer": "ipython3",
   "version": "3.6.7"
  }
 },
 "nbformat": 4,
 "nbformat_minor": 2
}
