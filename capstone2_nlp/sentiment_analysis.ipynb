{
 "cells": [
  {
   "cell_type": "code",
   "execution_count": 1,
   "metadata": {},
   "outputs": [],
   "source": [
    "import pandas as pd\n",
    "import seaborn as sns\n",
    "import matplotlib.pyplot as plt \n",
    "import re\n",
    "import numpy as np\n",
    "\n",
    "cores = 4"
   ]
  },
  {
   "cell_type": "code",
   "execution_count": 2,
   "metadata": {},
   "outputs": [],
   "source": [
    "tweets_with_originals = pd.read_csv('tweets_with_originals.csv', parse_dates = ['tweet_created'])"
   ]
  },
  {
   "cell_type": "code",
   "execution_count": 3,
   "metadata": {},
   "outputs": [],
   "source": [
    "tweets_with_originals['text_clean'] = tweets_with_originals.text_clean.str.replace(r'@(\\w+)([\\s.,:;!])?', r'\\1 ') # remove @s in @mentions"
   ]
  },
  {
   "cell_type": "code",
   "execution_count": 4,
   "metadata": {},
   "outputs": [],
   "source": [
    "from nltk.corpus import stopwords\n",
    "stopwords = set(stopwords.words('english'))\n",
    "import string\n",
    "#stopwords = stopwords.union(set([i for i in string.punctuation])) # remove punctuation\n",
    "#stopwords = stopwords.union(set(['AmericanAir', 'United', 'USAirways', 'JetBlue', 'SouthwestAir', 'Delta', 'VirginAmerica']))"
   ]
  },
  {
   "cell_type": "code",
   "execution_count": 5,
   "metadata": {},
   "outputs": [
    {
     "data": {
      "text/plain": [
       "\"VirginAmerica hi! i'm so excited about your $99 LGA->DAL deal- but i've been trying 2 book since last week & the page never loads. thx!\""
      ]
     },
     "execution_count": 5,
     "metadata": {},
     "output_type": "execute_result"
    }
   ],
   "source": [
    "tweets_with_originals.loc[55].text_clean"
   ]
  },
  {
   "cell_type": "markdown",
   "metadata": {},
   "source": [
    "# TF-IDF to identify additional stopwords \n",
    "\n",
    "Using TF-IDF, we'll look for additional stopwords "
   ]
  },
  {
   "cell_type": "code",
   "execution_count": 6,
   "metadata": {},
   "outputs": [],
   "source": [
    "from sklearn.feature_extraction.text import TfidfVectorizer\n",
    "tfidf_vectorizer = TfidfVectorizer(stop_words = stopwords, strip_accents = 'unicode', min_df = 10)\n",
    "tweet_input = tweets_with_originals.text_clean\n",
    "# maybe try to take out numbers, prices \n",
    "tweet_input=tweet_input.str.replace(r\" (\\d|\\W)+\",\"\") # remove digits, nonword things\n",
    "T = tfidf_vectorizer.fit_transform(tweet_input) # these are our features"
   ]
  },
  {
   "cell_type": "code",
   "execution_count": 7,
   "metadata": {},
   "outputs": [
    {
     "data": {
      "text/html": [
       "<div>\n",
       "<style scoped>\n",
       "    .dataframe tbody tr th:only-of-type {\n",
       "        vertical-align: middle;\n",
       "    }\n",
       "\n",
       "    .dataframe tbody tr th {\n",
       "        vertical-align: top;\n",
       "    }\n",
       "\n",
       "    .dataframe thead th {\n",
       "        text-align: right;\n",
       "    }\n",
       "</style>\n",
       "<table border=\"1\" class=\"dataframe\">\n",
       "  <thead>\n",
       "    <tr style=\"text-align: right;\">\n",
       "      <th></th>\n",
       "      <th>idf_vals</th>\n",
       "    </tr>\n",
       "  </thead>\n",
       "  <tbody>\n",
       "    <tr>\n",
       "      <th>count</th>\n",
       "      <td>1628.000000</td>\n",
       "    </tr>\n",
       "    <tr>\n",
       "      <th>mean</th>\n",
       "      <td>7.120723</td>\n",
       "    </tr>\n",
       "    <tr>\n",
       "      <th>std</th>\n",
       "      <td>0.958025</td>\n",
       "    </tr>\n",
       "    <tr>\n",
       "      <th>min</th>\n",
       "      <td>2.421465</td>\n",
       "    </tr>\n",
       "    <tr>\n",
       "      <th>25%</th>\n",
       "      <td>6.609403</td>\n",
       "    </tr>\n",
       "    <tr>\n",
       "      <th>50%</th>\n",
       "      <td>7.360819</td>\n",
       "    </tr>\n",
       "    <tr>\n",
       "      <th>75%</th>\n",
       "      <td>7.871644</td>\n",
       "    </tr>\n",
       "    <tr>\n",
       "      <th>max</th>\n",
       "      <td>8.181799</td>\n",
       "    </tr>\n",
       "  </tbody>\n",
       "</table>\n",
       "</div>"
      ],
      "text/plain": [
       "          idf_vals\n",
       "count  1628.000000\n",
       "mean      7.120723\n",
       "std       0.958025\n",
       "min       2.421465\n",
       "25%       6.609403\n",
       "50%       7.360819\n",
       "75%       7.871644\n",
       "max       8.181799"
      ]
     },
     "execution_count": 7,
     "metadata": {},
     "output_type": "execute_result"
    }
   ],
   "source": [
    "idf_df = pd.DataFrame(index = tfidf_vectorizer.get_feature_names())\n",
    "idf_df['idf_vals']= tfidf_vectorizer.idf_\n",
    "idf_df.describe()"
   ]
  },
  {
   "cell_type": "markdown",
   "metadata": {},
   "source": [
    "The minimum inverse document frequency is not so low. For our first pass I won't add any stopwords based on IDF values. "
   ]
  },
  {
   "cell_type": "markdown",
   "metadata": {},
   "source": [
    "We can use this array of tfidf vectors as input features... for testing purposes we'll also allow 2-grams and 3-grams to see if this improves the result. "
   ]
  },
  {
   "cell_type": "code",
   "execution_count": 8,
   "metadata": {},
   "outputs": [],
   "source": [
    "tf2_vectorizer = TfidfVectorizer(stop_words = stopwords, strip_accents = 'unicode', min_df = 10, ngram_range = (1,2))\n",
    "tf3_vectorizer = TfidfVectorizer(stop_words = stopwords, strip_accents = 'unicode', min_df = 10, ngram_range = (1,3))\n",
    "T_2 = tf2_vectorizer.fit_transform(tweet_input) \n",
    "T_3 = tf3_vectorizer.fit_transform(tweet_input)\n",
    "\n",
    "tfidf_input_mats = [T, T_2, T_3]"
   ]
  },
  {
   "cell_type": "markdown",
   "metadata": {},
   "source": [
    "# Word2Vec Model "
   ]
  },
  {
   "cell_type": "markdown",
   "metadata": {},
   "source": [
    "First we'll train a word2vec model on our tweets and see what sorts of words are grouped together. "
   ]
  },
  {
   "cell_type": "code",
   "execution_count": 83,
   "metadata": {},
   "outputs": [],
   "source": [
    "from nltk.tokenize.casual import TweetTokenizer\n",
    "from gensim.models.word2vec import Word2Vec\n",
    "from gensim.test.utils import common_texts, get_tmpfile\n",
    "cores = 4 # depends on how many cores you have...\n",
    "\n",
    "tokenizer = TweetTokenizer(preserve_case=False)\n",
    "tokenized_input = [tokenizer.tokenize(tweet) for tweet in tweet_input.values]\n",
    "tokenized_input = [[word for word in tweet if word not in string.punctuation] for tweet in tokenized_input]\n",
    "model_word2vec = Word2Vec(tokenized_input, window=5, min_count=10, workers=cores) # build vocabulary\n",
    "\n",
    "model_word2vec.train(tokenized_input, total_examples=len(tokenized_input), epochs=10)\n",
    "model_word2vec.save('airlinetweet_word2vec.model')"
   ]
  },
  {
   "cell_type": "markdown",
   "metadata": {},
   "source": [
    "The results look ok, airlines are associated with other airlines..."
   ]
  },
  {
   "cell_type": "code",
   "execution_count": 84,
   "metadata": {},
   "outputs": [
    {
     "name": "stderr",
     "output_type": "stream",
     "text": [
      "/conda/envs/nlp/lib/python3.6/site-packages/gensim/matutils.py:737: FutureWarning: Conversion of the second argument of issubdtype from `int` to `np.signedinteger` is deprecated. In future, it will be treated as `np.int64 == np.dtype(int).type`.\n",
      "  if np.issubdtype(vec.dtype, np.int):\n"
     ]
    },
    {
     "data": {
      "text/plain": [
       "[('jetblue', 0.8555155992507935),\n",
       " ('americanair', 0.8235585689544678),\n",
       " ('southwestair', 0.7941441535949707),\n",
       " ('usairways', 0.7848982810974121),\n",
       " ('virginamerica', 0.6322903037071228),\n",
       " ('however', 0.5049555897712708),\n",
       " ('mind', 0.4988018274307251),\n",
       " ('that', 0.4783726632595062),\n",
       " ('know', 0.4579315781593323),\n",
       " ('guess', 0.4573063254356384)]"
      ]
     },
     "execution_count": 84,
     "metadata": {},
     "output_type": "execute_result"
    }
   ],
   "source": [
    "model_word2vec.wv.most_similar('united')"
   ]
  },
  {
   "cell_type": "code",
   "execution_count": 85,
   "metadata": {},
   "outputs": [
    {
     "data": {
      "text/plain": [
       "[('americanair', 0.8479862213134766),\n",
       " ('united', 0.7848982810974121),\n",
       " ('southwestair', 0.7254579067230225),\n",
       " ('jetblue', 0.7034142017364502),\n",
       " ('virginamerica', 0.4963826835155487),\n",
       " ('mind', 0.4693787693977356),\n",
       " ('reservations', 0.46644100546836853),\n",
       " ('already', 0.44885408878326416),\n",
       " ('worries', 0.42794811725616455),\n",
       " ('guess', 0.42589789628982544)]"
      ]
     },
     "execution_count": 85,
     "metadata": {},
     "output_type": "execute_result"
    }
   ],
   "source": [
    "model_word2vec.wv.most_similar('usairways')"
   ]
  },
  {
   "cell_type": "markdown",
   "metadata": {},
   "source": [
    "And TSA with security check type things"
   ]
  },
  {
   "cell_type": "code",
   "execution_count": 86,
   "metadata": {},
   "outputs": [
    {
     "data": {
      "text/plain": [
       "[('pre', 0.8531556129455566),\n",
       " ('correct', 0.7531304955482483),\n",
       " ('file', 0.7516837120056152),\n",
       " ('res', 0.7468122243881226),\n",
       " ('name', 0.7446273565292358),\n",
       " ('receipt', 0.7026339769363403),\n",
       " ('number', 0.6914547681808472),\n",
       " ('uk', 0.6902579069137573),\n",
       " ('states', 0.6901673078536987),\n",
       " ('cc', 0.6896678805351257)]"
      ]
     },
     "execution_count": 86,
     "metadata": {},
     "output_type": "execute_result"
    }
   ],
   "source": [
    "model_word2vec.wv.most_similar('tsa')"
   ]
  },
  {
   "cell_type": "markdown",
   "metadata": {},
   "source": [
    "## Doc2Vec Model\n",
    "\n",
    "Doc2Vec learns \"document\" vectors instead of word vectors. We view each tweet as a document"
   ]
  },
  {
   "cell_type": "code",
   "execution_count": 14,
   "metadata": {},
   "outputs": [],
   "source": [
    "from gensim.models.doc2vec import TaggedDocument, Doc2Vec\n",
    "sentiment_tweets_docs = [TaggedDocument(tokenized_input[i], [str(tweets_with_originals.tweet_id.iloc[i])]) for i in range(tweet_input.shape[0])]"
   ]
  },
  {
   "cell_type": "code",
   "execution_count": 15,
   "metadata": {},
   "outputs": [],
   "source": [
    "model_doc2vec = Doc2Vec(dm=1, vector_size=300, hs=1, window=5,\n",
    "                        min_count=10, sample=0, epochs=20, alpha = .4, \n",
    "                        workers=cores, dbow_words = 1)\n",
    "model_doc2vec.build_vocab(sentiment_tweets_docs)\n",
    "model_doc2vec.train(sentiment_tweets_docs, total_examples = len(sentiment_tweets_docs), epochs = 20)\n",
    "model_doc2vec.save('airlinetweet_doc2vec.model')"
   ]
  },
  {
   "cell_type": "code",
   "execution_count": 16,
   "metadata": {},
   "outputs": [
    {
     "data": {
      "text/plain": [
       "[('seattle', 0.839514970779419),\n",
       " ('come', 0.831027626991272),\n",
       " ('big', 0.822252094745636),\n",
       " ('trying', 0.8195838332176208),\n",
       " ('opportunity', 0.809916615486145),\n",
       " ('treat', 0.7907835245132446),\n",
       " ('lauderdale', 0.7852464914321899),\n",
       " ('bad', 0.78386390209198),\n",
       " ('”', 0.7835196256637573),\n",
       " ('party', 0.7803313136100769)]"
      ]
     },
     "execution_count": 16,
     "metadata": {},
     "output_type": "execute_result"
    }
   ],
   "source": [
    "model_doc2vec.wv.most_similar('late')"
   ]
  },
  {
   "cell_type": "code",
   "execution_count": 17,
   "metadata": {},
   "outputs": [
    {
     "data": {
      "text/plain": [
       "[('tag', 0.8901811838150024),\n",
       " ('sfo', 0.8805761337280273),\n",
       " ('recent', 0.8748871088027954),\n",
       " ('speaking', 0.8659912347793579),\n",
       " ('read', 0.8624579906463623),\n",
       " ('flightto', 0.8591439723968506),\n",
       " ('calling', 0.8585244417190552),\n",
       " ('sw', 0.8562990427017212),\n",
       " ('a', 0.8460516929626465),\n",
       " ('try', 0.8434302806854248)]"
      ]
     },
     "execution_count": 17,
     "metadata": {},
     "output_type": "execute_result"
    }
   ],
   "source": [
    "model_doc2vec.wv.most_similar('delay')"
   ]
  },
  {
   "cell_type": "code",
   "execution_count": 18,
   "metadata": {},
   "outputs": [
    {
     "data": {
      "text/plain": [
       "[('train', 0.865645170211792),\n",
       " ('large', 0.83207106590271),\n",
       " ('over', 0.8133547306060791),\n",
       " ('page', 0.8122539520263672),\n",
       " ('located', 0.8078713417053223),\n",
       " ('interview', 0.8073971271514893),\n",
       " ('wont', 0.8068068027496338),\n",
       " ('same', 0.8001067042350769),\n",
       " ('son', 0.7959269285202026),\n",
       " ('more', 0.7858324646949768)]"
      ]
     },
     "execution_count": 18,
     "metadata": {},
     "output_type": "execute_result"
    }
   ],
   "source": [
    "model_doc2vec.wv.most_similar('tsa')"
   ]
  },
  {
   "cell_type": "code",
   "execution_count": 19,
   "metadata": {},
   "outputs": [
    {
     "data": {
      "text/plain": [
       "[('570022372901847042', 0.7009228467941284),\n",
       " ('569507522412986368', 0.6944149732589722),\n",
       " ('568901823215448064', 0.6865605711936951),\n",
       " ('570014602903339008', 0.6650257110595703),\n",
       " ('569731306092961792', 0.6600280404090881),\n",
       " ('568602309703249921', 0.6353190541267395),\n",
       " ('570271138464419840', 0.6344445943832397),\n",
       " ('568649338005487618', 0.6322372555732727),\n",
       " ('568195153464143872', 0.625732421875),\n",
       " ('569263677234388993', 0.623720645904541)]"
      ]
     },
     "execution_count": 19,
     "metadata": {},
     "output_type": "execute_result"
    }
   ],
   "source": [
    "model_doc2vec.docvecs.most_similar('570085644015419393')"
   ]
  },
  {
   "cell_type": "markdown",
   "metadata": {},
   "source": [
    "The following tweets are quite similar according to the model: "
   ]
  },
  {
   "cell_type": "code",
   "execution_count": 20,
   "metadata": {},
   "outputs": [
    {
     "data": {
      "text/plain": [
       "array([\"USAirways  A few years ago I lost over 50,00 miles bc I was physically unable to fly during the period.  I submitted a doctor's note.\"],\n",
       "      dtype=object)"
      ]
     },
     "execution_count": 20,
     "metadata": {},
     "output_type": "execute_result"
    }
   ],
   "source": [
    "tweets_with_originals.loc[tweets_with_originals.tweet_id == 570085644015419393]['text_clean'].values"
   ]
  },
  {
   "cell_type": "code",
   "execution_count": 21,
   "metadata": {},
   "outputs": [
    {
     "data": {
      "text/plain": [
       "array(['SouthwestAir Teyana Taylor Performing #MedusaFridays 2[.] 27 Free Till11   #TheMenOfBusiness'],\n",
       "      dtype=object)"
      ]
     },
     "execution_count": 21,
     "metadata": {},
     "output_type": "execute_result"
    }
   ],
   "source": [
    "tweets_with_originals.loc[tweets_with_originals.tweet_id == 570274362936266752]['text_clean'].values"
   ]
  },
  {
   "cell_type": "code",
   "execution_count": 22,
   "metadata": {},
   "outputs": [
    {
     "data": {
      "text/plain": [
       "array(['USAirways #usairways lost a passenger today for not upholding their promise of excellent customer service!!'],\n",
       "      dtype=object)"
      ]
     },
     "execution_count": 22,
     "metadata": {},
     "output_type": "execute_result"
    }
   ],
   "source": [
    "tweets_with_originals.loc[tweets_with_originals.tweet_id == 569734884396302338]['text_clean'].values"
   ]
  },
  {
   "cell_type": "code",
   "execution_count": 23,
   "metadata": {},
   "outputs": [
    {
     "data": {
      "text/plain": [
       "array(['jetblue having trouble signing in to TrueBlue today, despite right credentials. getting \"We are not able to sign you in\" msg.'],\n",
       "      dtype=object)"
      ]
     },
     "execution_count": 23,
     "metadata": {},
     "output_type": "execute_result"
    }
   ],
   "source": [
    "tweets_with_originals.loc[tweets_with_originals.tweet_id == 570277054635057153]['text_clean'].values"
   ]
  },
  {
   "cell_type": "markdown",
   "metadata": {},
   "source": [
    "They are at least all negative sentiment tweets, so hopefully we're heading in the right direction. "
   ]
  },
  {
   "cell_type": "markdown",
   "metadata": {},
   "source": [
    "### TODO: different models with different hyperparameters, methods (DBOW vs not etc) as a list, test train split on all of these to test model (better accuracy -> better model (ish) "
   ]
  },
  {
   "cell_type": "code",
   "execution_count": 31,
   "metadata": {},
   "outputs": [],
   "source": [
    "model_2_doc2vec = Doc2Vec(dm=0, vector_size=300, negative=5, window=5,\n",
    "                        min_count=10, sample=1e-5, epochs=20, \n",
    "                        workers=cores, dbow_words = 1)\n",
    "model_2_doc2vec.build_vocab(sentiment_tweets_docs)\n",
    "model_2_doc2vec.train(sentiment_tweets_docs, total_examples = len(sentiment_tweets_docs), epochs = 20)\n",
    "model_2_doc2vec.save('airlinetweet_doc2vec_2.model')"
   ]
  },
  {
   "cell_type": "code",
   "execution_count": 32,
   "metadata": {},
   "outputs": [
    {
     "data": {
      "text/plain": [
       "[('sell', 0.9995816946029663),\n",
       " ('winners', 0.9995533227920532),\n",
       " ('stl', 0.9995391368865967),\n",
       " ('contest', 0.9995380640029907),\n",
       " ('fares', 0.99953693151474),\n",
       " ('ha', 0.9995325207710266),\n",
       " ('fingers', 0.9995321035385132),\n",
       " (\"it's\", 0.9995311498641968),\n",
       " ('laptop', 0.9995301365852356),\n",
       " ('starting', 0.9995291233062744)]"
      ]
     },
     "execution_count": 32,
     "metadata": {},
     "output_type": "execute_result"
    }
   ],
   "source": [
    "model_2_doc2vec.wv.most_similar('late')"
   ]
  },
  {
   "cell_type": "code",
   "execution_count": 75,
   "metadata": {},
   "outputs": [],
   "source": [
    "model_3_doc2vec = Doc2Vec(dm=0, vector_size=300, negative=5, window=5,\n",
    "                        min_count=10, sample=1e-5, epochs=20, \n",
    "                        workers=cores, dbow_words = 1)\n",
    "model_3_doc2vec.build_vocab(sentiment_tweets_docs)\n",
    "model_3_doc2vec.train(sentiment_tweets_docs, total_examples = len(sentiment_tweets_docs), epochs = 20)\n",
    "model_3_doc2vec.save('airlinetweet_doc2vec_3.model')"
   ]
  },
  {
   "cell_type": "code",
   "execution_count": 76,
   "metadata": {},
   "outputs": [
    {
     "name": "stderr",
     "output_type": "stream",
     "text": [
      "/conda/envs/nlp/lib/python3.6/site-packages/gensim/matutils.py:737: FutureWarning: Conversion of the second argument of issubdtype from `int` to `np.signedinteger` is deprecated. In future, it will be treated as `np.int64 == np.dtype(int).type`.\n",
      "  if np.issubdtype(vec.dtype, np.int):\n"
     ]
    },
    {
     "data": {
      "text/plain": [
       "[('in-flight', 0.9995760917663574),\n",
       " ('starting', 0.9995462894439697),\n",
       " ('fares', 0.9995442628860474),\n",
       " ('win', 0.9995371103286743),\n",
       " ('fingers', 0.9995367527008057),\n",
       " ('flightn', 0.9995325803756714),\n",
       " ('cabin', 0.9995312690734863),\n",
       " ('winners', 0.9995303153991699),\n",
       " ('contest', 0.999529242515564),\n",
       " ('visit', 0.9995285272598267)]"
      ]
     },
     "execution_count": 76,
     "metadata": {},
     "output_type": "execute_result"
    }
   ],
   "source": [
    "model_3_doc2vec.wv.most_similar('late')"
   ]
  },
  {
   "cell_type": "code",
   "execution_count": 79,
   "metadata": {},
   "outputs": [],
   "source": [
    "doc2vec_models = [model_doc2vec, model_2_doc2vec, model_3_doc2vec]"
   ]
  },
  {
   "cell_type": "markdown",
   "metadata": {},
   "source": [
    "# Sentiment Analysis"
   ]
  },
  {
   "cell_type": "markdown",
   "metadata": {},
   "source": [
    "The sentiments in our dataset are highly imbalanced: "
   ]
  },
  {
   "cell_type": "code",
   "execution_count": 38,
   "metadata": {},
   "outputs": [
    {
     "data": {
      "image/png": "[encoded data removed]",
      "text/plain": [
       "<Figure size 432x288 with 1 Axes>"
      ]
     },
     "metadata": {
      "needs_background": "light"
     },
     "output_type": "display_data"
    }
   ],
   "source": [
    "_ = sns.countplot(x = 'airline_sentiment', data = tweets_with_originals)"
   ]
  },
  {
   "cell_type": "markdown",
   "metadata": {},
   "source": [
    "There are a lot of strategies we could try to rebalance the dataset. The easiest would be oversampling the neutral/positive sentiment tweets. "
   ]
  },
  {
   "cell_type": "code",
   "execution_count": 43,
   "metadata": {},
   "outputs": [],
   "source": [
    "from sklearn.model_selection import train_test_split\n",
    "#TODO: finish this\n",
    "\n",
    "def doc2vec_train_test_split(trained_model, doc_ids, target_vec, test_size=.3):\n",
    "    '''\n",
    "    returns test train using paragraph vectors for tweets \n",
    "    (lookup based on tweet_id)\n",
    "    \n",
    "    '''\n",
    "    train_ids, test_ids = train_test_split(doc_ids, test_size = test_size)\n",
    "    train_docvec_idx = trained_model.vocabulary.indexed_doctags(train_ids, trained_model.docvecs)\n",
    "    test_docvec_idx = trained_model.vocabulary.indexed_doctags(test_ids, trained_model.docvecs)\n",
    "\n",
    "    X_train = np.array([trained_model.docvecs[idx] for idx in train_docvec_idx])\n",
    "    X_test = np.array([trained_model.docvecs[idx] for idx in test_docvec_idx])\n",
    "\n",
    "    y_train = target_vec.iloc[train_docvec_idx].values\n",
    "    y_test = target_vec.iloc[test_docvec_idx].values\n",
    "    return X_train, X_test, y_train, y_test"
   ]
  },
  {
   "cell_type": "code",
   "execution_count": 41,
   "metadata": {},
   "outputs": [],
   "source": [
    "# test split with oversampling ... try SMOTE \n",
    "from imblearn.over_sampling import SMOTE\n",
    "\n",
    "y = tweets_with_originals.airline_sentiment.map({'negative': 0, 'neutral':1, 'positive':2})\n",
    "\n",
    "# test_train split for TFIDF outputs \n",
    "tfidf_learning_inputs = []\n",
    "for M in tfidf_input_mats:\n",
    "    T_train, T_test, y_train, y_test = train_test_split(T, y, test_size=0.3)\n",
    "    sm = SMOTE() # smarter upsampling \n",
    "    T_train_sm, y_train_sm = sm.fit_sample(T_train, y_train.ravel())\n",
    "    tfidf_learning_inputs.append([T_train_sm, T_test, y_train_sm, y_test])"
   ]
  },
  {
   "cell_type": "code",
   "execution_count": 80,
   "metadata": {},
   "outputs": [],
   "source": [
    "# test_train_split for Doc2Vec outputs\n",
    "#train\n",
    "tweet_ids = tweets_with_originals.tweet_id.astype(str).values\n",
    "doc2vec_learning_inputs = []\n",
    "for model in doc2vec_models: \n",
    "    X_train, X_test, y_train, y_test = doc2vec_train_test_split(model, tweet_ids, y)\n",
    "    sm = SMOTE()\n",
    "    X_train_sm, y_train_sm = sm.fit_sample(X_train, y_train.ravel())\n",
    "    doc2vec_learning_inputs.append([X_train_sm, X_test, y_train_sm, y_test])"
   ]
  },
  {
   "cell_type": "markdown",
   "metadata": {},
   "source": [
    "We confirm that SMOTE balances the number of training samples in each class... "
   ]
  },
  {
   "cell_type": "code",
   "execution_count": 59,
   "metadata": {},
   "outputs": [
    {
     "data": {
      "image/png": "[encoded data removed]",
      "text/plain": [
       "<Figure size 432x288 with 1 Axes>"
      ]
     },
     "metadata": {
      "needs_background": "light"
     },
     "output_type": "display_data"
    }
   ],
   "source": [
    "_ = sns.countplot(x = tfidf_learning_inputs[0][2])\n",
    "_ = plt.title('Classes in training set after SMOTE')\n",
    "locs, labels = plt.xticks()\n",
    "_ = plt.xticks(locs, ['negative', 'neutral', 'positive'], )"
   ]
  },
  {
   "cell_type": "markdown",
   "metadata": {},
   "source": [
    "## Method 1: Logistic Regression"
   ]
  },
  {
   "cell_type": "markdown",
   "metadata": {},
   "source": [
    "### TF-IDF input sentiment analysis\n",
    "Basic logistic regression with one-versus-rest (OVR) multiclass scheme. "
   ]
  },
  {
   "cell_type": "code",
   "execution_count": 69,
   "metadata": {},
   "outputs": [
    {
     "name": "stdout",
     "output_type": "stream",
     "text": [
      "1-gram TF-IDF:\t Accuracy 0.7463718037318591\n",
      "2-gram TF-IDF:\t Accuracy 0.7514397604238655\n",
      "3-gram TF-IDF:\t Accuracy 0.7417645703754895\n"
     ]
    }
   ],
   "source": [
    "from sklearn.linear_model import LogisticRegression\n",
    "\n",
    "tfidf_log_models = []\n",
    "for i, ngram_model in enumerate(tfidf_learning_inputs): \n",
    "    lr = LogisticRegression(solver = 'lbfgs', multi_class='auto', max_iter = 200)\n",
    "    lr.fit(ngram_model[0], ngram_model[2])\n",
    "    print('{}-gram TF-IDF:\\t Accuracy {}'.format(i+1,lr.score(ngram_model[1], ngram_model[3])))\n",
    "    tfidf_log_models.append(lr)"
   ]
  },
  {
   "cell_type": "markdown",
   "metadata": {},
   "source": [
    "### Word2Vec input sentiment analysis"
   ]
  },
  {
   "cell_type": "markdown",
   "metadata": {},
   "source": [
    "We try the sum of words embedding which is described [here](https://white.ucc.asn.au/publications/White2015SentVecMeaning.pdf). We just take the sum of the word vectors contained in a tweet. "
   ]
  },
  {
   "cell_type": "code",
   "execution_count": 127,
   "metadata": {},
   "outputs": [],
   "source": [
    "def sowe_train_test_split(trained_model, doc_ids, target_vec, test_size=.3):\n",
    "    # Returns test/train split: features are sums of word vectors for each tweet. \n",
    "    # doc_ids contain, for example, tweet ids \n",
    "    # target_vec is assumed to be indexed by doc_ids \n",
    "    train_ids, test_ids = train_test_split(doc_ids, test_size = test_size)\n",
    "    X_train = build_sowe(trained_model, train_ids)\n",
    "    X_test = build_sowe(trained_model, test_ids)\n",
    "    \n",
    "    y_train = target_vec.iloc[train_ids].values\n",
    "    y_test = target_vec.iloc[test_ids].values\n",
    "\n",
    "def build_sowe(trained_model, doc_ids, target_vec):\n",
    "    #build sum of words embedding ML input\n",
    "    pass\n",
    "\n",
    "def wv_lookup(trained_model, word):\n",
    "    # looks up word -> vec translation\n",
    "    # catches error\n",
    "    default_vec = np.zeros(trained_model.vector_size)\n",
    "    try:\n",
    "        return trained_model.wv[word]\n",
    "    except:\n",
    "        return default_vec\n",
    "\n",
    "def sow_from_tweet(trained_model, tokenized_tweet):\n",
    "    # Sum of words for a single tweet \n",
    "    vecs = list(map(lambda word: wv_lookup(trained_model, word), tokenized_tweet))\n",
    "    return np.sum(vecs, axis=0)"
   ]
  },
  {
   "cell_type": "code",
   "execution_count": 109,
   "metadata": {},
   "outputs": [
    {
     "data": {
      "text/plain": [
       "100"
      ]
     },
     "execution_count": 109,
     "metadata": {},
     "output_type": "execute_result"
    }
   ],
   "source": [
    "model_word2vec.vector_size"
   ]
  },
  {
   "cell_type": "code",
   "execution_count": null,
   "metadata": {},
   "outputs": [],
   "source": [
    "sow_from_w"
   ]
  },
  {
   "cell_type": "code",
   "execution_count": 126,
   "metadata": {},
   "outputs": [
    {
     "data": {
      "text/plain": [
       "array([ 0.58956656, -1.38863343,  0.15150377,  1.02561995, -1.00322363,\n",
       "        0.13215895,  0.39881968, -1.5946168 , -1.25538049, -0.04223027,\n",
       "        0.15760099, -0.18143848,  0.3754073 ,  0.32879773,  0.86749344,\n",
       "        0.45247516,  1.65286747, -0.9682514 ,  0.52150771, -1.18231171,\n",
       "        1.28511823, -1.19363871, -0.83518154,  2.79301821,  0.22339585,\n",
       "       -0.2126379 ,  0.04244782, -0.66937584,  1.38906348, -0.83325899,\n",
       "        1.01568795,  1.95212466, -2.39438522, -1.99725257,  1.09375907,\n",
       "       -0.53754383,  0.89119262,  0.48749726,  0.37559569, -0.73960784,\n",
       "       -0.18809643, -1.86905348,  1.55215791,  1.53004739, -0.09094448,\n",
       "        0.17661667,  3.17012906,  1.47410482, -0.75404444,  0.30731732,\n",
       "        1.11724599,  0.97052401, -0.62809788, -1.4440279 ,  0.4480595 ,\n",
       "       -0.49965289,  0.97406555,  1.61815414,  1.45777941,  0.64921694,\n",
       "       -2.52974886, -0.67322816, -0.33969241, -0.76354349, -0.06020771,\n",
       "       -2.12793171,  0.05130973,  0.48766083, -0.9852702 ,  0.38126609,\n",
       "       -0.68318236, -1.16182204,  0.91543229, -1.67262723,  0.10605142,\n",
       "        0.25995477,  0.83767174,  0.00534241, -0.05474791, -1.68359913,\n",
       "       -0.33821833, -0.36785626, -0.64179658,  2.5912991 ,  1.89379863,\n",
       "       -1.10939103, -0.62480117,  2.51763123, -1.23408531,  0.47742377,\n",
       "       -2.06764512, -1.88881326,  0.60230109, -1.32000893,  0.7137439 ,\n",
       "        1.49627983,  1.10482506,  0.51622656, -0.4045279 , -0.57675037])"
      ]
     },
     "execution_count": 126,
     "metadata": {},
     "output_type": "execute_result"
    }
   ],
   "source": [
    "np.sum(sow_from_tweet(model_word2vec, tokenized_input[0]), axis=0)"
   ]
  },
  {
   "cell_type": "markdown",
   "metadata": {},
   "source": [
    "### Doc2Vec input sentiment analysis"
   ]
  },
  {
   "cell_type": "code",
   "execution_count": 81,
   "metadata": {},
   "outputs": [
    {
     "name": "stderr",
     "output_type": "stream",
     "text": [
      "/conda/envs/nlp/lib/python3.6/site-packages/sklearn/linear_model/logistic.py:758: ConvergenceWarning: lbfgs failed to converge. Increase the number of iterations.\n",
      "  \"of iterations.\", ConvergenceWarning)\n"
     ]
    },
    {
     "name": "stdout",
     "output_type": "stream",
     "text": [
      "Model 1: \t Accuracy 0.32411886662059436\n",
      "Model 2: \t Accuracy 0.5215388159410275\n",
      "Model 3: \t Accuracy 0.5143976042386547\n"
     ]
    }
   ],
   "source": [
    "doc2vec_log_models = []\n",
    "for i,model in enumerate(doc2vec_learning_inputs): \n",
    "    lr = LogisticRegression(solver='lbfgs', multi_class = 'auto', max_iter = 500)\n",
    "    lr.fit(model[0], model[2])\n",
    "    print('Model {}: \\t Accuracy {}'.format(i+1, lr.score(model[1], model[3])))\n",
    "    doc2vec_log_models.append(lr)"
   ]
  },
  {
   "cell_type": "markdown",
   "metadata": {},
   "source": [
    "Performance is poor here: instability was observed in results when training the various Doc2Vec models. I think that we need more training data: the number of tweets we have is pretty low for the complexity of the doc2vec NN. "
   ]
  },
  {
   "cell_type": "markdown",
   "metadata": {},
   "source": [
    "## Method 2: Random Forest"
   ]
  },
  {
   "cell_type": "code",
   "execution_count": null,
   "metadata": {},
   "outputs": [],
   "source": []
  }
 ],
 "metadata": {
  "kernelspec": {
   "display_name": "Python 3",
   "language": "python",
   "name": "python3"
  },
  "language_info": {
   "codemirror_mode": {
    "name": "ipython",
    "version": 3
   },
   "file_extension": ".py",
   "mimetype": "text/x-python",
   "name": "python",
   "nbconvert_exporter": "python",
   "pygments_lexer": "ipython3",
   "version": "3.6.7"
  }
 },
 "nbformat": 4,
 "nbformat_minor": 2
}
