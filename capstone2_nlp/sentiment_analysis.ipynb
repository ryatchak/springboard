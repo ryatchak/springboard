{
 "cells": [
  {
   "cell_type": "code",
   "execution_count": 1,
   "metadata": {},
   "outputs": [],
   "source": [
    "import pandas as pd\n",
    "import seaborn as sns\n",
    "import matplotlib.pyplot as plt \n",
    "import re\n",
    "import numpy as np\n",
    "\n",
    "cores = 4"
   ]
  },
  {
   "cell_type": "code",
   "execution_count": 2,
   "metadata": {},
   "outputs": [],
   "source": [
    "tweets_with_originals = pd.read_csv('tweets_with_originals.csv', parse_dates = ['tweet_created'])"
   ]
  },
  {
   "cell_type": "code",
   "execution_count": 3,
   "metadata": {},
   "outputs": [],
   "source": [
    "tweets_with_originals['text_clean'] = tweets_with_originals.text_clean.str.replace(r'@(\\w+)([\\s.,:;!])?', r'\\1 ') # remove @s in @mentions"
   ]
  },
  {
   "cell_type": "code",
   "execution_count": 4,
   "metadata": {},
   "outputs": [],
   "source": [
    "from nltk.corpus import stopwords\n",
    "stopwords = set(stopwords.words('english'))\n",
    "import string\n",
    "#stopwords = stopwords.union(set([i for i in string.punctuation])) # remove punctuation\n",
    "#stopwords = stopwords.union(set(['AmericanAir', 'United', 'USAirways', 'JetBlue', 'SouthwestAir', 'Delta', 'VirginAmerica']))"
   ]
  },
  {
   "cell_type": "code",
   "execution_count": 5,
   "metadata": {},
   "outputs": [
    {
     "data": {
      "text/plain": [
       "\"VirginAmerica hi! i'm so excited about your $99 LGA->DAL deal- but i've been trying 2 book since last week & the page never loads. thx!\""
      ]
     },
     "execution_count": 5,
     "metadata": {},
     "output_type": "execute_result"
    }
   ],
   "source": [
    "tweets_with_originals.loc[55].text_clean"
   ]
  },
  {
   "cell_type": "markdown",
   "metadata": {},
   "source": [
    "# TF-IDF to identify additional stopwords \n",
    "\n",
    "Using TF-IDF, we'll look for additional stopwords "
   ]
  },
  {
   "cell_type": "code",
   "execution_count": 6,
   "metadata": {},
   "outputs": [],
   "source": [
    "from sklearn.feature_extraction.text import TfidfVectorizer\n",
    "tfidf_vectorizer = TfidfVectorizer(stop_words = stopwords, strip_accents = 'unicode', min_df = 10)\n",
    "tweet_input = tweets_with_originals.text_clean\n",
    "# maybe try to take out numbers, prices \n",
    "tweet_input=tweet_input.str.replace(r\" (\\d|\\W)+\",\"\") # remove digits, nonword things\n",
    "T = tfidf_vectorizer.fit_transform(tweet_input) # these are our features"
   ]
  },
  {
   "cell_type": "code",
   "execution_count": 7,
   "metadata": {},
   "outputs": [
    {
     "data": {
      "text/html": [
       "<div>\n",
       "<style scoped>\n",
       "    .dataframe tbody tr th:only-of-type {\n",
       "        vertical-align: middle;\n",
       "    }\n",
       "\n",
       "    .dataframe tbody tr th {\n",
       "        vertical-align: top;\n",
       "    }\n",
       "\n",
       "    .dataframe thead th {\n",
       "        text-align: right;\n",
       "    }\n",
       "</style>\n",
       "<table border=\"1\" class=\"dataframe\">\n",
       "  <thead>\n",
       "    <tr style=\"text-align: right;\">\n",
       "      <th></th>\n",
       "      <th>idf_vals</th>\n",
       "    </tr>\n",
       "  </thead>\n",
       "  <tbody>\n",
       "    <tr>\n",
       "      <th>count</th>\n",
       "      <td>1628.000000</td>\n",
       "    </tr>\n",
       "    <tr>\n",
       "      <th>mean</th>\n",
       "      <td>7.120723</td>\n",
       "    </tr>\n",
       "    <tr>\n",
       "      <th>std</th>\n",
       "      <td>0.958025</td>\n",
       "    </tr>\n",
       "    <tr>\n",
       "      <th>min</th>\n",
       "      <td>2.421465</td>\n",
       "    </tr>\n",
       "    <tr>\n",
       "      <th>25%</th>\n",
       "      <td>6.609403</td>\n",
       "    </tr>\n",
       "    <tr>\n",
       "      <th>50%</th>\n",
       "      <td>7.360819</td>\n",
       "    </tr>\n",
       "    <tr>\n",
       "      <th>75%</th>\n",
       "      <td>7.871644</td>\n",
       "    </tr>\n",
       "    <tr>\n",
       "      <th>max</th>\n",
       "      <td>8.181799</td>\n",
       "    </tr>\n",
       "  </tbody>\n",
       "</table>\n",
       "</div>"
      ],
      "text/plain": [
       "          idf_vals\n",
       "count  1628.000000\n",
       "mean      7.120723\n",
       "std       0.958025\n",
       "min       2.421465\n",
       "25%       6.609403\n",
       "50%       7.360819\n",
       "75%       7.871644\n",
       "max       8.181799"
      ]
     },
     "execution_count": 7,
     "metadata": {},
     "output_type": "execute_result"
    }
   ],
   "source": [
    "idf_df = pd.DataFrame(index = tfidf_vectorizer.get_feature_names())\n",
    "idf_df['idf_vals']= tfidf_vectorizer.idf_\n",
    "idf_df.describe()"
   ]
  },
  {
   "cell_type": "markdown",
   "metadata": {},
   "source": [
    "The minimum inverse document frequency is not so low. For our first pass I won't add any stopwords based on IDF values. "
   ]
  },
  {
   "cell_type": "markdown",
   "metadata": {},
   "source": [
    "We can use this array of tfidf vectors as input features... for testing purposes we'll also allow 2-grams and 3-grams to see if this improves the result. "
   ]
  },
  {
   "cell_type": "code",
   "execution_count": 8,
   "metadata": {},
   "outputs": [],
   "source": [
    "tf2_vectorizer = TfidfVectorizer(stop_words = stopwords, strip_accents = 'unicode', min_df = 10, ngram_range = (1,2))\n",
    "tf3_vectorizer = TfidfVectorizer(stop_words = stopwords, strip_accents = 'unicode', min_df = 10, ngram_range = (1,3))\n",
    "T_2 = tf2_vectorizer.fit_transform(tweet_input) \n",
    "T_3 = tf3_vectorizer.fit_transform(tweet_input)\n",
    "\n",
    "tfidf_input_mats = [T, T_2, T_3]"
   ]
  },
  {
   "cell_type": "markdown",
   "metadata": {},
   "source": [
    "# Word2Vec Model "
   ]
  },
  {
   "cell_type": "markdown",
   "metadata": {},
   "source": [
    "First we'll train a word2vec model on our tweets and see what sorts of words are grouped together. "
   ]
  },
  {
   "cell_type": "code",
   "execution_count": 9,
   "metadata": {},
   "outputs": [],
   "source": [
    "from nltk.tokenize.casual import TweetTokenizer\n",
    "from gensim.models.word2vec import Word2Vec\n",
    "from gensim.test.utils import common_texts, get_tmpfile\n",
    "cores = 4 # depends on how many cores you have...\n",
    "\n",
    "tokenizer = TweetTokenizer(preserve_case=False)\n",
    "tokenized_input = [tokenizer.tokenize(tweet) for tweet in tweet_input.values]\n",
    "tokenized_input = [[word for word in tweet if word not in string.punctuation] for tweet in tokenized_input]\n",
    "model = Word2Vec(tokenized_input, window=5, min_count=10, workers=cores) # build vocabulary\n",
    "\n",
    "model.train(tokenized_input, total_examples=len(tokenized_input), epochs=10)\n",
    "model.save('airlinetweet_word2vec.model')"
   ]
  },
  {
   "cell_type": "markdown",
   "metadata": {},
   "source": [
    "The results look ok, airlines are associated with other airlines..."
   ]
  },
  {
   "cell_type": "code",
   "execution_count": 10,
   "metadata": {},
   "outputs": [
    {
     "name": "stderr",
     "output_type": "stream",
     "text": [
      "/conda/envs/nlp/lib/python3.6/site-packages/gensim/matutils.py:737: FutureWarning: Conversion of the second argument of issubdtype from `int` to `np.signedinteger` is deprecated. In future, it will be treated as `np.int64 == np.dtype(int).type`.\n",
      "  if np.issubdtype(vec.dtype, np.int):\n"
     ]
    },
    {
     "data": {
      "text/plain": [
       "[('jetblue', 0.8662815093994141),\n",
       " ('americanair', 0.8628705739974976),\n",
       " ('southwestair', 0.8120953440666199),\n",
       " ('usairways', 0.7812957763671875),\n",
       " ('virginamerica', 0.6427493095397949),\n",
       " ('that', 0.45561307668685913),\n",
       " ('mind', 0.4543249309062958),\n",
       " ('but', 0.45242786407470703),\n",
       " ('guess', 0.4319174885749817),\n",
       " ('however', 0.4314931035041809)]"
      ]
     },
     "execution_count": 10,
     "metadata": {},
     "output_type": "execute_result"
    }
   ],
   "source": [
    "model.wv.most_similar('united')"
   ]
  },
  {
   "cell_type": "code",
   "execution_count": 11,
   "metadata": {},
   "outputs": [
    {
     "data": {
      "text/plain": [
       "[('americanair', 0.8087992072105408),\n",
       " ('united', 0.7812957763671875),\n",
       " ('southwestair', 0.7618030309677124),\n",
       " ('jetblue', 0.739116907119751),\n",
       " ('virginamerica', 0.47068217396736145),\n",
       " ('guess', 0.43932756781578064),\n",
       " ('happening', 0.4298640489578247),\n",
       " ('mind', 0.42269501090049744),\n",
       " ('ridiculous', 0.41210249066352844),\n",
       " ('already', 0.4079624116420746)]"
      ]
     },
     "execution_count": 11,
     "metadata": {},
     "output_type": "execute_result"
    }
   ],
   "source": [
    "model.wv.most_similar('usairways')"
   ]
  },
  {
   "cell_type": "markdown",
   "metadata": {},
   "source": [
    "And TSA with security check type things"
   ]
  },
  {
   "cell_type": "code",
   "execution_count": 12,
   "metadata": {},
   "outputs": [
    {
     "data": {
      "text/plain": [
       "[('pre', 0.8296579718589783),\n",
       " ('file', 0.7714195251464844),\n",
       " ('correct', 0.7350829839706421),\n",
       " ('fare', 0.7199697494506836),\n",
       " ('name', 0.7141523957252502),\n",
       " ('receipt', 0.7087810635566711),\n",
       " ('res', 0.697322428226471),\n",
       " ('guarantee', 0.6813904047012329),\n",
       " ('uk', 0.6726496815681458),\n",
       " ('listed', 0.6676491498947144)]"
      ]
     },
     "execution_count": 12,
     "metadata": {},
     "output_type": "execute_result"
    }
   ],
   "source": [
    "model.wv.most_similar('tsa')"
   ]
  },
  {
   "cell_type": "markdown",
   "metadata": {},
   "source": [
    "## Doc2Vec Model\n",
    "\n",
    "Doc2Vec learns \"document\" vectors instead of word vectors. We view each tweet as a document"
   ]
  },
  {
   "cell_type": "code",
   "execution_count": 13,
   "metadata": {},
   "outputs": [],
   "source": [
    "from gensim.models.doc2vec import TaggedDocument, Doc2Vec\n",
    "sentiment_tweets_docs = [TaggedDocument(tokenized_input[i], [str(tweets_with_originals.tweet_id.iloc[i])]) for i in range(tweet_input.shape[0])]"
   ]
  },
  {
   "cell_type": "code",
   "execution_count": 14,
   "metadata": {},
   "outputs": [],
   "source": [
    "model_doc2vec = Doc2Vec(dm=1, vector_size=300, hs=1, window=5,\n",
    "                        min_count=10, sample=0, epochs=20, alpha = .4, \n",
    "                        workers=cores, dbow_words = 1)\n",
    "model_doc2vec.build_vocab(sentiment_tweets_docs)\n",
    "model_doc2vec.train(sentiment_tweets_docs, total_examples = len(sentiment_tweets_docs), epochs = 20)\n",
    "model_doc2vec.save('airlinetweet_doc2vec.model')"
   ]
  },
  {
   "cell_type": "code",
   "execution_count": 15,
   "metadata": {},
   "outputs": [
    {
     "data": {
      "text/plain": [
       "[('track', 0.7873563170433044),\n",
       " ('phl', 0.7872782349586487),\n",
       " ('whatever', 0.787070631980896),\n",
       " ('experienced', 0.7815811038017273),\n",
       " ('schedule', 0.7807751297950745),\n",
       " ('mileage', 0.776772141456604),\n",
       " ('row', 0.7736649513244629),\n",
       " ('being', 0.7597764134407043),\n",
       " ('we', 0.7578635811805725),\n",
       " ('concern', 0.7534886598587036)]"
      ]
     },
     "execution_count": 15,
     "metadata": {},
     "output_type": "execute_result"
    }
   ],
   "source": [
    "model_doc2vec.wv.most_similar('late')"
   ]
  },
  {
   "cell_type": "code",
   "execution_count": 16,
   "metadata": {},
   "outputs": [
    {
     "data": {
      "text/plain": [
       "[('joke', 0.8867878317832947),\n",
       " ('web', 0.8811459541320801),\n",
       " ('funeral', 0.8713045120239258),\n",
       " ('purchase', 0.8697883486747742),\n",
       " ('stuck', 0.8601381778717041),\n",
       " ('conference', 0.8441726565361023),\n",
       " ('ashamed', 0.8430130481719971),\n",
       " ('yall', 0.8419787883758545),\n",
       " ('arrived', 0.8355956077575684),\n",
       " ('full', 0.833648145198822)]"
      ]
     },
     "execution_count": 16,
     "metadata": {},
     "output_type": "execute_result"
    }
   ],
   "source": [
    "model_doc2vec.wv.most_similar('delay')"
   ]
  },
  {
   "cell_type": "code",
   "execution_count": 17,
   "metadata": {},
   "outputs": [
    {
     "data": {
      "text/plain": [
       "[('because', 0.9073868989944458),\n",
       " ('return', 0.8793728351593018),\n",
       " ('lie', 0.8744453191757202),\n",
       " ('pick', 0.8634284734725952),\n",
       " ('expensive', 0.8632164001464844),\n",
       " ('dealing', 0.8628031611442566),\n",
       " ('death', 0.8622838258743286),\n",
       " ('plus', 0.8597457408905029),\n",
       " ('account', 0.851006031036377),\n",
       " ('view', 0.8483704328536987)]"
      ]
     },
     "execution_count": 17,
     "metadata": {},
     "output_type": "execute_result"
    }
   ],
   "source": [
    "model_doc2vec.wv.most_similar('tsa')"
   ]
  },
  {
   "cell_type": "code",
   "execution_count": 18,
   "metadata": {},
   "outputs": [
    {
     "data": {
      "text/plain": [
       "[('569716449704587265', 0.8207513093948364),\n",
       " ('569769643864408064', 0.8193365335464478),\n",
       " ('569724918016839681', 0.8040217757225037),\n",
       " ('569623156337586177', 0.7942930459976196),\n",
       " ('568668179158806529', 0.772573709487915),\n",
       " ('569341439148236800', 0.7655583620071411),\n",
       " ('569917692758630400', 0.7649120092391968),\n",
       " ('568925054089629696', 0.7628576755523682),\n",
       " ('568042975856619520', 0.7626336812973022),\n",
       " ('569915529496027136', 0.757616400718689)]"
      ]
     },
     "execution_count": 18,
     "metadata": {},
     "output_type": "execute_result"
    }
   ],
   "source": [
    "model_doc2vec.docvecs.most_similar('570085644015419393')"
   ]
  },
  {
   "cell_type": "markdown",
   "metadata": {},
   "source": [
    "The following tweets are quite similar according to the model: "
   ]
  },
  {
   "cell_type": "code",
   "execution_count": 19,
   "metadata": {},
   "outputs": [
    {
     "data": {
      "text/plain": [
       "array([\"USAirways  A few years ago I lost over 50,00 miles bc I was physically unable to fly during the period.  I submitted a doctor's note.\"],\n",
       "      dtype=object)"
      ]
     },
     "execution_count": 19,
     "metadata": {},
     "output_type": "execute_result"
    }
   ],
   "source": [
    "tweets_with_originals.loc[tweets_with_originals.tweet_id == 570085644015419393]['text_clean'].values"
   ]
  },
  {
   "cell_type": "code",
   "execution_count": 20,
   "metadata": {},
   "outputs": [
    {
     "data": {
      "text/plain": [
       "array(['SouthwestAir Teyana Taylor Performing #MedusaFridays 2[.] 27 Free Till11   #TheMenOfBusiness'],\n",
       "      dtype=object)"
      ]
     },
     "execution_count": 20,
     "metadata": {},
     "output_type": "execute_result"
    }
   ],
   "source": [
    "tweets_with_originals.loc[tweets_with_originals.tweet_id == 570274362936266752]['text_clean'].values"
   ]
  },
  {
   "cell_type": "code",
   "execution_count": 21,
   "metadata": {},
   "outputs": [
    {
     "data": {
      "text/plain": [
       "array(['USAirways #usairways lost a passenger today for not upholding their promise of excellent customer service!!'],\n",
       "      dtype=object)"
      ]
     },
     "execution_count": 21,
     "metadata": {},
     "output_type": "execute_result"
    }
   ],
   "source": [
    "tweets_with_originals.loc[tweets_with_originals.tweet_id == 569734884396302338]['text_clean'].values"
   ]
  },
  {
   "cell_type": "code",
   "execution_count": 22,
   "metadata": {},
   "outputs": [
    {
     "data": {
      "text/plain": [
       "array(['jetblue having trouble signing in to TrueBlue today, despite right credentials. getting \"We are not able to sign you in\" msg.'],\n",
       "      dtype=object)"
      ]
     },
     "execution_count": 22,
     "metadata": {},
     "output_type": "execute_result"
    }
   ],
   "source": [
    "tweets_with_originals.loc[tweets_with_originals.tweet_id == 570277054635057153]['text_clean'].values"
   ]
  },
  {
   "cell_type": "markdown",
   "metadata": {},
   "source": [
    "They are at least all negative sentiment tweets, so hopefully we're heading in the right direction. "
   ]
  },
  {
   "cell_type": "markdown",
   "metadata": {},
   "source": [
    "### TODO: different models with different hyperparameters, methods (DBOW vs not etc) as a list, test train split on all of these to test model (better accuracy -> better model (ish) "
   ]
  },
  {
   "cell_type": "markdown",
   "metadata": {},
   "source": [
    "# Sentiment Analysis"
   ]
  },
  {
   "cell_type": "markdown",
   "metadata": {},
   "source": [
    "The sentiments in our dataset are highly imbalanced: "
   ]
  },
  {
   "cell_type": "code",
   "execution_count": 15,
   "metadata": {},
   "outputs": [
    {
     "data": {
      "image/png": "[encoded data removed]",
      "text/plain": [
       "<Figure size 432x288 with 1 Axes>"
      ]
     },
     "metadata": {
      "needs_background": "light"
     },
     "output_type": "display_data"
    }
   ],
   "source": [
    "_ = sns.countplot(x = 'airline_sentiment', data = tweets_with_originals)"
   ]
  },
  {
   "cell_type": "markdown",
   "metadata": {},
   "source": [
    "There are a lot of strategies we could try to rebalance the dataset. The easiest would be oversampling the neutral/positive sentiment tweets. "
   ]
  },
  {
   "cell_type": "code",
   "execution_count": 61,
   "metadata": {},
   "outputs": [],
   "source": [
    "from sklearn.model_selection import train_test_split\n",
    "#TODO: finish this\n",
    "\n",
    "def doc2vec_train_test_split(trained_model, doc_ids, target_vec, test_size=.3):\n",
    "    '''\n",
    "    returns test train using paragraph vectors for tweets \n",
    "    (lookup based on tweet_id)\n",
    "    \n",
    "    '''\n",
    "    train_ids, test_ids = train_test_split(doc_ids, test_size = test_size)\n",
    "    train_docvec_idx = trained_model.vocabulary.indexed_doctags(train_ids, trained_model.docvecs)\n",
    "    test_docvec_idx = trained_model.vocabulary.indexed_doctags(test_ids, trained_model.docvecs)\n",
    "\n",
    "    X_train = np.array([trained_model.docvecs[idx] for idx in train_docvec_idx])\n",
    "    X_test = np.array([trained_model.docvecs[idx] for idx in test_docvec_idx])\n",
    "\n",
    "    y_train = target_vec.iloc[train_docvec_idx]\n",
    "    y_test = target_vec.iloc[test_docvec_idx]\n",
    "    return X_train, X_test, y_train, y_test"
   ]
  },
  {
   "cell_type": "code",
   "execution_count": 65,
   "metadata": {},
   "outputs": [],
   "source": [
    "# test split with oversampling ... try SMOTE \n",
    "from imblearn.over_sampling import SMOTE\n",
    "\n",
    "y = tweets_with_originals.airline_sentiment.map({'negative': 0, 'neutral':1, 'positive':2})\n",
    "\n",
    "# test_train split for TFIDF outputs \n",
    "tfidf_learning_inputs = []\n",
    "for M in tfidf_input_mats:\n",
    "    T_train, T_test, y_train, y_test = train_test_split(T, y, test_size=0.3)\n",
    "    sm = SMOTE() # smarter upsampling \n",
    "    T_train_sm, y_train_sm = sm.fit_sample(T_train, y_train.ravel())\n",
    "    tfidf_learning_inputs.append([T_train_sm, T_test, y_train_sm, y_test])"
   ]
  },
  {
   "cell_type": "code",
   "execution_count": null,
   "metadata": {},
   "outputs": [],
   "source": [
    "# test_train_split for Doc2Vec outputs\n",
    "#train"
   ]
  },
  {
   "cell_type": "markdown",
   "metadata": {},
   "source": [
    "## Method 1: TF-IDF output"
   ]
  }
 ],
 "metadata": {
  "kernelspec": {
   "display_name": "Python 3",
   "language": "python",
   "name": "python3"
  },
  "language_info": {
   "codemirror_mode": {
    "name": "ipython",
    "version": 3
   },
   "file_extension": ".py",
   "mimetype": "text/x-python",
   "name": "python",
   "nbconvert_exporter": "python",
   "pygments_lexer": "ipython3",
   "version": "3.6.7"
  }
 },
 "nbformat": 4,
 "nbformat_minor": 2
}
